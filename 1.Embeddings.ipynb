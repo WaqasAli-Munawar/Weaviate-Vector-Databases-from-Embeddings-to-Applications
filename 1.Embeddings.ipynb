{
 "cells": [
  {
   "cell_type": "markdown",
   "metadata": {
    "id": "LisLhUSeZFJM"
   },
   "source": [
    "## Where do embeddings come from?\n",
    "### Embedding MNIST images and NLP sentences into vectors."
   ]
  },
  {
   "cell_type": "markdown",
   "metadata": {
    "id": "BHOrPYK2yxEP"
   },
   "source": [
    "\n",
    "![image.png](data:image/png;base64,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)\n",
    "\n",
    "[Source](https://en.wikipedia.org/wiki/Variational_autoencoder)"
   ]
  },
  {
   "cell_type": "code",
   "execution_count": 1,
   "metadata": {
    "height": 183
   },
   "outputs": [
    {
     "name": "stderr",
     "output_type": "stream",
     "text": [
      "2024-06-14 06:42:52.619662: I tensorflow/tsl/cuda/cudart_stub.cc:28] Could not find cuda drivers on your machine, GPU will not be used.\n",
      "2024-06-14 06:42:52.661184: E tensorflow/compiler/xla/stream_executor/cuda/cuda_dnn.cc:9342] Unable to register cuDNN factory: Attempting to register factory for plugin cuDNN when one has already been registered\n",
      "2024-06-14 06:42:52.661227: E tensorflow/compiler/xla/stream_executor/cuda/cuda_fft.cc:609] Unable to register cuFFT factory: Attempting to register factory for plugin cuFFT when one has already been registered\n",
      "2024-06-14 06:42:52.661261: E tensorflow/compiler/xla/stream_executor/cuda/cuda_blas.cc:1518] Unable to register cuBLAS factory: Attempting to register factory for plugin cuBLAS when one has already been registered\n",
      "2024-06-14 06:42:52.669287: I tensorflow/tsl/cuda/cudart_stub.cc:28] Could not find cuda drivers on your machine, GPU will not be used.\n",
      "2024-06-14 06:42:52.670022: I tensorflow/core/platform/cpu_feature_guard.cc:182] This TensorFlow binary is optimized to use available CPU instructions in performance-critical operations.\n",
      "To enable the following instructions: AVX2 AVX512F FMA, in other operations, rebuild TensorFlow with the appropriate compiler flags.\n",
      "2024-06-14 06:42:53.641645: W tensorflow/compiler/tf2tensorrt/utils/py_utils.cc:38] TF-TRT Warning: Could not find TensorRT\n"
     ]
    }
   ],
   "source": [
    "import numpy as np\n",
    "import matplotlib.pyplot as plt\n",
    "\n",
    "from tensorflow.keras.datasets import mnist\n",
    "from tensorflow.keras.layers import Input, Dense, Lambda\n",
    "from tensorflow.keras.models import Model\n",
    "from tensorflow.keras import backend as K\n",
    "from tensorflow.keras import losses\n",
    "from scipy.stats import norm"
   ]
  },
  {
   "cell_type": "code",
   "execution_count": 2,
   "metadata": {
    "height": 47
   },
   "outputs": [
    {
     "name": "stdout",
     "output_type": "stream",
     "text": [
      "Downloading data from https://storage.googleapis.com/tensorflow/tf-keras-datasets/mnist.npz\n",
      "11490434/11490434 [==============================] - 0s 0us/step\n"
     ]
    }
   ],
   "source": [
    "# Load data – training and test\n",
    "(x_tr, y_tr), (x_te, y_te) = mnist.load_data()"
   ]
  },
  {
   "cell_type": "code",
   "execution_count": 3,
   "metadata": {
    "height": 81
   },
   "outputs": [],
   "source": [
    "#Normalize and Reshape images (flatten)\n",
    "x_tr, x_te = x_tr.astype('float32')/255., x_te.astype('float32')/255.\n",
    "x_tr_flat, x_te_flat = x_tr.reshape(x_tr.shape[0], -1), x_te.reshape(x_te.shape[0], -1)"
   ]
  },
  {
   "cell_type": "code",
   "execution_count": 4,
   "metadata": {
    "height": 47
   },
   "outputs": [
    {
     "name": "stdout",
     "output_type": "stream",
     "text": [
      "(60000, 28, 28) (10000, 28, 28)\n",
      "(60000, 784) (10000, 784)\n"
     ]
    }
   ],
   "source": [
    "print(x_tr.shape, x_te.shape)\n",
    "print(x_tr_flat.shape, x_te_flat.shape)"
   ]
  },
  {
   "cell_type": "code",
   "execution_count": 5,
   "metadata": {
    "height": 64
   },
   "outputs": [],
   "source": [
    "# Neural Network Parameters\n",
    "batch_size, n_epoch = 100, 50\n",
    "n_hidden, z_dim = 256, 2"
   ]
  },
  {
   "cell_type": "code",
   "execution_count": 6,
   "metadata": {
    "height": 47
   },
   "outputs": [
    {
     "data": {
      "image/png": "[encoded data removed]",
      "text/plain": [
       "<Figure size 640x480 with 1 Axes>"
      ]
     },
     "metadata": {},
     "output_type": "display_data"
    }
   ],
   "source": [
    "# Example of a training image\n",
    "plt.imshow(x_tr[1]);"
   ]
  },
  {
   "cell_type": "code",
   "execution_count": 7,
   "metadata": {
    "height": 115
   },
   "outputs": [],
   "source": [
    "# sampling function\n",
    "def sampling(args):\n",
    "    mu, log_var = args\n",
    "    eps = K.random_normal(shape=(batch_size, z_dim), mean=0., stddev=1.0)\n",
    "    return mu + K.exp(log_var) * eps"
   ]
  },
  {
   "cell_type": "code",
   "execution_count": 8,
   "metadata": {
    "height": 183
   },
   "outputs": [],
   "source": [
    "# Encoder - from 784->256->128->2\n",
    "inputs_flat = Input(shape=(x_tr_flat.shape[1:]))\n",
    "x_flat = Dense(n_hidden, activation='relu')(inputs_flat) # first hidden layer\n",
    "x_flat = Dense(n_hidden//2, activation='relu')(x_flat)  # second hidden layer\n",
    "\n",
    "# hidden state, which we will pass into the Model to get the Encoder.\n",
    "mu_flat = Dense(z_dim)(x_flat)\n",
    "log_var_flat = Dense(z_dim)(x_flat)\n",
    "z_flat = Lambda(sampling, output_shape=(z_dim,))([mu_flat, log_var_flat])"
   ]
  },
  {
   "cell_type": "code",
   "execution_count": 9,
   "metadata": {
    "height": 217
   },
   "outputs": [],
   "source": [
    "#Decoder - from 2->128->256->784\n",
    "latent_inputs = Input(shape=(z_dim,))\n",
    "z_decoder1 = Dense(n_hidden//2, activation='relu')\n",
    "z_decoder2 = Dense(n_hidden, activation='relu')\n",
    "y_decoder = Dense(x_tr_flat.shape[1], activation='sigmoid')\n",
    "z_decoded = z_decoder1(latent_inputs)\n",
    "z_decoded = z_decoder2(z_decoded)\n",
    "y_decoded = y_decoder(z_decoded)\n",
    "decoder_flat = Model(latent_inputs, y_decoded, name=\"decoder_conv\")\n",
    "\n",
    "outputs_flat = decoder_flat(z_flat)"
   ]
  },
  {
   "cell_type": "code",
   "execution_count": 10,
   "metadata": {
    "height": 217
   },
   "outputs": [],
   "source": [
    "# variational autoencoder (VAE) - to reconstruction input\n",
    "reconstruction_loss = losses.binary_crossentropy(inputs_flat,\n",
    "                                                 outputs_flat) * x_tr_flat.shape[1]\n",
    "kl_loss = 0.5 * K.sum(K.square(mu_flat) + K.exp(log_var_flat) - log_var_flat - 1, axis = -1)\n",
    "vae_flat_loss = reconstruction_loss + kl_loss\n",
    "\n",
    "# Build model\n",
    "#  Ensure that the reconstructed outputs are as close to the inputs\n",
    "vae_flat = Model(inputs_flat, outputs_flat)\n",
    "vae_flat.add_loss(vae_flat_loss)\n",
    "vae_flat.compile(optimizer='adam')"
   ]
  },
  {
   "cell_type": "code",
   "execution_count": 11,
   "metadata": {
    "height": 166
   },
   "outputs": [
    {
     "name": "stdout",
     "output_type": "stream",
     "text": [
      "Epoch 1/50\n",
      "600/600 [==============================] - 9s 13ms/step - loss: 192.8664 - val_loss: 168.3561\n",
      "Epoch 2/50\n",
      "600/600 [==============================] - 7s 11ms/step - loss: 164.6957 - val_loss: 161.3512\n",
      "Epoch 3/50\n",
      "600/600 [==============================] - 7s 11ms/step - loss: 158.5995 - val_loss: 156.6665\n",
      "Epoch 4/50\n",
      "600/600 [==============================] - 7s 11ms/step - loss: 154.3996 - val_loss: 152.9719\n",
      "Epoch 5/50\n",
      "600/600 [==============================] - 7s 11ms/step - loss: 151.2550 - val_loss: 150.1225\n",
      "Epoch 6/50\n",
      "600/600 [==============================] - 7s 11ms/step - loss: 148.6779 - val_loss: 147.8088\n",
      "Epoch 7/50\n",
      "600/600 [==============================] - 7s 11ms/step - loss: 146.7536 - val_loss: 146.9026\n",
      "Epoch 8/50\n",
      "600/600 [==============================] - 7s 11ms/step - loss: 145.1870 - val_loss: 145.5043\n",
      "Epoch 9/50\n",
      "600/600 [==============================] - 7s 11ms/step - loss: 143.8951 - val_loss: 144.1446\n",
      "Epoch 10/50\n",
      "600/600 [==============================] - 7s 11ms/step - loss: 143.0249 - val_loss: 143.2649\n",
      "Epoch 11/50\n",
      "600/600 [==============================] - 7s 11ms/step - loss: 142.1844 - val_loss: 143.1049\n",
      "Epoch 12/50\n",
      "600/600 [==============================] - 7s 11ms/step - loss: 141.5275 - val_loss: 142.1459\n",
      "Epoch 13/50\n",
      "600/600 [==============================] - 7s 12ms/step - loss: 140.8536 - val_loss: 141.6897\n",
      "Epoch 14/50\n",
      "600/600 [==============================] - 7s 11ms/step - loss: 140.5507 - val_loss: 141.0618\n",
      "Epoch 15/50\n",
      "600/600 [==============================] - 7s 11ms/step - loss: 139.9193 - val_loss: 140.9393\n",
      "Epoch 16/50\n",
      "600/600 [==============================] - 7s 11ms/step - loss: 139.5092 - val_loss: 140.8259\n",
      "Epoch 17/50\n",
      "600/600 [==============================] - 7s 11ms/step - loss: 139.3160 - val_loss: 140.6226\n",
      "Epoch 18/50\n",
      "600/600 [==============================] - 7s 11ms/step - loss: 138.9903 - val_loss: 140.2626\n",
      "Epoch 19/50\n",
      "600/600 [==============================] - 7s 11ms/step - loss: 138.5618 - val_loss: 139.9793\n",
      "Epoch 20/50\n",
      "600/600 [==============================] - 7s 11ms/step - loss: 138.3970 - val_loss: 139.4521\n",
      "Epoch 21/50\n",
      "600/600 [==============================] - 7s 11ms/step - loss: 137.8951 - val_loss: 139.5915\n",
      "Epoch 22/50\n",
      "600/600 [==============================] - 7s 11ms/step - loss: 137.8377 - val_loss: 139.3457\n",
      "Epoch 23/50\n",
      "600/600 [==============================] - 7s 11ms/step - loss: 137.4754 - val_loss: 138.9890\n",
      "Epoch 24/50\n",
      "600/600 [==============================] - 7s 11ms/step - loss: 137.2360 - val_loss: 138.6950\n",
      "Epoch 25/50\n",
      "600/600 [==============================] - 7s 11ms/step - loss: 136.9190 - val_loss: 138.7223\n",
      "Epoch 26/50\n",
      "600/600 [==============================] - 7s 11ms/step - loss: 136.8350 - val_loss: 139.0645\n",
      "Epoch 27/50\n",
      "600/600 [==============================] - 7s 11ms/step - loss: 136.7982 - val_loss: 138.3929\n",
      "Epoch 28/50\n",
      "600/600 [==============================] - 7s 11ms/step - loss: 136.3883 - val_loss: 138.3394\n",
      "Epoch 29/50\n",
      "600/600 [==============================] - 7s 11ms/step - loss: 136.1741 - val_loss: 138.0654\n",
      "Epoch 30/50\n",
      "600/600 [==============================] - 7s 11ms/step - loss: 136.4006 - val_loss: 138.0375\n",
      "Epoch 31/50\n",
      "600/600 [==============================] - 7s 12ms/step - loss: 136.0372 - val_loss: 137.6161\n",
      "Epoch 32/50\n",
      "600/600 [==============================] - 7s 11ms/step - loss: 135.6949 - val_loss: 137.6141\n",
      "Epoch 33/50\n",
      "600/600 [==============================] - 7s 11ms/step - loss: 135.6836 - val_loss: 137.9472\n",
      "Epoch 34/50\n",
      "600/600 [==============================] - 7s 11ms/step - loss: 135.8883 - val_loss: 137.4597\n",
      "Epoch 35/50\n",
      "600/600 [==============================] - 7s 11ms/step - loss: 135.5625 - val_loss: 137.4891\n",
      "Epoch 36/50\n",
      "600/600 [==============================] - 7s 11ms/step - loss: 135.2731 - val_loss: 137.4537\n",
      "Epoch 37/50\n",
      "600/600 [==============================] - 7s 11ms/step - loss: 135.2583 - val_loss: 137.3606\n",
      "Epoch 38/50\n",
      "600/600 [==============================] - 7s 11ms/step - loss: 135.2319 - val_loss: 137.2401\n",
      "Epoch 39/50\n",
      "600/600 [==============================] - 7s 11ms/step - loss: 135.1173 - val_loss: 137.0774\n",
      "Epoch 40/50\n",
      "600/600 [==============================] - 7s 11ms/step - loss: 134.9535 - val_loss: 137.0412\n",
      "Epoch 41/50\n",
      "600/600 [==============================] - 7s 11ms/step - loss: 134.8693 - val_loss: 137.1292\n",
      "Epoch 42/50\n",
      "600/600 [==============================] - 7s 12ms/step - loss: 134.8049 - val_loss: 136.5309\n",
      "Epoch 43/50\n",
      "600/600 [==============================] - 7s 11ms/step - loss: 134.6663 - val_loss: 136.6330\n",
      "Epoch 44/50\n",
      "600/600 [==============================] - 7s 11ms/step - loss: 134.5731 - val_loss: 136.8135\n",
      "Epoch 45/50\n",
      "600/600 [==============================] - 7s 11ms/step - loss: 134.6563 - val_loss: 136.6416\n",
      "Epoch 46/50\n",
      "600/600 [==============================] - 7s 11ms/step - loss: 134.3051 - val_loss: 136.9854\n",
      "Epoch 47/50\n",
      "600/600 [==============================] - 7s 11ms/step - loss: 134.2737 - val_loss: 136.6138\n",
      "Epoch 48/50\n",
      "600/600 [==============================] - 7s 11ms/step - loss: 134.0985 - val_loss: 136.3378\n",
      "Epoch 49/50\n",
      "600/600 [==============================] - 7s 11ms/step - loss: 134.2474 - val_loss: 136.5813\n",
      "Epoch 50/50\n",
      "600/600 [==============================] - 7s 11ms/step - loss: 134.0422 - val_loss: 136.2928\n"
     ]
    },
    {
     "data": {
      "text/plain": [
       "<keras.src.callbacks.History at 0x7f4dd2b1b910>"
      ]
     },
     "execution_count": 11,
     "metadata": {},
     "output_type": "execute_result"
    }
   ],
   "source": [
    "# train\n",
    "vae_flat.fit(\n",
    "    x_tr_flat,\n",
    "    shuffle=True,\n",
    "    epochs=n_epoch,\n",
    "    batch_size=batch_size,\n",
    "    validation_data=(x_te_flat, None),\n",
    "    verbose=1\n",
    ")"
   ]
  },
  {
   "cell_type": "markdown",
   "metadata": {},
   "source": [
    "### Visualize Embeddings"
   ]
  },
  {
   "cell_type": "code",
   "execution_count": 12,
   "metadata": {
    "height": 64
   },
   "outputs": [],
   "source": [
    "# Build encoders\n",
    "encoder_f = Model(inputs_flat, z_flat)  # flat encoder"
   ]
  },
  {
   "cell_type": "code",
   "execution_count": 13,
   "metadata": {
    "height": 149
   },
   "outputs": [
    {
     "data": {
      "image/png": "[encoded data removed]",
      "text/plain": [
       "<Figure size 800x600 with 2 Axes>"
      ]
     },
     "metadata": {},
     "output_type": "display_data"
    }
   ],
   "source": [
    "# Plot of the digit classes in the latent space\n",
    "x_te_latent = encoder_f.predict(x_te_flat, batch_size=batch_size,verbose=0)\n",
    "plt.figure(figsize=(8, 6))\n",
    "plt.scatter(x_te_latent[:, 0], x_te_latent[:, 1], c=y_te, alpha=0.75)\n",
    "plt.title('MNIST 2D Embeddings')\n",
    "plt.colorbar()\n",
    "plt.show()"
   ]
  },
  {
   "cell_type": "markdown",
   "metadata": {},
   "source": [
    "## Example: compare three embeddings"
   ]
  },
  {
   "cell_type": "code",
   "execution_count": 14,
   "metadata": {
    "height": 30
   },
   "outputs": [
    {
     "data": {
      "image/png": "[encoded data removed]",
      "text/plain": [
       "<Figure size 640x480 with 1 Axes>"
      ]
     },
     "metadata": {},
     "output_type": "display_data"
    }
   ],
   "source": [
    "plt.imshow(x_te_flat[10].reshape(28,28));"
   ]
  },
  {
   "cell_type": "code",
   "execution_count": 15,
   "metadata": {
    "height": 30
   },
   "outputs": [
    {
     "data": {
      "image/png": "[encoded data removed]",
      "text/plain": [
       "<Figure size 640x480 with 1 Axes>"
      ]
     },
     "metadata": {},
     "output_type": "display_data"
    }
   ],
   "source": [
    "plt.imshow(x_te_flat[13].reshape(28,28));"
   ]
  },
  {
   "cell_type": "code",
   "execution_count": 16,
   "metadata": {
    "height": 30
   },
   "outputs": [
    {
     "data": {
      "image/png": "[encoded data removed]",
      "text/plain": [
       "<Figure size 640x480 with 1 Axes>"
      ]
     },
     "metadata": {},
     "output_type": "display_data"
    }
   ],
   "source": [
    "plt.imshow(x_te_flat[2].reshape(28,28));"
   ]
  },
  {
   "cell_type": "code",
   "execution_count": 17,
   "metadata": {
    "height": 149
   },
   "outputs": [
    {
     "name": "stdout",
     "output_type": "stream",
     "text": [
      "Embedding for the first ZERO is  [ 1.3650465 -1.089568 ]\n",
      "Embedding for the second ZERO is [ 1.1240153 -0.8680362]\n",
      "Embedding for the ONE is         [-0.39141053  2.00074   ]\n"
     ]
    }
   ],
   "source": [
    "# calculate vectors for each digit\n",
    "zero_A = x_te_latent[10]\n",
    "zero_B = x_te_latent[13]\n",
    "one = x_te_latent[2]\n",
    "\n",
    "print(f\"Embedding for the first ZERO is  {zero_A}\")\n",
    "print(f\"Embedding for the second ZERO is {zero_B}\")\n",
    "print(f\"Embedding for the ONE is         {one}\")"
   ]
  },
  {
   "cell_type": "markdown",
   "metadata": {},
   "source": [
    "## Using more advanced models based on the Transformer architechture you can embed sentences aswell."
   ]
  },
  {
   "cell_type": "code",
   "execution_count": 18,
   "metadata": {
    "height": 81
   },
   "outputs": [
    {
     "data": {
      "application/vnd.jupyter.widget-view+json": {
       "model_id": "d6780fc5d5d54327844c90e6643a3fbd",
       "version_major": 2,
       "version_minor": 0
      },
      "text/plain": [
       "Downloading .gitattributes:   0%|          | 0.00/744 [00:00<?, ?B/s]"
      ]
     },
     "metadata": {},
     "output_type": "display_data"
    },
    {
     "data": {
      "application/vnd.jupyter.widget-view+json": {
       "model_id": "79f5e59e3c1d4cef82fd207451d9f8f7",
       "version_major": 2,
       "version_minor": 0
      },
      "text/plain": [
       "Downloading 1_Pooling/config.json:   0%|          | 0.00/190 [00:00<?, ?B/s]"
      ]
     },
     "metadata": {},
     "output_type": "display_data"
    },
    {
     "data": {
      "application/vnd.jupyter.widget-view+json": {
       "model_id": "76e34fff46ac4a3e8b87f4cce9158d6e",
       "version_major": 2,
       "version_minor": 0
      },
      "text/plain": [
       "Downloading README.md:   0%|          | 0.00/3.73k [00:00<?, ?B/s]"
      ]
     },
     "metadata": {},
     "output_type": "display_data"
    },
    {
     "data": {
      "application/vnd.jupyter.widget-view+json": {
       "model_id": "5e289126956946d0acdbd4e5943aec22",
       "version_major": 2,
       "version_minor": 0
      },
      "text/plain": [
       "Downloading config.json:   0%|          | 0.00/629 [00:00<?, ?B/s]"
      ]
     },
     "metadata": {},
     "output_type": "display_data"
    },
    {
     "data": {
      "application/vnd.jupyter.widget-view+json": {
       "model_id": "be3cfbfac5744cb18e64ad6073ccffaf",
       "version_major": 2,
       "version_minor": 0
      },
      "text/plain": [
       "Downloading (…)ce_transformers.json:   0%|          | 0.00/122 [00:00<?, ?B/s]"
      ]
     },
     "metadata": {},
     "output_type": "display_data"
    },
    {
     "data": {
      "application/vnd.jupyter.widget-view+json": {
       "model_id": "75640fda724f43479d50141baf0b404e",
       "version_major": 2,
       "version_minor": 0
      },
      "text/plain": [
       "Downloading model.safetensors:   0%|          | 0.00/90.9M [00:00<?, ?B/s]"
      ]
     },
     "metadata": {},
     "output_type": "display_data"
    },
    {
     "data": {
      "application/vnd.jupyter.widget-view+json": {
       "model_id": "15baf20a26744417bb2926436f0c1ce8",
       "version_major": 2,
       "version_minor": 0
      },
      "text/plain": [
       "Downloading pytorch_model.bin:   0%|          | 0.00/90.9M [00:00<?, ?B/s]"
      ]
     },
     "metadata": {},
     "output_type": "display_data"
    },
    {
     "data": {
      "application/vnd.jupyter.widget-view+json": {
       "model_id": "566f1a375397477482e4806e142c4c3a",
       "version_major": 2,
       "version_minor": 0
      },
      "text/plain": [
       "Downloading (…)nce_bert_config.json:   0%|          | 0.00/53.0 [00:00<?, ?B/s]"
      ]
     },
     "metadata": {},
     "output_type": "display_data"
    },
    {
     "data": {
      "application/vnd.jupyter.widget-view+json": {
       "model_id": "35014e264e1b4e54a13c71ae0b6e5368",
       "version_major": 2,
       "version_minor": 0
      },
      "text/plain": [
       "Downloading (…)cial_tokens_map.json:   0%|          | 0.00/112 [00:00<?, ?B/s]"
      ]
     },
     "metadata": {},
     "output_type": "display_data"
    },
    {
     "data": {
      "application/vnd.jupyter.widget-view+json": {
       "model_id": "182f8871ef924ec58ac0ffcc2aea77d8",
       "version_major": 2,
       "version_minor": 0
      },
      "text/plain": [
       "Downloading tokenizer.json:   0%|          | 0.00/466k [00:00<?, ?B/s]"
      ]
     },
     "metadata": {},
     "output_type": "display_data"
    },
    {
     "data": {
      "application/vnd.jupyter.widget-view+json": {
       "model_id": "2578838c9935477c8901bf7a6ca31731",
       "version_major": 2,
       "version_minor": 0
      },
      "text/plain": [
       "Downloading tokenizer_config.json:   0%|          | 0.00/314 [00:00<?, ?B/s]"
      ]
     },
     "metadata": {},
     "output_type": "display_data"
    },
    {
     "data": {
      "application/vnd.jupyter.widget-view+json": {
       "model_id": "6a1cf3fe641f49c785f15e23270b3f17",
       "version_major": 2,
       "version_minor": 0
      },
      "text/plain": [
       "Downloading vocab.txt:   0%|          | 0.00/232k [00:00<?, ?B/s]"
      ]
     },
     "metadata": {},
     "output_type": "display_data"
    },
    {
     "data": {
      "application/vnd.jupyter.widget-view+json": {
       "model_id": "ac729275a4c74b57b1e7f9854d568a84",
       "version_major": 2,
       "version_minor": 0
      },
      "text/plain": [
       "Downloading modules.json:   0%|          | 0.00/229 [00:00<?, ?B/s]"
      ]
     },
     "metadata": {},
     "output_type": "display_data"
    }
   ],
   "source": [
    "from sentence_transformers import SentenceTransformer\n",
    "\n",
    "model = SentenceTransformer('paraphrase-MiniLM-L6-v2')"
   ]
  },
  {
   "cell_type": "code",
   "execution_count": 19,
   "metadata": {
    "height": 98
   },
   "outputs": [],
   "source": [
    "#Sentences we want to encode. Example:\n",
    "sentence = ['The team enjoyed the hike through the meadow',\n",
    "            'The national park had great views',\n",
    "            'Olive oil drizzled over pizza tastes delicious']"
   ]
  },
  {
   "cell_type": "code",
   "execution_count": 20,
   "metadata": {
    "height": 98
   },
   "outputs": [
    {
     "name": "stdout",
     "output_type": "stream",
     "text": [
      "[[ 0.37061945  0.26414284  0.21265686 ...  0.14994553 -0.25794947\n",
      "  -0.23970735]\n",
      " [ 0.66933244  0.40094942 -0.48208368 ...  0.10645856 -1.5067159\n",
      "  -0.01547369]\n",
      " [-0.26555908  0.11172378 -0.14733066 ...  0.42197463  0.883946\n",
      "   0.10763898]]\n"
     ]
    }
   ],
   "source": [
    "#Sentences are encoded by calling model.encode()\n",
    "embedding = model.encode(sentence)\n",
    "\n",
    "#Preview the embeddings\n",
    "print(embedding)"
   ]
  },
  {
   "cell_type": "code",
   "execution_count": 21,
   "metadata": {
    "height": 30
   },
   "outputs": [
    {
     "data": {
      "text/plain": [
       "(3, 384)"
      ]
     },
     "execution_count": 21,
     "metadata": {},
     "output_type": "execute_result"
    }
   ],
   "source": [
    "embedding.shape"
   ]
  },
  {
   "cell_type": "code",
   "execution_count": 22,
   "metadata": {
    "height": 319
   },
   "outputs": [
    {
     "data": {
      "image/png": "[encoded data removed]",
      "text/plain": [
       "<Figure size 1000x100 with 2 Axes>"
      ]
     },
     "metadata": {},
     "output_type": "display_data"
    },
    {
     "data": {
      "image/png": "[encoded data removed]",
      "text/plain": [
       "<Figure size 1000x100 with 2 Axes>"
      ]
     },
     "metadata": {},
     "output_type": "display_data"
    },
    {
     "data": {
      "image/png": "[encoded data removed]",
      "text/plain": [
       "<Figure size 1000x100 with 2 Axes>"
      ]
     },
     "metadata": {},
     "output_type": "display_data"
    }
   ],
   "source": [
    "import seaborn as sns\n",
    "import matplotlib.pyplot as plt\n",
    "\n",
    "sns.heatmap(embedding[0].reshape(-1,384),cmap=\"Greys\",center=0,square=False)\n",
    "plt.gcf().set_size_inches(10,1)\n",
    "plt.axis('off')\n",
    "plt.show()\n",
    "\n",
    "sns.heatmap(embedding[1].reshape(-1,384),cmap=\"Greys\",center=0,square=False)\n",
    "plt.gcf().set_size_inches(10,1)\n",
    "plt.axis('off')\n",
    "plt.show()\n",
    "\n",
    "sns.heatmap(embedding[2].reshape(-1,384),cmap=\"Greys\",center=0,square=False)\n",
    "plt.gcf().set_size_inches(10,1)\n",
    "plt.axis('off')\n",
    "plt.show()"
   ]
  },
  {
   "cell_type": "markdown",
   "metadata": {},
   "source": [
    "## How can we measure the distance between these Image and Sentence Embeddings?\n",
    "\n",
    "There are many ways to calculate the distances between two vectors.\n",
    "\n",
    "Here we will cover 4 distance metrics that you might find being used in the context of vector databases:\n",
    "- Euclidean Distance(L2)\n",
    "- Manhattan Distance(L1)\n",
    "- Dot Product\n",
    "- Cosine Distance"
   ]
  },
  {
   "cell_type": "markdown",
   "metadata": {},
   "source": [
    "### Euclidean Distance(L2)\n",
    "The length of the shortest path between two points or vectors.\n",
    "\n",
    "![image.png](data:image/png;base64,iVBORw0KGgoAAAANSUhEUgAAA2IAAAGCCAYAAACCdHA5AAAMPmlDQ1BJQ0MgUHJvZmlsZQAASImVVwdYU8kWnluSkEBoAQSkhN4EkRpASggt9N5EJSQBQokxEFTs6KKCaxcL2NBVEQUrzYIidhbF3hcLKsq6WLArb1JA133le+f75t7//nPmP2fOnVsGALXjHJEoD1UHIF9YKI4N9qcnp6TSSU8BApQBGYwCBA63QMSMjg4H0IbOf7d316E3tCv2Uq1/9v9X0+DxC7gAINEQZ/AKuPkQHwQAr+KKxIUAEKW82ZRCkRTDBrTEMEGIF0pxlhxXSXGGHO+V+cTHsiBuB0BJhcMRZwGgegny9CJuFtRQ7YfYUcgTCAFQo0Psk58/iQdxOsTW0EcEsVSfkfGDTtbfNDOGNTmcrGEsn4vMlAIEBaI8zrT/sxz/2/LzJEMxLGFTyRaHxErnDOt2M3dSmBSrQNwnzIiMglgT4g8CnswfYpSSLQlJkPujBtwCFqwZ0IHYkccJCIPYAOIgYV5kuILPyBQEsSGGKwSdKihkx0OsC/FCfkFgnMJns3hSrCIW2pApZjEV/FmOWBZXGuu+JDeBqdB/nc1nK/Qx1eLs+CSIKRCbFwkSIyFWhdihIDcuTOEztjibFTnkI5bESvM3hziWLwz2l+tjRZnioFiFf1l+wdB8sc3ZAnakAu8vzI4PkdcHa+dyZPnDuWCX+EJmwpAOvyA5fGguPH5AoHzu2DO+MCFOofNBVOgfKx+LU0R50Qp/3JSfFyzlTSF2KSiKU4zFEwvhgpTr45miwuh4eZ54cQ4nNFqeD74MhAMWCAB0IIEtA0wCOUDQ2dfYB6/kPUGAA8QgC/CBvYIZGpEk6xHCYxwoBn9CxAcFw+P8Zb18UAT5r8Os/GgPMmW9RbIRueAJxPkgDOTBa4lslHA4WiJ4DBnBP6JzYOPCfPNgk/b/e36I/c4wIROuYCRDEelqQ57EQGIAMYQYRLTB9XEf3AsPh0c/2JxwBu4xNI/v/oQnhC7CQ8I1Qjfh1kRBifinLCNAN9QPUtQi48da4JZQ0xX3x72hOlTGdXB9YI+7wDhM3BdGdoUsS5G3tCr0n7T/NoMf7obCj+xIRskjyH5k659Hqtqqug6rSGv9Y33kuWYM15s13PNzfNYP1efBc9jPnthC7AB2BjuBncOOYI2AjrViTVgHdlSKh1fXY9nqGooWK8snF+oI/hFv6M5KK1ngWOvY6/hF3lfInyp9RwPWJNE0sSAru5DOhF8EPp0t5DqMojs5OjkDIP2+yF9fb2Jk3w1Ep+M7N+8PALxbBwcHD3/nQlsB2OcOH//m75w1A346lAE428yViIvkHC49EOBbQg0+aXrACJgBazgfJ+AGvIAfCAShIArEgxQwAWafDde5GEwBM8BcUArKwTKwGqwHm8BWsBPsAftBIzgCToDT4AK4BK6BO3D19IAXoB+8A58RBCEhVISG6CHGiAVihzghDMQHCUTCkVgkBUlHshAhIkFmIPOQcmQFsh7ZgtQg+5Bm5ARyDulCbiEPkF7kNfIJxVAVVAs1RC3R0SgDZaJhaDw6Hs1CJ6PF6Hx0CboWrUZ3ow3oCfQCeg3tRl+gAxjAlDEdzASzxxgYC4vCUrFMTIzNwsqwCqwaq8Na4H2+gnVjfdhHnIjTcDpuD1dwCJ6Ac/HJ+Cx8Mb4e34k34O34FfwB3o9/I1AJBgQ7gieBTUgmZBGmEEoJFYTthEOEU/BZ6iG8IxKJOkQrojt8FlOIOcTpxMXEDcR64nFiF/ERcYBEIumR7EjepCgSh1RIKiWtI+0mtZIuk3pIH5SUlYyVnJSClFKVhEolShVKu5SOKV1Weqr0maxOtiB7kqPIPPI08lLyNnIL+SK5h/yZokGxonhT4ik5lLmUtZQ6yinKXcobZWVlU2UP5RhlgfIc5bXKe5XPKj9Q/qiiqWKrwlJJU5GoLFHZoXJc5ZbKGyqVakn1o6ZSC6lLqDXUk9T71A+qNFUHVbYqT3W2aqVqg+pl1ZdqZDULNabaBLVitQq1A2oX1frUyeqW6ix1jvos9Ur1ZvUb6gMaNI0xGlEa+RqLNXZpnNN4pknStNQM1ORpztfcqnlS8xENo5nRWDQubR5tG+0UrUeLqGWlxdbK0SrX2qPVqdWvrantop2oPVW7UvuodrcOpmOpw9bJ01mqs1/nus6nEYYjmCP4IxaNqBtxecR73ZG6frp83TLdet1rup/06HqBerl6y/Ua9e7p4/q2+jH6U/Q36p/S7xupNdJrJHdk2cj9I28boAa2BrEG0w22GnQYDBgaGQYbigzXGZ407DPSMfIzyjFaZXTMqNeYZuxjLDBeZdxq/JyuTWfS8+hr6e30fhMDkxATickWk06Tz6ZWpgmmJab1pvfMKGYMs0yzVWZtZv3mxuYR5jPMa81vW5AtGBbZFmsszli8t7SyTLJcYNlo+cxK14ptVWxVa3XXmmrtaz3Zutr6qg3RhmGTa7PB5pItautqm21baXvRDrVzsxPYbbDrGkUY5TFKOKp61A17FXumfZF9rf0DBx2HcIcSh0aHl6PNR6eOXj76zOhvjq6OeY7bHO+M0RwTOqZkTMuY1062TlynSqerzlTnIOfZzk3Or1zsXPguG11uutJcI1wXuLa5fnVzdxO71bn1upu7p7tXud9gaDGiGYsZZz0IHv4esz2OeHz0dPMs9Nzv+ZeXvVeu1y6vZ2OtxvLHbhv7yNvUm+O9xbvbh+6T7rPZp9vXxJfjW+370M/Mj+e33e8p04aZw9zNfOnv6C/2P+T/nuXJmsk6HoAFBAeUBXQGagYmBK4PvB9kGpQVVBvUH+waPD34eAghJCxkecgNtiGby65h94e6h84MbQ9TCYsLWx/2MNw2XBzeEoFGhEasjLgbaREpjGyMAlHsqJVR96KtoidHH44hxkTHVMY8iR0TOyP2TBwtbmLcrrh38f7xS+PvJFgnSBLaEtUS0xJrEt8nBSStSOpOHp08M/lCin6KIKUplZSamLo9dWBc4LjV43rSXNNK066Ptxo/dfy5CfoT8iYcnag2kTPxQDohPSl9V/oXThSnmjOQwc6oyujnsrhruC94frxVvF6+N38F/2mmd+aKzGdZ3lkrs3qzfbMrsvsELMF6wauckJxNOe9zo3J35A7mJeXV5yvlp+c3CzWFucL2SUaTpk7qEtmJSkXdkz0nr57cLw4Tby9ACsYXNBVqwR/5Dom15BfJgyKfosqiD1MSpxyYqjFVOLVjmu20RdOeFgcV/zYdn86d3jbDZMbcGQ9mMmdumYXMypjVNtts9vzZPXOC5+ycS5mbO/f3EseSFSVv5yXNa5lvOH/O/Ee/BP9SW6paKi69scBrwaaF+ELBws5FzovWLfpWxis7X+5YXlH+ZTF38flfx/y69tfBJZlLOpe6Ld24jLhMuOz6ct/lO1dorChe8WhlxMqGVfRVZaverp64+lyFS8WmNZQ1kjXda8PXNq0zX7ds3Zf12euvVfpX1lcZVC2qer+Bt+HyRr+NdZsMN5Vv+rRZsPnmluAtDdWW1RVbiVuLtj7ZlrjtzG+M32q2628v3/51h3BH987Yne017jU1uwx2La1FayW1vbvTdl/aE7Cnqc6+bku9Tn35XrBXsvf5vvR91/eH7W87wDhQd9DiYNUh2qGyBqRhWkN/Y3Zjd1NKU1dzaHNbi1fLocMOh3ccMTlSeVT76NJjlGPzjw22FrcOHBcd7zuRdeJR28S2OyeTT15tj2nvPBV26uzpoNMnzzDPtJ71PnvknOe55vOM840X3C40dLh2HPrd9fdDnW6dDRfdLzZd8rjU0jW269hl38snrgRcOX2VffXCtchrXdcTrt+8kXaj+ybv5rNbebde3S66/fnOnLuEu2X31O9V3De4X/2HzR/13W7dRx8EPOh4GPfwziPuoxePCx5/6Zn/hPqk4qnx05pnTs+O9Ab1Xno+7nnPC9GLz32lf2r8WfXS+uXBv/z+6uhP7u95JX41+HrxG703O966vG0biB64/y7/3ef3ZR/0Puz8yPh45lPSp6efp3whfVn71eZry7ewb3cH8wcHRRwxR/YrgMGGZmYC8HoHANQUAGhwf0YZJ9//yQyR71llCPwnLN8jyswNgDr4/x7TB/9ubgCwdxvcfkF9tTQAoqkAxHsA1Nl5uA3t1WT7SqkR4T5gc/TXjPwM8G9Mvuf8Ie+fz0Cq6gJ+Pv8LuZ58UBU1tfYAAACWZVhJZk1NACoAAAAIAAUBEgADAAAAAQABAAABGgAFAAAAAQAAAEoBGwAFAAAAAQAAAFIBKAADAAAAAQACAACHaQAEAAAAAQAAAFoAAAAAAAAAkAAAAAEAAACQAAAAAQADkoYABwAAABIAAACEoAIABAAAAAEAAANioAMABAAAAAEAAAGCAAAAAEFTQ0lJAAAAU2NyZWVuc2hvdFe/SYgAAAAJcEhZcwAAFiUAABYlAUlSJPAAAALXaVRYdFhNTDpjb20uYWRvYmUueG1wAAAAAAA8eDp4bXBtZXRhIHhtbG5zOng9ImFkb2JlOm5zOm1ldGEvIiB4OnhtcHRrPSJYTVAgQ29yZSA2LjAuMCI+CiAgIDxyZGY6UkRGIHhtbG5zOnJkZj0iaHR0cDovL3d3dy53My5vcmcvMTk5OS8wMi8yMi1yZGYtc3ludGF4LW5zIyI+CiAgICAgIDxyZGY6RGVzY3JpcHRpb24gcmRmOmFib3V0PSIiCiAgICAgICAgICAgIHhtbG5zOmV4aWY9Imh0dHA6Ly9ucy5hZG9iZS5jb20vZXhpZi8xLjAvIgogICAgICAgICAgICB4bWxuczp0aWZmPSJodHRwOi8vbnMuYWRvYmUuY29tL3RpZmYvMS4wLyI+CiAgICAgICAgIDxleGlmOlBpeGVsWERpbWVuc2lvbj44NjY8L2V4aWY6UGl4ZWxYRGltZW5zaW9uPgogICAgICAgICA8ZXhpZjpVc2VyQ29tbWVudD5TY3JlZW5zaG90PC9leGlmOlVzZXJDb21tZW50PgogICAgICAgICA8ZXhpZjpQaXhlbFlEaW1lbnNpb24+Mzg2PC9leGlmOlBpeGVsWURpbWVuc2lvbj4KICAgICAgICAgPHRpZmY6UmVzb2x1dGlvblVuaXQ+MjwvdGlmZjpSZXNvbHV0aW9uVW5pdD4KICAgICAgICAgPHRpZmY6WVJlc29sdXRpb24+MTQ0PC90aWZmOllSZXNvbHV0aW9uPgogICAgICAgICA8dGlmZjpYUmVzb2x1dGlvbj4xNDQ8L3RpZmY6WFJlc29sdXRpb24+CiAgICAgICAgIDx0aWZmOk9yaWVudGF0aW9uPjE8L3RpZmY6T3JpZW50YXRpb24+CiAgICAgIDwvcmRmOkRlc2NyaXB0aW9uPgogICA8L3JkZjpSREY+CjwveDp4bXBtZXRhPgq1mwtMAABAAElEQVR4Aex9B3wU17X+QRUQKiAJ0SQhqiii996Lwb33uMRJ7DjPeX55L/8kz3kv5eXlObEd23Hs2HFvMTYu9N57RyC6CupCEggJSUgC/ue7YsTs7GxV2dXuOfwW7c7O3Ln3mzuz57untSkpKblG1+XatYa32ib5KwgIAoJAsyDQpk2bZmnXGxptibE11zmaq11Xros39MGV/sq+goAgIAgIAoKAOwgE6Q+SHz89GvJeEBAEBAHnEWip52dznae52nUewfo9vaUfrvZb9hcEBAFBQBAQBFxFwIKIuXqw7C8ICAKCgD8i0NJkoTnP15xtuzo3vKkvrvZd9hcEBAFBQBAQBFxFQIiYq4jJ/oKAIOCzCHgTEWiJvrTEOZydLN7UF2f7LPsJAoKAICAICAKNQUCIWGPQk2MFAUGgVSHg7cp+S/Wvpc7j7OTwtv4422/ZTxAQBAQBQUAQaAwCQsQag54cKwgIAi2KgC8p7C09lpY+n7MTw1v75Wz/ZT9BQBAQBAQBQcBdBILkR9Bd6OQ4QUAQEAScR8ATz1pPnNN5RIi8vX+ujEX2FQQEAUFAEBAEXEVALGKuIib7CwKCgCDgBAKeJhmePr8jiLy9f476L98LAoKAICAICAKNRUCIWGMRlOMFAUFAELiOgDeQC2/og6MJ0Rr66GgM8r0gIAgIAoKAINBYBISINRZBOV4QEAT8FgFvIhTe1Bd7E6K19NPeGOQ7QUAQEAQEAUGgKRAQItYUKEobgoAg0CoR8AVS0JrG0Jr62iontHRaEBAEBAFBoFUhIESsVV0u6awgIAjoEfBnxb61jb219Vc/z+S9ICAICAKCgCDQHAgIEWsOVKVNQUAQaFIERImvh7O14tBa+92kk1gaEwQEAUFAEBAEDAhI+noDIPJREBAEBAFvQcAXCIwvjMFb5oP0QxAQBAQBQcC3EBCLmG9dTxmNICAItFIEfJGw+OKYWun0km4LAoKAICAIeCECQsS88KJIlwQBQcD3EfB1kuLr4/P9GSojFAQEAUFAEGhuBISINTfC0r4gIAgIAoyAvxATfxmnTGpBQBAQBAQBQaCxCAgRayyCcrwgIAgIAiYI+AMh8Ycxmlxa2SQICAKCgCAgCDQJAkLEmgRGaUQQEAQEAd+3egnxklkuCAgCgoAgIAg0HQJCxJoOS2lJEBAEfAABIRvWF1EwscZEtggCgoAgIAgIAo1FQIhYYxGU4wUBQaBVIyAkw/blE2xsYyPfCAKCgCAgCAgCjUVAiFhjEZTjBQFBoNUgIMTC+UslWDmPlewpCAgCgoAgIAi4g4AUdHYHNTlGEBAEBAEfRkBImA9fXBmaICAICAKCgNcgEOA1PZGOCAKCgCAgCHgcASFhHr8E0gFBQBAQBAQBP0FAiJifXGgZpiAgCAgCjhAQEuYIIfleEBAEBAFBQBBoOgSEiDUdltKSICAICAKtFgEhYa320knHBQFBQBAQBFopApKso5VeOOm2ICAICAJNgYAQsKZAUdoQBAQBQUAQEARcR0CImOuYyRGCgCAgCLRaBIR4tdpLJx0XBAQBQUAQ8DEEhIj52AWV4QgCgoB/IyBEy7+vv4xeEBAEBAFBoPUgIESs9Vwr6akgIAj4OQJCsvx8AsjwBQFBQBAQBHwKASFiPnU5ZTCCgCDgiwgIAfPFqypjEgQEAUFAEPB3BISI+fsMkPELAoKA1yIgBMxrL410TBAQBAQBQUAQaDQCQsQaDaE0IAgIAoJA0yIgBKxp8ZTWBAFBQBAQBAQBb0RAiJg3XhXpkyAgCPgVAkK8/Opyy2AFAUFAEBAEBAGFgBAxmQiCgCAgCLQgAkK6WhBsOZUgIAgIAoKAIODFCLQYEaupqaOrV695MRTSNUFAEBAEmg8BZwhYSEgQBQS0ab5OSMuCgCAgCAgCgoAg4DUItAgRu3y5lvLzzisi5iklQxHBK1cpJDTYY4qO9KF+3gsOljiE8pxs4yHlW7sWoW25D208QwB8vQ/O4gocOneOpIjI9h57RnnNL5N0RBAQBAQBQUAQ8AMEWoSIlZVVUnl5FUVHhxNWfD0hxcUXqaqqRik50gcP43Du+rWIak8hwR6aD9f7EMl9CPZQH85xH6p5TkZGhXEfAj1xW5D0oR72psTBWeJlvODnisoIz6mwDm2ZiHlmPhj7JJ8FAUFAEBAEBAFBoPkQCHJXaXClSzhHRER7iomNIKz+e0LgFFl56TLFxkayVcwzyv817kRlO+4Dr3p7igx6TR8qr18LDxFzhQP3IQbzwUN9uMqdqKqsUfeFp/sQy/dmsKdwYJdlLJLEduY+eIgUw226vg+RHiPFV9hijz6ICAKCgCAgCAgCgoB/IOAZRuIf2MooBQFBQBAQBAQBQcDLELjGi2BpR7Lp9OkCq54lJsbSwEHxHluwteqQD26AG/ba1YeptrbOYnTt24Uy9j2oe3y0xfaW+oAwmrSjOXQ265zVKZMHdKfevbtQkIe8V6w6JBt8BgEhYj5zKWUggoAgIAi0bgTKLlRSQcF5ulRRTdXVtQSrMSQuLpLasZLWmf96ynrcupGV3usRgAV886Y0+uLzHfrN6v3Cm0dS775d3CZiRYUXaNeOU1TIrsZQ3ocNT6IO7G4scgOBCg5V+dtrK6mCvZT0gvv8+z+cZUXEamuvUG5OCRUWXFDxsz17xVFMTHiTxzXDa2rNyoO0YvlBfbfU+yeemkEJTNKFiFlBIxsaiYAQsUYCKIcLAoKAICAIuI/AhfMVtHvXaTqSmk35ueepuASxk7WEVfNr/A8SxXGUoew6G8Nu3YMG91DKbXxCNIWFiYLrPvL+eyQsYuUXq6gg/4IVCIhnd1dKS8rp26/30KJ/7qALvKjQgy07vXp1prZtQ9xtUh03Z95QGjOuL7fjmdCORnXe5OAatoQVFpZx7oBqi28RxmJ0z87KLKI1qw7Tvj1n+NlQTgG8T1xcFE2fNZhuuW00BQYGWLTRmA8g6LhuZvMCYQQigkBzICBErDlQlTYFAUFAEBAE7CJw8WIlbdl4jNasPkQnT+Sr1W5lBWNlyJZA6dq66Rh17daReveJIyioI0f3pvbtQ20dItsFgRZBAAsH+/amMxHbS9lnS9Q5j7GbG16NlcSesTRiZC8iHyFizuIBsrz0u3302cdb6fz5S7oSSGfp2LFcCgoKpJtvHeVsc7KfIOCVCAgR88rLIp0SBAQBQcB3EcjPP8/K1RZavvSAImB1dVedGiwSmhSwexJex9JylOI7bHhPpYwNH5nUaMuDU52QnQQBEwTgTnsk9SxlZVrHF5nsLpucQAB4blx/lEpKKqz2zskuobffXCtEzAoZ2dDaEBAi1tqumPRXEBAEBIFWjEARx858+N5GWrxoF13kFW93BdazjPQiVaPyWFouIYZj1pyhPuO+5S4ucpxnEEA25k5coqdtu2CqKL/imU742Fmx4FLELoy2JP1MIaHsBzJRiwgCrRWBpnOuba0ISL8FAUFAEBAEWgSBOg66P3wwixZxkoTGkDB9Z0HITp7I42D+UnZdcs6ypj9e3gsCTYEA3GOnzxjEiwFDmqI5aYMRgAUcL1uC70JCfCNuztYYZbvvIyAWMd+/xjJCQUAQEAS8AgFYw+CSeMmQLU3rHBIb3PfQJBo7rh9FR3egNgFt1FcXy6ro6NGztGzJPiZyZ6mkuFw7RP0dP7EfTZyczJkVG5cUwaJR+SAIuIAAEk30iI+hlJQEWrF0P12+bEjNzkStV5/OFOJG+vMuXaOaNCmFC8Py6K4JCTHUg5PymLkmomPIbhkR2c6jfZSTCwKNRUCIWGMRlOMFAUFAEBAEHCKAjGT5eedpx/ZTpvvOXzCcfvwv86lnUmeVlpr12gbp1KkDJSbG0Lz5w1Ubr7y0lJZ9t199P2hwPD32xAzOphjf5OmsGzogbwQBJxAI4IWDtrwYEBIabEXEkpJi6S+vP65KMDjRlMUuAQEBKm27xUY/+DB0WE+aOCmZTp8ssFq8QUmAl1/9ntzzfjAPfH2IQsR8/QrL+AQBQUAQ8AIEULw1Pb2AkDrcKIk9Y+j2O8dQr95xxq8aPsM6FkiwOkTT7//wAE2aPEAF6y+8ZaSyhjXsKG8EAQ8joFtDuNET3hjIWf6Q6U/EOQRCOUvko49NI5SqQDbK45ygB5lTkTH1l7++i/qwRUxEEGjtCAgRa+1XUPovCAgCgkArR6BHj2iK5gKtzgoUtNvuGEMLuPguLG0igoAg4JsIRES253t9rHr55ghlVP6OgBAxf58BMn5BQBAQBFoAAVgJbFkDyjn1d3WV6wVTg92It6mru0KXKi5TVXUN1XLtJwhcv9BWu/YhqiaZsUgsMrOxDxR17BhmNQZY+NCmWQr+EC5CbWxLnVD3HxIOoAaVUeDmhuMRe2RPcH7EI1VeqqZa7sfVK1wGm7cFBwepDH4oeo22IEiWgn30guZxXWxdGxDdcq75hqQIwEeTWm6rgq9bTU0tXeHyAxgnYvTah4XabAvHYryIEay5XKtwQ/sYI44P5cyDKH4czOPW+qydz5m/6lpwvyp5LgHTK8CD20dbSKaB/gOX1ixqrvEYjcsPgZgv7BJpT4AFrpfRKI05AFwczVWtbSTIuczXDy/MNyTJwTUM4GuIOduOF0rwF58bK2gbcw19N4qzMaHaPYJi0ZgXV3kOYhvwwpzT3yPGc7j6GdjW1eF+rD9X3RW+VpjjfH2CAgNVVlcsJOF54+jeNjs3cKjmZxeK3sPL4AoSFPE5QzEWbhcumxCMD7iZJTux91xSz0e+P9E/Y31GtFfJ3+G6o12cA89OZAoFhu48j83G6G/bWvcTyd+uloxXEBAEBIFWigDcsuK6dFQ/3MbshumnC7lAax4NGBTfbAk3oEQUcjpsZFjcteOkqkOWl39BKZEdWInoHBdJQ4YmcqKQvpQ8sAdFRLRTihIKyb7wy8+Vknrn3eOoZ1Kcst7he0gVK0Sph7PozKl8qyszbmJ/6snFeKGs2JLMjCLVH+P3nTklN47XFCvj91DIyi5cotzc0vqaanvOEJKhgGRCmeocF0UDB3WnCRxjk5gYy32OoIMHMtT49W21ZeUNuA/gMWuCti+zsnfu3EXKZ4zWctHtgfz97XeNU8rXBcbk4IFM2rThCJ3NKqayskoKZzwGDU6g8RP60UCO14uKClMESGvzEhPFAm4rP+8C7d51kuttFVMxtw+lMpAV1Mio9oxtLPVP7kb9+nWjRI4VDA9vZ9GG1pbxLxTCysoalTkz/UwBHTqYyUWVi6mU609BaQS5G8r15kaO6sWYxHO68whjE63mc9rRbEo7km1FTOK6RNHM2fYzNuK64ZqBkOgFhAaF0RN4ntgSzInzpRUqnfyRVJ7vnDo+k8tHVLBiXlV5Wc1x3BPxnGAjeUB3lUgD865jpzBF8my162h7HseVHua5doHnulHufWCSXfKIeVFeXk2oOQbcUg9lUTa/R6FoPIPiE2IJCYImThlAiOFrjOBcuA8QB5uZcY7vj3RV2LuUMcOCD8gPyhvAnbJv367UnzGCm7WzZBLEB23l8f1+YF86nTiex/fmeS6VUK3uyZ694qgftz1tZgrF8bMsMCiADvH9jvtTL1hwmTxtIHXt2lG/mdupokIuFYBi5Lt3nqR+/bvRbXeOVfvU8EIPni2o3bhn92lC2YCLPFb0Cf3H9R7Dz008Q7rwPMRCiojzCAhazmMlewoCgoAgIAi4iQBW2/Ej3bVblFKY9c3AsrJ40U61qosU4B05OYc7FhF9m/r3sLZt2XKcvvt6N23dfJyV/1r91+r9KU4IsG3LCVr0zx103wMTlVILpWnxoh2svB5Tyg7+pgyJpxms7My9aZhSOivKKzmb415Oyb/Tqs0/vPggwe0yJMQ2EQOh+e1/fWV17KQpyYrQmBExkMrTJ/O5IPZ+WrZ0nyI3xgbSjuaqYriffryNbuJEKA89OoUWfbGdMdhnsSsSoaAGm0bEylkhO3UinxW9XCZgh7lodoYiM8Di5ttGKzL75Rc76PNPtxMUe73s2nGalny7l574/gwmbWOZzLZXX4MUbVx/hL7+ajcrc7n6Qyze49pAevXuTPMXjCBgACUPRMqWQBkEwdu44Sgt5XMfZZICfIyyf18Gfbt4DxPTfgQFHgStNQqu96cfbrWywI4d39chEcvPL6GX/7yMa29dtBg6FPff/M99NokYCNhJnhPr1hymlcsPUjFnLQXxMJVtJ9VmkN3JUwfwvTKYkHSjE2dBtbcgYdoWb8Qix2t/WaHIjXGfO+4eb5OIwfKFOoOYd8hiCeJotFrjHoEs5nl508LhNG36oHoLk/FEDj5jvp05nU+rVhzkcx2gLAP50R++fu0R9XHY8ES6he+ncbxwkcQkyp5gEePY0RxasWw/jydNESbMe71gLCvZ6oax3MxxsyDWX36xk/t0SL+berYm9uzcQMRASkGwDjNJXbPqEOE5iHsD/Zo1dyhbrusU+fr6q11M0E5bkXg0jmfEJx9tpSl8ve/lZyfid1FXT8Q5BAQp53CSvQQBQUAQEAQaiQBc+2bOTuGCzpusWkpjReOPv/9aWZamMRlL4pXq2NjIhhT2Vgc4uQGr/8u+20d/fnGJFXEwa6L4XDm9/peVtI8tTD94eg59982eBqUTlqYD+zPZCnWeIju2V0TMrI3m3Kb6wCvi77y1lrZcJy72zgey9OnHW9WKdkVFlb1d1XewHrzx2kraueOUhVvT6VMFbFXIoa+/3KlImK2GcD6s3MNdEXIk9Sx9+O5GWrXykHILs3Wcfnv6mSL666srFbl64KFJimCA1MGFTi9QRrMyz9FH72+iJXyNLzGhtyfo11LOtnmAyW+sCzGJ9tp09juQACwIwHrkSILYLcxbXChhCfmGlXuQ7/pafTYImGFQIHso2r5j2wkVy3nPfROUBcgddzxD0w4/4p7ft/cMfcTPmR3bT5oSc30jsJR//OEW2s/3lZXPp35Hk/cgYevWptI/P9mq7hmTXUw3HTyQxVazLJoxazA98r2pNGJUb1PXvovsFrxx3VHu32ZFmIxkUt84rJawgH3A4z7IVmFYiR0Jru9Pn31f3bP6fWHZW83EMienhL5ZvNt0sUe/P97jeZTB1sCf/fwqzWYSJ+IcAkLEnMNJ9hIEBAFBQBBoJAIIvJ85K4W2bjrGGRSLrFqDZex9Vtp3bD+h3MiwqgtLDeozuRt/8C1bwf7y0nKnSJi+Q0izD8tZ+plz+s3KXRFujOMn9LfY3hIfoGiBDL3+6gras+uMS6dcuzpVxac4Oghj6xDetoF86vd/8/VVSrHVbzO+R+bLceP7qZX3M0zeXn1pmVJQzaxUxmONn4+mZtOf/2+Jcr+6mxV5vRsXLDJwzfr4g020+MtdTpM8nCM3u1S9jOdrzs+wIoHMmFk4jecdlBKvXGQ9TcZAUNDnL7gAexG7rbkjcEVd+u0+GjO2L3Vn67CRTLvTpr1jQM5h4fn7G2vYkuP8PQL3wUNMjFyVLZvT6H9/97WyFLt6LPaHhSyDrXW/+q+7lBuxvg0susAK9c7f1ypLlf47e+/xHN2x7ZRyT7S3H76De2R4RFsrIgY3RZy3sOAiEzrHiwdoC/dkLhO3txh7WLLhpiriGAEhYo4xkj0EAUFAEBAEmgABuCcOGNSDHn18Gr37zgZlzTBr9sRxuMbl0+pVhxUhSxmSyLE9PWgIuziFcTIIZwUKzt9eX21KwuD6GMUWuh49Oqn4Jqw0IyYqL6e0wXUR1i+jwFqhCs2yAtPSAhexD9/baJOEIUZHESkO2EcQfx5b7nAMCBzEzCXTOIZojmNJ4vgsBOpDodPLhvVHGz7iWsbGhnNB3fbKlQmWRFg7QLShhGFF/QPuK1wCjSQMyjjaR1py/IUbGYjK+dJLVi6DiPN67531SmGcyq5jWkIJWD1WLjvAFsu9piQMsTBxXSIphi1fOAYxRohLM7p0NQyomd+gCPk7b61z6iz3PThRufN5kojh2sMV7kt21bVFwpDoAtlOQS4xxxDvV3ahUsVl6Qc6gGMVu3VHfKjBpKnfqYneFzA5/+KzbSqG0axJLOh053se934AT0SQeZBFdwSxUq+9ssKUhGGs8ABAMW4k0kCCGsxx4AOCpRdYkd7gRY6Y2AgVm6V9B9dKuGzDXdBMEHeGewj3IFwIi4svcl/qCTNi4K7WWLovmrWBvg0f0VPdG/rvkZQjI91yEQrPl+iYDrxbG76fKhvixPTHYR7Aqg635seenKH/St7bQECImA1gZLMgIAgIAoJA0yOABAxz5g9T2fs+/mALx35YW8a0s0K5R4zDpg1pKvh/NFvIkHRhFP+F0uJIPmN3odKScqvdEEyeMiSBbr51lArSh9sblKOic2W0f0+6ioNBkgqzOJggVuo7sluiJ2TVigPsrpdmdWoQDRDV2XOHcDKArkox1ojYts3H2GXomJVybNWIbgPIHAivkYhhF5CtLkxwbuO6byi+HRnZjslTXT2B5dgSkCXE+MGVCnFbUED1AgV1EidHQFIP1INClkWlRDIJRnzXujWp7A5Vqj+ECli5fPft9ey+1UslAYGyd+pknrLWGNvHgVC0EZ+E5BxIeoLEBXCZTD18VrlZacqqxUnkgwUCh9h9cwlbsoC9mYwd10dZcIB1hw6hTMRA9GtUAhZYu9OO5KiEEkjWMWfeMGUNM2unKbeBnG/feoJWrzxsRf5xnsF8zyOOCQsFiojxXMSCAebF12xVRWIPV+STjzar2DnjMZj/M2YOouEje6mYWEXEOIkOiNIudvndyAsaFzk2Sy+wxn3A3gC//u09KrEHYrcQ37adXSvNBHMbc7xvv658D/JiCC9mFBacVzGwmzamqaQ9ZseZbRswoAd9Q3vNvlLbYCEfxecbz8mDQKjridglPtcx9Ww2LvDgnkRSj3vvn6jub5sNyxcKASFiMhEEAUFAEBAEWhQBZNS7aeFItlZEqOQOO1nZMFOotU7hhx5uaieOcQIKVu5HsIKD2IoJrBi0Y4uKmeTllijSYrSAgLQMGNidfvwv82n0mD6cat0ykcawYUmsPHVU7jVYwTYKjnfGvcx4XFN8hvXHLA4KJOyHz8xRLoEgNnrBanc0W64+5WB6Ixb6/fTvI5hc2Qq2RxKGp38yjxbw9TOms0dKehxXcl3hhDXLKPNuGk5P/mCmIoxGd1Moej3YnenTj7aoRAv6Y5FMYMumNCbPo1nJrlMr7rBwGSWRs1Qi2cr8hSPYYhdhYYWBO2kvTozwEscLwvVKxBwBJGzZvesUk9180x0eemQKLbx1pHIbhlVGL1jQgPXxNFtxQKrh9jZ6bB+n3GL17bjzHtbf9etSTRNKgHw9/uR0tVBgTMuOhQEQdrjUYezOyHF+Fm3g2C2kwtdLNCcleejRqXTL7aOoW7dO+q/U+5EcCwZLGdxp9cQPuG3neLqjHFMJApeXV0rbmFReNkksNGpMb3rqR7OV+6oef1jBhgztycQsjLAI5awgm6MtwbNuDsd7PfLYVE6iE2cRuzhseJKy8h1kzwH9swVjyWH3X4wBC0Mi9hGw/AWyv698KwgIAoKAICAINAkCWuKOn/7bQnr62bk0OCVBrQTbaxzug0gNjcQML/9pKcdKrVSWEbNjsPJ8/nwFW7UsvwUJvO32MRyzYk3CsCdcrW65fTRNmpqsXIosj+a1YF5Fb8spm1taznBadmSuMwqy0cESNnFSsunqMzKyfe+JGdS3fxfjoTY/YwXfVl0xZHtbyIW09SQMDYFUhbHSBnc6WBhg6dQrZ9gH2RCffW6+UuCNJAzfw8oJK+Xc+UPZ8mVpdYR742pO+AFRCRJYyTcKUvEj0cutfP2QCdDoCgeSehMTtIcenWw8VD7rEEAClCN8DY0updhlwqT+PJ+mKYVfTwK0wzFvsMCCdOZPPDWT7rlvoroW2vfN9RdzDS5x+zmDn1FAvHBPT5460Ko2FvbFMwGlKWDldVY2MOED8dML5t9Unn/33j/BlIRhXywUPPr4dBo2IsnqHkNK+E0bjyrrPBLWYPHJKCBGSHyC55cRf2SlRJKjO+8Zx9bjJOOhbn3GotWDj0zmshLdLUgYGkMm1bvvHc/PSUsyju9AIOEmKuIYAWv0HB8jewgCgoAgIAgIAo1GAEpb7z5d1Gr0WE7wANc0ZFmDKx3qYdkSBNaf4dpjiF1BPR2kZp80OdlCsVFpzGssYzHgVgfXmnmceh6WLVsCV0VYbjZvPGYVs2TrmObevpNxgeuVUVCrCckxUMzVlnRjC9/DvEr/y//4zNYuTm8HLo6IKGJnzFxCQZLgzmhP4GYFSyVKBSAORS9IUIJMcCdP5Kp6R/rv8B7xOMPYdRWuYbYEMX63MBH/mjPBpZ+27RZr63h3tyNebQrXbzJaY8zawxiC+d7wlCBJx1kuOWAmt90xRsUhIs7PnoAE43q0lMBKqupbGVz+cP7hI5P4Hulr15KNOCs8FxZ9vt2pWMq9nAjESFRBkrTyG/bGDYv7ZC7NcIDjJysqbjyj4OKLNPRVPMezeCHDzDV4/MR+Kn4QiyVmAjIGy9UCXiwxI6Vmx9jahnsRhLov1/WzJcNNCCX2ReF4o/ulrTb8fbsQMX+fATJ+QUAQEAQ8jEB9MeB46s0KBAgVVqbTeDV4BSdjOH26wMqqpXUXrj27dnJ2QyYoHdjaMYoVeE1OM1GDMqAXWGGwYmxPUdf2BxlAjS0kkDCLFdP2a6m/cM0zEyj4KL7qSFDbB3Ff9lxAHbWB7+EG6UiQJKSszNrFCynNv+K6bI6kiOOSUFDaKCiYW8DuTnDfMkvjDVLqjCtUx44daBBn42xJItaJY6UefHiyU7GNbVnJDrGhaBsxaY7PcCk1i6NDwe3BnNExKMj7VEeQGBTzNpM+vNgDC6k9AXHEPkgscmBfpr1dOd6QCytzgg+jxRfE7AgvJmGeOhIk4kAcp17QHhaXctmt2hYRxv0HbwJ7grp7sFYhmc45jrN1V5CYAxYxM+u11iYKQweYLGrhmWnERztG/loi4H13k2X/5JMgIAgIAoKAnyAAS0u37p3UijviwBaym9pxLgD81Vc7aRMXMjWTOlZ+QFJQ7wsrzUiRDQGBMsZvwJUH7nHOCCwXiJXCyr/RvdGZ45t6HwT6GwV9BF72rGHaMTGslIHwNpaIde9ej6/WrvFvBcfYQBE1U8LWrzui4l6Mxxg/47rZ6idqgRUXW7qEaccjAQOyJDoSKN392NWKuKZYSwksFVFMAJGV0psFCTfOc2ITo7UHfYZy34GT7TiyhnlifHgO5NlwhevCReQj2f3QkcDKFM/ZUB0RMcQXmhUER3zZ51xAHclhHAms+tVV1kXFkUEUCxZFRRdMm0BKeLgA2xNcH1j1u8d3ahQRQxuOUtAj8ZED46i9rsp3jIAQMZkGgoAgIAgIAl6FAFwWkV0RL6y4ItgftYHefWcdZ+o6YdVXKI3IlDZ1+mBFxEo4UyIUGqNg5dYZhUw7Dsqzt0hurrViFhISaNfdSt93jKVb9yiO27BuR7+fo/dw7bMnF8ouMYkyzz4Hd1N7Lqf22tW+Q8bE/HzLrIrad8juBhczZyTUkGTCmWP8YR/cN7bqRiF9uT2XXk/iAwsMkkQYBYsv7dqFOtVvkIrOnR27U9Zd4fOYrM5gbjpjDTP2Uf8ZixBwSTSz+GLBBYtVxthH/fHae+xjz5Kl7WfvL56XtmJF7R0n37mGgPf8yrjWb9lbEBAEBAFBwA8QgOIPSwdiyH77hwfotjtGm44aClBGeqHKKgjXHDNlBSu33riabzogw0ajdU/72pXxtIQSHcLJOoIC7ZM1re/u/IXVEwqvmSAG0Oy6m+0r28wRgOJtK/4IiWpam/UDCTTMkkmYjR5jCwj03AhxfyZwMg9brsYoaO7J2EEzzGRb4xEQItZ4DKUFQUAQEAQEgWZGAAp2ly5RKhNb/wHmMVHImobVZMRCmVmzsGJeVGjt4mer65c4Bs1k4dvW7tbbnTnYnFNYt2WyBavmVSbuTSa7qk25Oc2fxSyUSTAsC2YC0giy5M4L1x8pu3vEx1B4h3ZmzSsrqJnLmNnOjYDdrLlWsc2Z6WiPhpzje8cYd+k1A8fcMukMEkaYJb0w2VW509qy5ur3NzuP9r07c1sdw/Mb2RsfeHBy/WKCyUlQC88sYY92bv3fK/xsqK60dn3U7yPvvQMB86eld/RNeiEICAKCgCDgYwjAmlHEWdmKuYBvP67tY0zB7Gi4qHkzketNnTiWZ7Ur4oe04qJdOS4EFjJ9rFINZ1FEsVm4MUH5sSco9Hqe6yE5TNSh2jFvC7EktixZODfiRGy5gRn7NpCD5rPPllhsxliRndCZ8YCEIolGc0u9BSJYWR6Nij+yOzobo6fvZ0JiDBfh7UEjuZA34EYRYTOpYKUbymocE3Z7co3nIFxdW6PUzzTz+Qa87U3rgvwyU5c3PQ6oy4dkNiC+RstjBmfyM6trpT/eU++x8BIebu6Wep6Tj6D+nqPYKtxPSKLhSDrHRZkuNmABaDoXcka2QVcFSTEmTx2k4mOzOWNlhzDzODCQSrhiO3I7xHOl2KSYvav9kv2bHwEhYs2PsZxBEBAEBAFBgBGAYocaRW//bQ3t4oKxjz0xXaUSR9pnZ13K4L7TLsy8jpe+jX79utCeXactiNgVju3Iyy2lElbMHCV12LfnjGkwvfFCItaoHVuBzAQkyajM6vdDPNXZs+f0m2y+j2cyYhSQq3NMaBHc39lBVrjtW48ZD2+Wz3BrQ4mAMFYkjZaIUaN7cTHo+U6fF+PD9TaSZmRHNJM8Js/INueIiCGpAorltkaJjAgzJVsg9XDPNdZf04/x8KFM02yU+n3wPoaz5SH1vJG4YyEgm63OSBDjjJurNvf196XxXE31GfMO2RHNBDX4kI0wyU6SCyxmYCHneJr1Ao+xTdRJQ7FwWOC1MWIfuETPmj2E5nKJB2cFFlyjKygIXUKC+RzHAsKUqQMolgtQ2xJkkT11Kp/yObOjiPcjIK6J3n+NpIeCgCAgCLR6BOpJWBG9/eYaVcMJSt5rf1lBf311hbJcmSXXMA4aylIBK9vbt5gr0eGcrEGzsKG+TYih0Cj6AGVy6Xd7eVXZOpmHdj4oZF8u2klQ2B0JCAdi2MxSOO/YdpJr6ZinskZfMrhoK+oROSPDhyeZKr9ZXOAaKfxBWmwJsuB9tWiXra+bfPugwT2UG6mx4XVrU6mw0LFyCGxg2UJRblgojGMbMqynVUFpnAuWhFTOoGnPyojr/vknWxV5NfavNXzukRBtRUzR7+Licp5Lpy2IgX48F9i6e/jQWc72Z3vea/v34MyByJBoJh+9v4nOZp1zaClG9sUTx3K53l+BaeIcs7Ybsw2W2IGD4xvuf31bhw9mURoTGHvPGODz7de7FRnTH2vr/dhx1gWVKyqqaO2aw1TGbTkSzPFzRWW0jIvTYyFFLyg8jsLPZmR388Y0On2qwGKBSX8snpF5XOJhA2co9aiwdRZjFHGMQItZxPDwg9kXLgGeEJjTsfKAh8NVQ+2GluoPzq/6wKsV9txVmrM/3tAHzIOGa8EZgjwhmAee7sONOVnrufnQcC1qbT7Ym/v63JiT3Af2a/eENPSB58WVuuZLNGBvbJ58PtrrV1N8B5epElYU335zLX391e6GJi9yrakv/7mTsrOKVar63n3ilFsU0rKH8QvJASBQxOFaVMQKy+qVB1XR04ZGrr9BkoGeSXEqRTs2jWA3NqQKL2d3NZxfEyhJS77ZS0lcWDhlaCKneW7XkBkM8RcFnAIbRV2PHc1x6p5AMhFYD6LZnQvWKb2cYoVp7epUmj13SIOVBn3BfEPB1lUrDtJxExdLtIHfCF23aRy7Y8LSZHRPzM4poSXf7lXZJQcyAdIXDIZbJrIkfvbJFlq3puUUswFcoyuxVyxlZoJE3binUaz2j7//hr7HllC4F0ZwVkx9PBn6C/ILS8NqxuabxXvYJbEbPcNWtMFDEhoUU2RGnDJtAK1afkgPt7J0fsfXtlN0B/5+kLIO6WMF0fZuJq2ffLzV4jj9ByiPzaGn4P4+dSJP3Qf68znzHiQDeMFyAmyx2GAkFbD4LOEFBlir4P4J6wwE44Eb8Befb1PESO+qa+vccV06chHfrooIG4nbxvVHVfKLRx+fTj2ZLOBaaIQBJABzGxZnkMKPP9is0t3/4OnZNHxEL6eTZtjql73t6AMIZP/krpR6ONti13y+B776Yqd6tgwZksguivxsaaM9W64qfDZtPMr30T6L4+x9WHDLKF5Q2sNWpxvuvsAKltb3/rGB5i8YrsppdOB4Rr1FEG6FsJTDzfNbfhYuXbKfFt4ygp7/j1sbrPS4dr2ZCOOan+Vno15w/y/65w7lZgmyjIyQ14ei5sRZ9jhYtnQ/oRi9JwXzzN6CiCf75m3nbjEiVnahUv0YaquVLQ0EJj5+ZAN4xuof/C3Zj4Y+sHIRzJmlPCFI6wyzNR4Mft0HVgpBxvAj7cjXurmuExRTz/fholog8SwO9X0I5GvhKDV2c10L1GgCMcaPuafS9aIPqNvim3KN63pV0CFemTYKfqw3sHK3my1DKBg7ZGgCdWdlEvXAtGuBmlJYhT/KRZ53spUEyp5RoLSg2CncHCEo2jvvpmFM/tZZWFSgmIL8/PF/vqGZs1NY0e/OKe3bM/G5RrlMataz1Wb/vgxWIqwLChvPqX3ux0prX3aFNBIxfP/Gayu50GwhTZjUn1NPB9efh90jN284StvZYmZLkGRAvzABgnUrZ4x88/U1FuPBPrC8VXBikQU3j6De7J6FZxoUdcS4beDxILW/LQUc281qRtnqlzPbu3DJgRkzB6s4vtycUgvrycrlB+jggUyaz9emd9+uFM11vwI5Ux3IDwp0n2aXqm1bjtOJ43l8nbmmEpMIENLnnl+oSAh+u+AOeu/9E2nHVlgcLa2WOO7N11ezJaaQho9MUmQPSjfmECw0HzE5wLPXluCZDF3B2TT4ttoxbs9hHP7nt181zGnj9/Y+wzrys5/fSgnXC1aDnO7dk25xCIjexnVH1X224OaRigQAK5QL2LH9BBPbQ3SB9TAzweIA3HY1QcFgFADfy+65qWxFM1o2VnFbqXwvLrx5OM/77mwRrn9uoZYX3OH27zujSJxWTBh6109+epMFmdbO1ZR/sfAyk10DTxzPtyKqO7afVNumzRjEZK0bW1RD1ZhLS2B5PcnWsD3qt9BWf2o5vlR/D/Xi4vMzOB7ss0+3Wyykon7hu2+v5zIbx9XzBfu1a1+fxRXPGFjbD+xP5/vyqLJigrxiwQGxr48+Nq3BxbgHP88mTUnmRaEdVvcnCt2XsVszFhvw3AkNCVZJVHKyS3nh55DC3vY46qiGDSM4r0ZGbe3r7HbtOa3fHyn+K/meE3GMQIuxAazo4AfSU0QMShZWV8PguuIhEoQHpeoDcPBYH+pJGK6Fp4hYPflow/OBV0Md1KRxPIXd20P1gX/863HwkAUEhNgr+hDgURzUAgkTINybnkrNiz6AhGE+mP2ouDfLXDtK4cDPKF8U/OAnsgXquecX0IfvbeIVa7hIWZIpWLxAtPByVfD7MmXaQEpipUcv9z0wSbn+7TG4/8ErAi5v77y1ThVDbs9poZENrorJl17Z0rdl7z1Wr0eP7UtHj+RY1RGCW+Bn7AqHFxTcK3xuWAIdCVbxQR6gJDN8Su64cxxt3XRcERn98bAYHtifQUdSz7IVsIOyipUzniC/eosUnrdG0oV5B7c2jFuzbOjbdvf99JkpyqoIJVMfK4bxwIrw7jsb1IIgUnJDL8D50Rdj/3B+KLUg2bDSYF+4gQ4anEDzFgyjxYt2WxBT7J/FVgRc246dwpTFE4s8sKbW4wlaV49pIKfZN7o9lrI1BwuWjuLMVCMu/AcdJCPduXhAY7O4f/SWqUcfn6aswkaLA8j3nl1nuCBxBltKQtSz7BIvdNTo3BHN5gCOA2HWy7ARPem228ew21y5iqvUf4f3ebz/3/+2TinzWlwa7iEsCBhl+7YTytUOFl17sU3G41z9jILlIGK7d55W7rrGe3nf3nTCC8XN8ay/zOO+wMQJ886RFHCCIVjXcZwmDzNxOszPMpBVvWAOHz3CzzJ+4fekHS/A4C88w5Dl1NgvHPvpR1vU/L7tjjGqKeA0e+5Q5U56hM9hlO28CIFXXJdIdb9jDMYagSDimDv68+FeLCwoU6TUGJtmPIezn4G7cREKc87oculse/62X4sRMVRjx8pXU114Vy/UVX76h14KppjoCKu4AVfbcnd/rCpVVnIfONDTU4S0vg+X+Vp4Qx/CvQAHz/UBCllbVvxwX3hqPmh9QOICT1mKNQVM9cFDCxRaH3BfeGpxQOuDu88Xbz8OtXymzxisVnyhdMCyBXeqxgoKnI4b35duvnWkVVwSEliA/P3fH741tcbh3MpFmJVko7TnVWxcE70CbNxH+6yC9Ocw8eA4FLhuGd3GtP1AyvQC5QzuVEFBASruQ/8drDbHj+VQbyaXWqwbxvP9H86iV19erixG+v3xHgpgAStZZoJnzB13jaXFX+6y6B/6CvcnWANhcWkqAem8+97xbIW5pNwzsRBpFPwegRzhZU/6sQUDlku9myEU4ocemaqIwpZNx6wIFdqDdQIvo0A57d03Ti38HEvLtfg6k127EIPTP7l7kxJTi5M08sPkKQPpnvvHs/K+1eJaas2CfMO6aBSUf8AcSjuabUHQkbJ9H1vY7ntwkiIMOK5+Tg8hzNkvv9ipXHaNljHsB8uKcV5ju160LIJX2CLU3IIMmw9/byr3qYLvR8trq527+Fw5uyNaW0VRMLlXr86KTCIpiV7SOeEHCDrq2GmCpDHP/esC+stLy5kwWVv7sR+Ifnn5DWujdqzx7xB2k4YngCZYFElhd9y77hmnFlSMRFnbD6TKTHD/wZIKF0h4pOll/94zytqG+dAUEs9xi1jYwlzQBMTwDHsCwBU8ktPyi9hGQJJ12MZGvhEEBAFBQBBoQgTgejqYLRnP/GQePfmDmTR+Yj9lsXDnFFDKscKOAs+oLwXF2UxGjOpNP/23hTR+Ql+nFzzq3QDHNLh3mbVr3NaH3ezuZ0UWsUuO0mTjWJCvfv27KhxmzRlipfRj1R5KDFx8NIFyNmnKAPrhM3NoAFuInJUObG1+6JHJ9Oxz83lMlsoXcERiDGPsmbNt29uvH18TXJvHnpyhsszZ29fsO7h0IR34s/8yn2bOGqIw0/bDan8SK83PPDuP5swboixA2neO/o5gl8WfPHcTzZg12GpXZTHgBQK48HurgDD88Ok5PN8mWlho7PUXC133PzSJ7rh7rMWiG0gprGfA2kiIYzgzIMj0D340i0aO4hgvPq8rgjkOK+ZDj05RcYGOMnu60ratfbHggL5i3k3guEpniznXLxQNUs+mSVOTrZqHpfQiZ6U0ktEJk5LV8+Umdgt25r43NhzORorb7xxDP2FCN3psH4uvkQho5qwUvnenqGeFM15MuJ6wkj3w8GR6mHFPYJKkFyw0wv0X49ETJ/0+rr4fPaa+rIT+OCwywfBiyx1Wv6+/v28xi5i/Ay3jFwQEAUFAECAKZOUMlpe77hnPAfxJyo0KbnUnObYnl2OnzCwnetygMPVkN0e4qkEJgtKlX6XW76u9HzOun1I013PCio0clI9YCrhCGgXKKBRHpKBewAH0iDcyBssbj9F/Hj2mj4o3w0r56lWHeDznLeJHsC8UpU7sMjdxcjLNmT9MWfOQBRKkEvE1iPkYN6EfJTOJSeF4OaMXCRRNxLkgxfX6tUfYsnhSuZWZufRh36HDEplwpNDtbA2DFen2O8bSKy8tU6QU5xo6rCcN4+uQ1MvSrVM/rsa879uvm4r3Q6zMFs74doytfKdOFthtEvjgOsDdcyZbGpGWHIqdUbAtmesvIZlHv/7dVGwZrCB6V0j9MYi7mcwurIilw9wDOfmKs2OiyHds5wi2QCTS0OGJTNr7m55P35an38PKALKB+Ea4qB3j+DezOQ3FG4lOFnLc2FyOy0MSmDdeXanccBGTiftoFM/bIbwPYu+MAjJ2C7so9uHrAcsj4sYQ8wi3V50BxOIwzLuExGjCfTeJ5/mIkb1UPy12asYPmosirM3rOFkOEnEgZtCWpRrJTXCPLOQEHCD3cJtezkk0Kji+LpEtbEN5rsA6lcAWJjMZyxZ5xKiC4G/nZB1wEXZUOL4rJ/iBFWwC4wO3alvWKeB/6+2jlbVsxfX4Srj8GV1q0S+QOixuTef4zKnTB6q4S2SLPMYp+TtwgpI+fL8jaQqsy01JihFP+DeOy0RcbRIn6UFCGSRCSmZLNu4xEfsItCkrK7thS7S/r9vfFnGKTgTt4cfS+KPidqMuHqj1oVu3Tg1uHi420ejd4YYDn25kNcKDyhMifahH3RtwQBpnxKR4cj5ofYBLhKdcEwvZ9x5uDPghc2bFrznumxt9iPaYa6I39KE5sHXUJogXMhWivhdiHHI5fqiEEzQgqB2ugRDEcLXn1WH8hkAxiY+vT+aBz87GNWH1F3WWQK7ymSBlZxcrhV2zAiDQH1ng4M4DRQUppB++/1XazzEl+lVwKHmPPzmdrVJzbQ4Nz5fjrBjjXMhYB4LJTlwqlgNJSJBQA4pdfUKSAJUlcMumNOUu1p8TMfRj8gIFG6TNlkChRmzXSc7El8nuR3ADwio3FDQQLih2UBxBaPCC1QMCjD/9eLNKZgIFHaSxPmHGDQcZXAvEt5jF+4DQuStIL5/DLpAgwii2DWVeS7YB3SAish115tgYKMNQotE34G0PB60vICHAAKv99a6Wper3Ft8jMyYyaiKj3iBOca7FKVVwFkWkLIdb1agxfZWiCgUZlgh3BXXyUg9ncbHuG5ZMd9vSjgMuIKUYh14wpxG3BPczuFPClRUudyAcuN5xXHgY9eegEPfnOa3Ngb+/uZrqaq8qIgCc691jrYmu/lx4DzdTJM2BOxzOhwRkuE9xD8NCifZRDBqkHi6CmOexbNnVu5SiHTzv164+zH2wxAgLIbg+8Qk3auZhviCDqdlcvIUJiqP7H33GPZLORAzufbm5JcrdGHGl6C9S3uOeB3noxH2HIIZx5bL9VMnxXINT4hUJRd0wR3obFkNwL+J1lrMb4pl+vrRcERS0i3mFjJ7q3mR8sKCEF7BzJLimuH9QJw+LVuij9ozEOKBHAHckO8J4sEiB5xbcUDexu3QMLzQM4DmARTAkotGfE+2aldHAcwEJb0Dw7AnG/dYbq/icQfXJlvgZh99zs8UTe+3463dCxFrwynuD8i99qL/g3oCDRoKEiAkRw6z0VyKmfwSDeIEYYeGuqqo+UQW+xw96SEigUggQE+ZI+dK3afZenYcVdyg3NdeVQZA9KP36tt0lYto5MZYqXnzTyAasE8iMCRcmuG1pAvIE5RRJnFx1/0IbWMGHeyHagPKFRZVwPodxPNgX2QmRcS2EiY8+1T2+aylBHy9wDA/6q8XgAXeMHZY+KKx6RdGVfgFLWMRAUDQrIayoUZxFE3F/elIHIgMFv5LnGmK39dfelXN6w74gNYiLwmIvYrFwz4CQYw4Y415BTjBWRwq2vXEBN9yjuIaIScOaAc4JUoBFBE8tqtnqMwpeY16obKT8nMH9h/7CMoS/esHzAc8gzA/kN3B1LuI4kFMsDlQCn+vPmGB+hiHdPO5NxH3q56L+/I7eowyD9mzhU6mxhPNzBXUUjWPBPYA5gXtAK2ngqH13vsfcwzXHnBNxDQHPmGVc66PsLQgIAoKAIOAHCEA5xKq/ceW/qYeuzsOrws0t9aQiVFnx7J0LylNjlGJYk5zN8ofMvSAlnhQotkjX3RwCLKPYbQ8vRwJFGEQFr9YuiL/ULH2OxuIMNo7aQNwhXq1FsDgBax1ejkSR1EbMCcwrEFK8mkPwrHD2eQESriVLaY6+aG2iXIiIewjcWJJz73g5ShAQBAQBQUAQEAQEAUFAEBAEBAFBwEUEhIi5CJjsLggIAoKAICAICAKCgCAgCAgCgkBjERAi1lgE5XhBQBAQBAQBv0EAMUhIUiAiCAgCgoAgIAg0FgEhYo1FUI4XBAQBQUAQ8EkE4rpEcKC+5c/k5eo6zlJX7JPjlUEJAoKAICAItCwClr8wLXtuOZsgIAgIAoKAIOC1CPTr280qk97Vq1dVun2k1BYRBAQBQUAQEAQag4AQscagJ8cKAoKAICAI+CwCk6YOoLbtgq3GV8bpv/fuOW21XTYIAoKAICAICAKuICBEzBW0ZF9BQBAQBAQBv0Fg4KB4GsQvra4y0tEnciHWlCGJqjCq3wAhAxUEBAFBQBBoFgSkjlizwCqNCgKCgCAgCPgCAk/+YCbl552nyI5hNGp0Et1251jq3buLLwxNxiAICAKCgCDgYQSEiHn4AsjpBQFBQBAQBLwXgfET+9MLv7mbhg7v2WwFWr139NIzQUAQEAQEgeZEQIhYc6IrbQsCgoAgIAi0egTGTejX6scgAxAEBAFBQBDwPgQkRsz7ron0SBAQBAQBQUAQEAQEAUFAEBAEfBwBIWI+foFleIKAICAICAKCgCAgCAgCgoAg4H0ICBHzvmsiPRIEBAFBQBAQBAQBQUAQEAQEAR9HQIiYj19gGZ4gIAgIAoKAICAICAKCgCAgCHgfAkLEvO+aSI8EAUFAEBAEBAFBQBAQBAQBQcDHERAi5uMXWIYnCAgCgoAgIAgIAoKAICAICALeh4AQMe+7JtIjQUAQEAQEAUFAEBAEBAFBQBDwcQSEiPn4BZbhCQKCgCAgCAgCgoAgIAgIAoKA9yEgRMz7ron0SBAQBAQBQUAQEAQEAUFAEBAEfBwBIWI+foFleIKAICAICAKCgCAgCAgCgoAg4H0ICBHzvmsiPRIEBAFBQBAQBAQBQUAQEAQEAR9HQIiYj19gGZ4gIAgIAoKAICAICAKCgCAgCHgfAkLEvO+aSI8EAUFAEBAEBAFBQBAQBAQBQcDHERAi5uMXWIYnCAgCgoAgIAgIAoKAICAICALeh0BQS3WptraOqqtr6erVay11SovzXOZzX75cS1XVNXTl6lWL71rqA86v+lDFfbjimT7gGqAP1R7tQ4339AHzwUPXQpuT1V7QhyqeF3WewqHhvuA+1Hn+vqirC2ypR4LFeTz5fLToiHwQBAQBQUAQEAQEgRZBoMWIWNmFSrrGHCwkpMVOaQFgaUk5VTH5CGjThoI93YcA7kOwZ3AoYRxAwgL8vQ/FjAMToICAAL4WnlG8S7yiDxfVAolncajvQyBfiyAPXYvi4osEYhwYyH0I8sx8QB8iItpbPLfkgyAgCAgCgoAgIAj4LgItxgbatg2mDuFtPUbEYAVqw+QDffAUEYOip/rQoR33wTPKHlbdQcI6eLQP9UTQ430IBA6YD566FowD+oA56SECokg5kw9v6YOniBgWaUDCMB882QcQYhFBQBAQBAQBQUAQ8A8EWoyIdQhvR9HR4RQaGuwRZOESiXNHR0dQSGiLDdtirFevcB8quQ8x4R4jpOhDpVf04bIX4ODZPsAlsm1ljbovPGUp1voQw/empxYorrA7YlsmQrgvPGUpRh9AxqJjIjxGirU+WDw05IMgIAgIAoKAICAI+CwCsvzqs5dWBiYICAKCgCAgCAgCgoAgIAgIAt6KgBAxb70y0i9BQBAQBAQBQUAQEAQEAUFAEPBZBISI+eyllYEJAoKAICAICAKCgCAgCAgCgoC3IiBEzFuvjPRLEBAEBAFBQBAQBAQBQUAQEAR8FgEhYj57aWVggoAgIAgIAoKAICAICAKCgCDgrQh4Jn2gt6Ih/RIEBAFBQBBoUQSKisro8MFMKua6ekaZPGUAde8RbdwsnwUBQcDDCPzmhS+otvaKRS/CzOx2NQAAQABJREFUOoTS5CkDaeLkZLU9J7uEUg9nUVlZpcV++DBl6kDq1r2T1XbZIAj4GwJCxPztist4BQFBQBDwEgQqL12mr7/cRZ9+tIWquMahXiZPSaYFC0fqN3n0/bVrRBcvVlJeTgmdOVNAJSUVqj8hXAMwrksUJfbsTF27daT27UM90s+amjrKyiyi7LPFdO5cfcF6dCSM+5PUq7MitF26dvRI3+SkvofA8qUHqLq6xmJgMVz+IzExtoGIoS7jwf2ZtPS7fVRbZ0natm46Rq+9+SS1adPGog35IAj4GwJCxPztist4BQFBQBDwEgR27jhJ3yzeTUVFFy16FBMbQXffN4Hah90gNWUXLtFzz75LR4/kWuyLD888O48efXwa3jaLbN5whD75eCudPJ5P5eVVhPp718DMlLShgID6V8dOHWjUmN509z3jaPCQxGavF1nN5PUIWxy+XryLdm4/RWUXKgk1M6+ib1r/WNEN5ELh6GOPhGgaN64PLbxlFA1KSWgWrKRR/0DgMhP/y5frLAaLxQDMP00io9rTLbeNorSjObR3zxlts/q7cUMaff7JFrr/oSkW2+WDIOBvCAgR87crLuMVBAQBQcALEDibdY5WLjtAmRnnrHpz3/0TKIWJQmDgjTBm8IpLbEErv1hltf/lGktrmtUObm44dDCDXvjFP+nUyQId8bLdGPoHd6xvmVzeefdY+tef3UIgZ00tV69eVX167eVltH7dkQbO5eg8x9NyCa9PPtpKKUMS6JmfzKMJk+rdyBwdK98LAq4iAGsXCP/kaQPozOkCOn/+UkMTWMx4+c/LadqMwWxJFhfFBmDkjd8hcONXzu+GLgMWBAQBQUAQ8AQCcEncvDGNNrF7klGGDE2ghbyKHsZuTZ4SxL58/MFGeuqxt+jkiXynSJi+ryCNX36xi37xH59QRnqRy8fr2zK+h9VhC+P2xKNv0Lq1zpMwfTsY3/59GfT0U+/Qj3/4Dh1ji8WVuqv6XeS9INBkCNxz7wQaN74vBbMbr16wqPLCLz5XFmb9dnkvCPgTAkLE/Olqy1gFAUFAEPAwAnDpO3Uqn777Zg9dNATxh4QG0eNPzqBuHlwhr6qqoX9+upXe/Osajgmztr65At/G9Wn0f3/4WrkMunKcrX1hCdu96xT96uefUYlJchNbx9nafvlyLa1bk0q//PmntGP7CVu7yXZBoFEIRHUMo4W3juTkHNYxinv3pLNb7clGtS8HCwKtGQFxTWzNV0/6LggIAoJAK0MA7nt7d5/hbGrZVj2fxNnWkgf2sFo5t9qxmTbAXerbr3fTO39f15CMQ38qEMWoyDAKj2hHQUH165g4Bha+C0wqqyprrKxfIGNvv7mGnv+PWzhOq3Frn3Dt+tMfvzXNMIm2O3DWOsTltG0bomLCtL4jlucyJ1bQ+qhtx1/EjoWEBlOQwVqh30feCwKNRWDipAE0aPB+ys+7QLDqalJTc4U+en8jjRzdS81bbbv8FQT8BQEhYv5ypWWcgoAgIAh4AQL5eaW0ZtUhq560bRtMU6cN5AyEkVbftdQGxK0hw1thQZnVKTvHRdCYcX1p1uwhNJbdrKKiwtQ+SN4B1741qw/TOn4V8LE3EnnUN/PZp9vpLk4+kpTU2apdVzZs23KMThzLtzokKCiQevWJo7nzhtL0mYOpV+84CmVypUludillZBTSpo1Haf/eDDp9qkApwyBhXbpG0fwFw2nEyF7a7vJXEGhyBEL5/sY8w/wrKLjQ0D6svIcOneXt6RKv2ICKvPEnBISI+dPVlrEKAoKAIOBBBBCblJVZTOlniqx6kTygOw0cFO+xVXH0bS0TqQyTvoEk/uDp2XT7neOoXbsQi76Hh7dTBG0wJyWIjGxPn3y4mS5w9kK9VFVe5gQeu+i552/Wb3b5/bbNx02PSUiMoad+NJvmzB1qak3sHt+J8Jo4eQAnEymmV19ezjFi6QQ3zNvvHMuJRcY1e4ZH047LRr9CYOiwnpyYI4qzpJZZZFes5nm4aVMaL3D0s0jQ41fgyGD9FoHG+Un4LWwycEFAEBAEBAFXEUAK+o2c5Q9WJKMMHd6TurCS5ik5x8ohEliUltbXB9P3Y/zE/vQAp9k2kjD9Pki1P2fuEOqf3N20NtJWGyRK34aj91lssTMTZECcwsWvjckQjPuiZFN8Qgz99+/vpR89M5duvX0Mv0azS6PnEqMY+yiffReB2M6RNHZCX6vFFrjO7tx2ivJyS3138DIyQcAGAkLEbAAjmwUBQUAQEASaFoHy8mo6sD/DqtHw8LbUt28XZVGy+rKFNiC9dkH+DZcp7bTBwUH01A9naR/t/u3Vuwv17deFFc0bboHaAZlsCUQsWWMEdcPMpC1b6fQ118z20W9D0enb7xpLP+b09SBmIoJASyEwYUJ/atfe0qoMV97SknLlnthS/ZDzCALegoC4JnrLlZB+CAKCgCDgwwggqUVOTjFlc50to/SIj1aEAKTHU5J9tpgzEVoWlkZf4Eo1hF2qnBEkvEBmuPZhIcrtT38MkmWUcUIPVwiT/ni8t2W5ulRRrTJQulKzDDXa3CkRANdG1H7DWC5w8hDEp4VxkpBOXC+td58uhGLc+vpveRwTmHooi+LjY2jAoB5W1sJaTtyAJCR1dVcshot2kW0vJMT2nLjKcwqZLSvZ9dMowKoDu40iDs6eIHEErn1e3nlOtnKZQHbR/85xkZSYGEudojuoMWI/kAV9wWK0i6QtHTuF27RGwsKamVFE/fp3s7h+qDeXmVmk6uLVcemAyMh21JNjCDvHRZkSeW0MhRxfBde+4nMX2bJcrTYH8hgjOWYxlrGP6xKlcNP2d+UvrsE5bhd4IKMpLFW4b+F+m8DFwOMZD3vXw5lzwf0YCy/GrJ8VvEiBRZpb7xjjTDOyjyDgMwjYfsL5zBBlIIKAICAICAKeRgCp0tM4qQVisYwCIhYdE27c3KKfEdeFjI5GSR7QzbjJ7mdYp0AijMKlxVjprmRi19H4ldOfkYRjHyc7MMqJ43m0c8dJmjErxSJJh3G/xnwGAYN7Jc5zNquECVClImNBIHTslhnVsQMhzm/EqF40cVJ/RQhwvm8X76El3+6lrl070uixvVXCEhSRRuZJSE5OKX3w7gbVntpw/b84JiT3PjBRkRP9dv17XK8Vy/fTnl2n9ZvV+5sWjqTJUwfYxAMkZvfOk8odNf1MISdouaDI8+XrRAyEMp7Jx7DhSaogMeqsvfv2eqqosHSrBfH5wdNzGpK34OSXLlUrsnroQCalpeVQJteSe/rZeRxL2EcRm/XrUmn18kOUxYSngt100Tbw6MNW4ZGM3xROWtO9R3TDmGpr6yjtSI4qXYC6diBhIDIVTMAhIJsRHJ8Yw/cQjsM1GMuJZUAmnRG0f5Ln0A5OI4+C3zm5JYoggoiB7IKw4x5F35BwozEFmNFWf76nss+WWNQPA+6nTxcqq3FjFiucGa/sIwh4EwJCxLzpakhfBAFBQBDwUQRqWKk7zkTMTDpz7IiWhdDs+5bYFsVp36EIQ7mHNaC09JJSFHsmxbIVx/kewDpjRjbRQqAJQXO+ZaKp0wfRon/utDokgy0u772zQSnnszlzIkhMUwpqjH328VY6yMTiXJG11RAkNjf3PBe/zqNdO0/RLiZr9z04ScXUrV+byglazqnC1gcPZnLfImnb1hP07HM3UWznCGVlQsbJ0hLL2LzevTvT3PnDiJJsjwTkHta2FcsOWu0Ey8tELodgJiAyf/vraiZipxRhMlrjcAwIIsa7e+dp/puhyCX6CSugXjBnnvj+TLUJ1qMjqWdp+ZJ9dJyJTToTC1jEYEXbsjmN+vbvSosX7eQSCXsUHvp2iC1yZ3j/o0eyleueRsQQu7hi2QEu3p2qyBhIHgqGGwX4Q7AIAHy3DD9GC24eoRLJ2IttrGZL7Xfcn2VL9hMIPSydZoJMmyCWBziO8q57ximCZrafM9uGsYV547o0CyIG90QUeIYFtU/frs40I/sIAj6BgBAxn7iMMghBQBAQBLwbAay6Z7JCbiZQyCPYNcuTMn1mCtc5SqDaujqqrqpld7ca9erTN4675RwTg5J8+mSBUiiNY2nfLpS6d+9k3OzS5+GcYh4WuuPH8iyOq2MrIxR4kKQ9XKNt5uwUGjehH1tIIhy65lk0ZPJh+9bj9PqrK1kJz2JCcdVkjxubQEDhcldYWKb6gmyOqBulufMhRg5ujdHs7tfeECd0o5XmfQdi9OL/fkurVx5SboiOzoaxrF55WGX7dBTj14YZez4TqnVrj1AuEzm9wNqErJqffbKNirhNMwEhRA24TuzqCEHyis8/2VpfUoGP0XA0O1bbhjbgWliQf57nSS7dfe94WnjLSHaf7KDt0vAX1+v1v6xQRC/vOpFr+NLkDVxI13OynbPcvhl5NTnEdBPmRUCg9T0FUog4TSFiprDJRh9FQIiYj15YGZYgIAgIAt6EAOJgoNQaRblUsRuYJ+PD0Ce4DBrdBmHhgPXBWYsYFF9YNcwsYqPGcMFaQ+p7IxaOPkORf/KpmfS73yy2ssxASUd9puJ15YqUwYoyOCWerSIjKYFjexzFSpmdG9adN9lyBKuTIxKmPx5xX3v3nFFueZcqLN090Q+4DLoTn6Y/hzvvka7/9//9Fa1bk8rxT+aJT8zaxb4gupgP9gRjQx28rlybzUjEUBbhk4+2WFn+9O1FsHviFMYGroUgfYv+uYO+/GKnKodgrE2nP87sPebgqZP59A8uTg7SO3/BCKv4xM8/2UJffLbDNIupWZvaNljHGiNwUw0wualwfXJzrGNIG3MuOVYQ8HYEhIh5+xWS/gkCgoAg0MoRgBKJhBJlFyzjazAsxBd5yjriCFZ90glH+yLG6Juvdivl12zf25ogCQH6M2XaIHqa3SbfeH2VFRnDeWEdAwlAUWq4ka1cfpCGDkukmRw/Np1frsjXPJ4jqdls/bAmIMgMmTIknpNQdFfJOuDud4JdE0E4YE0EESgz1FPDuUFWUoYkutKNJtv36y93KouOGQlD0g3EQQ0YiPG0VYQJrngl110mHZEwrZNwszUSenyHZB/F58q13VQCjJGjk5SVq4STgJw5VagSetzExBmJRr7+apdyYYQVykwGDe6h4udwHeBOCHIEa6NRsPjx4fubuMh3F0KJCI2QZ7E761tvrLFJwmJiwyk5uRvFsLUa7o6nODYNllgz7IzndPQZMWYBAdZJu9WcseEa6ahN+V4QaK0ICBFrrVdO+i0ItFIE4JazleMltrHLU/qZc0pBR9zIQFYsJnCQ/+SpA01/pFvpcKXbjACsSqgdZmZVQQa1sLC2rRonuCR+981e2rD+qKm72/RZgxSBaopBIhMgMsshBfif/2+JKRnDeeA6BgUdLyRG2LSBY5S42PS8m4appB5wW7Qnhzguah9btYwp82HIgEXjuecXqAK8oUwEoNyDrCGrIOKjvlq0y9T6qc7HDcA1saWlmDNivv/uJnY7rbE6NZ4/9z80iebMG6bcB9V42PpVyO5977y1ljYydkYcrBq5viEior3DeMfvczkEuAxqsVt1fC4QWViEkHkSWRY38zlB7o2S2DOWcPxETngSEhqkLEsgibi/YOn7+5trVYyj/jhYaZfxdUnsGcNZIOvdHl99ZVkDydTvC2IH19ZHvjeVurIrLUgYnAhBwLZsPkav/AnH3SCU+mOdfQ8reBueM0ZRmSl5kUFEEPAnBISI+dPVlrEKAh5EAErG+jWH6b1/bFArt5d5hRjZwmAtQeroVHaDwgo83Khef/MJ6sLKnohvIAACVlBorVRidFB6tVX61jhaKNAfvr9RuXghlbpRkLnuGc6YZ1ZbzLivM59BhODCdstto7lmWVf6G1vGQLLsCZRovGBdST2MZBL76aFHp9CsOUNtHraW71VY1owucSEhwfTjf5lP89jVzVhAGglPvv/D2RTIafw/en+zKUmE+g0y2dKyi2O0QBSNghT59z4wgR59fDpnWAyySK+PlPy//PVdVFX9GW3bcsKpuCgQDHvz+QEmfMiyCEuwXkAG4V4Kq+dhdgU9wETYGBOWwETqT688oixnxjTyIFhIkIK58doryzkN/Y2xgqgtW7qf7rl/giJi6WcKmLQd1Z9evQ8NDabZXJT8uecXquevcRyYc3A7xQKAWYZRqwZtbEC7HbjkAZLi6OUKLx7Aci4iCPgTAta2YX8avYxVEPBzBFg9o7wrp6iwJoeuXrNOK95U8ODHddFn2+m//nMRpzDPVT/icKHSlDwoCkiVjJTSSHF+zx0vKVebpjq/tON5BMysYehVCCt/WNlvjQLLxR9+t5jTmm9QlidtPmtjgbL9+z/cTwMG9NA2NdlfKOJDhibSiy89Qi++/DAls0udI8F9VoG07bvO0L8//zE9/9wHKquf8bjz5yvUfaqlR9d/P3Zcb2WRM5Iw7INkFYiDu/f+iex+mKA/zOK9UcG3+LKZPqxcccDUrQ7xXHfeM14RZfRfL+gn0tiDeCL2qykEhbRRUNsoODdImEr4wm6GZgk9fvqvC6h/cnfTWl7oOubb1BmDaOacIcbmFSk+fDBLYbD0233KVdK4EyxmdzEW3dgSZnaNMOdQUmDCpH6m3xvbs/cZtcmMgmSQsJ6LCAL+hIAQMX+62jJWQUCHQNHlXPq24hX6svKP9OczP6a/Z/2aDl3cRnXXapmUWceE6A516S3qwyBD2SsvLVN1b4zKqrExfI/sbz988i0J3DaC44OfQ1m5C/FgIWdXIYWiiBT1q1cepGd+8DYtX3rAKokDlGIk1njx5Udo3ERWWlnBbg6B8o76UwtvGUUffvosffDJj1XKcpwbSr2RWGh9wD1WxXFcq1YcpOd/8r5Kua5XgPPYEoZU4mZy6+1jHCrh0WydGTo8kYsMtzdrosW3YSHoxPECq1g3EJdJU5IJcV32ZHBKAo0b37fRCwbDOFYProWYH7YEBOxs1jkrQoLaWr05rTsIEgi1rRewR+p+WMaMspPrpuG6Hz+ew19ZMp5AjpHrxW6RY7j+mD1BbNd9D0wyrZVn7zjjd/YwMO4rnwUBX0agdS5D+vIVkbEJAi2EwO7zayin6jT/4NeTrhNlBwmv8JAImt75bhodOYOCAoIptE1bVhzcUySh8KGg6Yt//E7FP7gyNCQb+BOnmX7xlUcb/aPvynll35ZFAC5ziA1pDYK4K6Tufuuvq2jNqlTTOQ2rQY/4TvQrdmkbPbZPi81dWBigROMFS93qVQdpLfcRqcxh2TJLuAHX4J07TqkU5r984U4uYByjLgNchRFzZCYo2uyMxHNh4Q4c+2eWsMOZ45tyn4yMQp5j1lkSEWc3aHC8U6fq3SeOgjleCvXw3JVe3EZQoHWxb3175zlGyswahmcpCl87U+YBSTuu6pn19ROAXIPAnTpRYE302EqXyGnlnZGhXOQ6iN1PW8t968yYZB9BwFMICBHzFPJyXkHAwwjYsnyV11ykJTnv0qaixdSnwxCa2GkBxYZ2o7aBYRTUJtilXkMB3MYB3ue5do+rAqV3394MlfkNCq1Ia0agjU0FFMpca1DoUMgXySv+9w/fUA4nvzAKrE/IdjdrTgp978kZ1Lt3nLJKGfdric89kzrTUz+cQw8/Oo327z2j0qYfTc1Rbohm9Z9QtBjxmT/68VwV91VVddlmPBSsJs4IMgfCiuMNglTwxngr9AuW2Ph458hHIseugnw0RoCHI0sQXBPNYg1hyUISlMZISXE5p8K/pFzAje0gcUj3Hs7VuYMlsQu7dKJgtbtitjDQhtOCmCXxcPcccpwg0BoQECLWGq6S9FEQaAYE+oePoLMVpym78hSxKmxxhmvstlJWc572lW6itLK9NCByJA2KGEvxbftQRHA0hQY4l+UONYT2sSLorkAp2bjhqLIsuNuGHOd5BFSsjY0sfVCQsdrvrQILQhYXov70o82KrCA1u1FgBYMSi2QGd9w91qGrm/H45voM5Xri5AHqtWVTmkpjvotJFxIu6AWJdFIPZ3ENtAIuGN1dxRGZKcr6Y1rTe5CYazzPWoOAKDfXwgQyXOJam91vgezy2FQJZZzBuYjdz40C90hvLWVh7Kt8FgSaCoEWI2J4sCBtrNmqVFMNxl471VW1Kv1sFVduv8IZvDwhqBqPFLh4EOLH3RMifahHXcMBc9Jj1+L6nPRUH3oGptC4oDoKqltP5wIy6FKbUqptY52xqurKJdpfupkOX9hO3dv3plFR0ym+XR8KbxNNbSmc1zBtuy0idXZGepHbUx0JPI6l5Zq6gLndqMmBuC+1e7OurnGr3ibNO7UJc9JTz0enOtiInWAFsJWQQ8O+Ec0326GIBTu4P5Ne/N9vVA0l44lgBUMc1DCuz3TPfRNoPMeDtW0bYtzNKz6jLES//t3olz//VGUANHbqbGYx36uFioghDsis4C6OAUFDzS1HgueqmcLv6Dh//x7xhM7g6ypOWCzAPG0qsgW3VncF7shWvpHcWBCPXYiYu6jKca0VgRYjYlqaUjwMPCFIWwsChFWfYE/3IZD74KHgdNT/gOIf6O99YBcNKL4IaDfL/tUScxRuIp7uQ2BxNA2tvo0uhedSfsBxuhiUTyVtstkaVmoFQd3VOsqqOEG5lenUMSSGEpnIdbnSnzq26UaRQTEU2MaawBRwHZ7CQuuVT6vGbWyAMof04Gb1dGwc4tZm1BhCUhEoQKib4wlBH1CDyBcFhAXptbEiD5z1AvfVxqTC1rfVlO9hjV257AC98doqVV7B2DbmSQLH1KAuF5JlJPXqbNylWT7DeFhbW6cKN7vq+odU+j/68Tx2sUxXCw/6DhbzbwOS5EDgYmnrd7KoqIy6sduhI4ELnFK4He1o4/srV66ZxjnpdwcWzljuQnjemSUugY0MNbyckQp2b2wJqxoyKgJ/o8BaFBMT7vLzCb9xcCVEQeebbx1NSMlvhgUWgZyNf8PvlqbTGfvpzGf8LpgtOuGeQvIZEUHAnxBoMVaElLYIJvYUEcMPAlb5UL/E433o4ME+sBIUCBy8oQ+4Fh4ipFiFxw8Uisl6ihRrJMzzfQik3nEjaWTwWKpuU0EZbfbR6fIjVFpTQPnVWVR31VJxxudz1fl0jvKp3ZXd1DWwH/Vsl0wJ7ftSt7ZJbB+7QWRwz+PeB/l3R3DPwuJglurYnfZsHYP+IYge94WniLlaIOHx+qog0UEPdt9DcVm9IH4HZAyKmVnKbP2+LfUe9+ay7/bRX19dxfWYyqxOC5e/YSN60m13jqVZXPzWLB05rufOHSfV/E/imK24LlFW7bizAUk01qw6pAwK85kEhpko7bbahQKO2DXcU9WcDEcvNfwbCQs0BFkEobybSeqhTKeIGBJGoByFI8FzGPW7jFLJ+KHEhT2pravj2mCO409Ro8ssvquW21eLPFwGwJEcP5bTbC6D+nNjLpktyKDG14MPT1bp9PX7O3qP5xmKd/ft35U6duyg7rEwruEFbwW9XGLrbya74DojZzi9PqzF7gqyQpqVs8A8cFRo3N1zynGCgLciYP30a6aeYoWnU3QHfuC6FuzfVN2BO2Jo6GVCaldbLjJNdS5b7WB1X/WBV7U8RQZVH/gBGu0NfcC18JB1EjjghwSr9J7qQ92VKyqVsDf0AfdF/Qp4OHWnhTQ0YhKTsEw6Ub6PzlxKo6LqHIKLolGqAi9QOu2mnJqD1Ct4MA1oO5KtZZ2pT9gQasfJPeAKjNo0J47lGQ916nNIaCC7U3VV89WpA9zcCXEZsJjjvvAUEdP64OYQvP4w4JqQEG1FxLAoAmUa5MeM0LT0wECgVjPRefutdUzCLlp5UMH1cOr0gfTIY9MIac1tzZfMzCJ65c/LlOKLmlrYN6lXHPXp24VQRNgdgeXwi8+30/v/2KCwuny5hmbOHkJdXCB55RVVBPJrFOWOyB4jkO6c8bAjW05AjI2WC6S8nz4zxe5zMy+3lFPiZ6uaZcbzGD/DShrNukF+nmXBbxBOeHCAjJmRKPQLXgWnTuUbm7T63DkuSpUTKMi/YOEuibT2IMvTZgy2eR3RGPpx+NBZtkTaJ4ZWJ3ZjA0hjffbKExZH49yoGzdqTB+nksCoJDhMrkN5vhrnKDJF5nNmTH1oJubE8WO5qt6Yo/m5gi3FzlgiLQag+wCSDounUXBvoa6biCDgTwj47vKrP11FGasg0MQIhAdFUb8Ow2hu3EO0sOujNLfL/TQsajKFB5v/SNZc4do0F/fTsoIPaEn+e7Sm6HO6WFeqXGzGjuvjdu/wwwzlQ6T1IwBluoeNDHWF7KqErITeIAcPZNBH72+6rqhaKotQaMdwQeMfPD2Hho9IslJw9f1fv/YI5eWeVzGOX3y+g/7EJRxe/tMS+vKfO/S7Of0eXh0ff7iZi0evVwQkJ6eE3nlzHb339jo6fDDTyuXTrOGrvAAFd0szSxUs81pqdCyaxnMKfrOF021bT9IuTnlvS0BuoKinHmJrOi9wOBKQbzNrIRJsbNtyXJEgszaqeCFt7erDnOrdseszFoIHp8RbufVhEWAPF7dGohJbggW7b7/eTbACYQGvuQUEGGTd6KKHBCtffrGTXb1BJu33ooJJ7CZOcvQPniuH2YJptCzOmDXYyj0RxDb9TJGytmIxwpYc4rm2iutCmlm0bB1j3G7LIhbGc7C3k1k5jW3KZ0GgtSLQYhax1gqQ9FsQ8GcEQgJClXUrqf1AGhg+mtLZOpbNtcfSLx1RVrIr1ywVLRCyc1fyaFvNcgoLjqCpUXcQkgSsXH7ItDaOPWzhRoWV/vET+tvbTb5rJQi0ZW8IJAv46IPNVj3O4QLCsG50697J6jtnNhzYl0EfvrfRmV0t9oHCO2FSstoGKw4sAosX7VRWOzOlG3MSFvTdO0+pl0Vjug81HMO1bMl+jn274ZqHlORHj+ZwQg/35vPSb/cqS5hGWBGvVFBwgRZ/uVuRvSFcLBiWDqSuR+p4uLdprp6I54GFbv/edPr8k226nt54i6yPWh0xxOpMmJxM27ae4Dpklqn6K9jd8M03VrNr2yUaNbo3pzGvjxcDXqhftm5NKi35Zi8V8/V0RkD6UlIS+bgjVrtv2pDG5D2aY5tG8Zg6NYwnJ7uEz7GHvl28x+oYWxvgQrpy+UEVX6ftg2QiaAvkFrGLmJ/tmBhqgvjUZUv30xef7TBNKY/9cB2aMsshXDVThiZwUeYeVoR33dpURaqmsEV2As8jPYEFkbp4sZJOn8ynLVwyBNjhvjrGdRyxcACrrBb/ikyaUVFhqpyBNlb8hZvmp59sVSnkZzJecGXUBCVIDuzPoM/4e+zniAxqxxn/Ig7t8OFsK1KL+yqB69jBQ0REEPAnBISI+dPVlrEKAm4iENgmiGuJdadITl0PglVwOZNUQRwbK7O112opg0nbzJi7adCgeLrtjtGsRG50SWHp1CmMnvrRLEKCAZHWj0AQx4P26duVyVZHZSnSjwiZNQsLyyhFv1H3HgoziFr2WeskMtgNdbBSD5/VHeHc2wULRygido4TUHzx2XaCopvLyivcVM0EFp49u8+wQppp9nXDtiu8H6xORrc+LCzcefe4hv1ceQOi1I7d+C4YDkJ8Hfp05Eg2wa0NMTaIAUMcG4gjBBYOJIM5m1XMFibrmCpYvoZxkd6BA3s0tD52XD9FCHBd9EkcYAk5dCBTJdFBvBnqSUGJRkwXSNtpdhWEq6lx7A0NG97AWtWfU+bHdo5oSBai7QIy9xkTx/1cTzCuS2RDXbL0M4V0lF0fz9uxoiJZCMYNHCAjmTSOGtNbERR9Nkdca1je4Ko3iK1m3XkxAMlQQJyxDS6WsLrZGg9IGIiJu4sI2lj1f/v260aTmAifOsFY6mowwkq4kl1Dj6SeJbiIgkxF8bWGoB/nzpWrviDWC8WbITu2nWQCFkA/+ekCdf+BnMfGRnCtu2n00v8tVfto/4FMn2Ii9/bf1tLWzcfZKspFudlKBStnNhNWlDeAW6EtF83L3IdSO9cE5wFZL2A3VCOeiEkcOSpJ64r8FQT8BgEhYn5zqWWggoD7CFRdqaDjFfsp7eIeKqzOpuLL+fxDamkN07fOya8psX29pSGSlYU77hrHrmeV9M3i3U6RMShnz//7zTRjli3VXH82ed8aEAAniGClcdDgHlZEDOQACvy48f2U4mccDxS/v7EVRrMGGb+H+5g7yQPKWcGE5LI1bN++dO5DgbFpi89QHssuWCY5sNjBzgeQoiFs6YC1yh1BbNCv/usu+vTjLabp56GkQ0nGy1Xp268Lx30NZtfEG1k7Izh73YMPTaasjGJlcdO7okFhB6kD8YKSDysOttlS0O31B7jA+oPEIyBdxjaKmAjipc9oCpdCTRDbFhwc0JBoRNsOCycsRHD1gyBR12NPTqc0tkqiPb2gPWw/zUSjPRM3XGeQCrgD6gkDSB1iGfXWIMTBwto4fGQvfZONeo/zzLtpuCJFIFxaEhWtUVi68MI9pbmPop9mljlsQ3wb5jhiFAMC6pMp3X3vBJU9E5YzvSAt/dmzxdx+iSKxcMfFNQFhNWJhXLAA8QV5xTltxV7v3nXKdKEDCZnGjOur74q8FwT8AgGJEfOLyyyDFARcRwBFnUtrC2ll0cf0TuZvaWne+3Tw/BYuAH1aJe7A97akA1vNxnWcq77GCizci554agbd9+BEm9nYtLaSk7vR//7pQZq3YESDkqF9J39bNwIdOUnF9BnW5BpK/lG26CA1uplkssVsPbu8NZeA4DUmHbcz/cJ98AATG3cFbmVw8/33/3cb3ffARGUNcbct7TgQqAEDu9P3nphBQ9ktzygpQ3vSz/7frRy3E9dgXdPvA8sSlHQQGSOBApGzpYzr28D7mNhwuunmkcpiZfxO+4zkEDiPnoTB8jdnPicrMUnwsI+taCAreoHV779/d4/NpDCw/F1gog1rGFwV9cQDro0zObYqkLOr6uViWRVtZ6tTY1L169vT3sPC9tiTM7gYd7JNHEEINUzMSBjaAsHBfIHbKsisJrCm/eznt5KtGF6MHclhgAf+6rFAra/n/m2B1lTDX8yBDLZWHmd3SFuyfdsJKyIGsod5mNizs63DZLsg4LMI3LgrfXaIMjBBQBBwBQEQrJOXDtB7Wb+jN8/8J20uWkIZFWmczr6I6q7Vp7d21F58GBd85oQfmkDhQ6KGHz0zl15+7Xv00KOTaSjHtHTgNMqQSF6JnzipP73wm7voL288TlOmDWpwKdLakL+tH4HQkGDqw9YXZNI0yj6OXzrDShwsK0aBom12jHE/dz/rMwa624aj45AgAZkTGyNQWOHe+fSzc+kXL9xOI9iVS7OIuNourC6z56bQL1+4ky3Pg03vN5xv5KheirwMGNjN6VNMmpJMt981xulsp8B/ALtF/vgn89kyN8huEhStE3Ble/jRqfTkU7Oob7+u2mb1FwQQ2Vaxj34+YTvio15+7VFF/iwOsvMBJOxZdu275Y4xFmQGh+DZFswE53xp0yabAXHHuF7477vZrfAml/qrDQUJSn7xwh10/4OTlDui5qqqfd+LXUv/k9u/aeFwbZPDv8hw+atf36W8HAan3HBlxYHoM8g53GXN5ABbndO5fIUxiQvm4gzGGPNNRBDwNwTENdHfrriMVxCwgUD11UraWrqEdpeso8o6TifO6eqNyTiMhwYFBPE+V/nH11J5nhv7gHFX9SONtMjjJyYrNx6s4GIFFW5CNTW1HKgdq7K2uatYWp1QNngfAuxKBevoXHa7+vsbayz6B9fV9WsOq5V7Y8FguJXBEvTvz3/EsUnOJYGwaNzBB1gLpjEBgCUE8UBGRdHB4U59fdc9403TsDt1sG4nKLsxsZE0d/5wduXsr9zpNq0/wlaZE5SVWWzqnqY7nAv6hqmxwvVtCFu84AYMMmFLYIkbMqwn/f29H9FSTsKxbNk+zoiYbbU7lGikHr/znnG0kJNrIDEIMkc6KyBJOM8v/vNOTnSyT8Xs5bGbm5mMGdubY5xmsDWnLxOjQJV+fu3qVCYb4TSf4/4W3jKS45tiVI0149jQTyRo+XTRT1VilkWc0RLp6c0kkQt233XveCYqI1RSkqSkWFU/buf2U6ow8t33jadJUwYowgQcm1rQdyTkeODhyUwg+9Pnn26j7ZxAJSe7VBEes/NhfP3Zq2D2vKE0ddpA5Y6IWplwYzQKiBnIGMj43PnD6JOPtnAGziwLq6N2DMjSrDkp3JcplMwxfW05XvEpTgLykx+9y4sBQTSa4+9ApqZMHWSTNH715S4VC6q1ib/oQ2LPWJozb5h+s7wXBPwGgTZlZWW2/YuaCAa4m6BGBXzjPaVkaX3oxpmXPFVHDAon4hjgcuCsy0YTXYKGZqQP9VB4Aw5IQ4y4Dk/OB/Th9IU0Ohq0hrKqjlPN1Wq2et2Iv2iYOLo3gW0CKanDQJoeezsdvbib9p3fSJev3FgBHRg1kp5M/C9qw/+cEQS6I9YAyQg8VVz7Rh+iPbYq6w19cOZ6NXYfrJjv5eQSL/zyc6t4JiQGeOkv32NFub8VOQBpP3Y0m3ZxxkIUpE0ZkqiUzMb0B0WmUcdKc7EDAdO7YDWmbeOxUGSNpMC4jzuf0V/0G657eK5lpBdywpESTvLANbh4GwTKPKzO/ZN7qGQpcFGDwg5LlCuCNOjICIkkGkjcUM7ZGCv5GdaOXdV69uqsFlNASECOVq04QC+9uMQq6yJ++1at/1VDtkXj+XEt0G+Q4syMQpX1D+Qb7qvI0DiaY+WQRAJ1DzU8kT0S4+6f3F0RS4zNaP0xngefEQMGtzvEeB1Py6W8vFL124xkFgM4yRAIAtLrAy+tPWRSTON5OHJ0Hwrh8wTyWEGONYG7YP0ik7X3APoFq7CTj0atSfVXzdEavs5cf1LL8Im/sD4BB7iCxnaOUi5++E3BNdD326Ixkw8qxo/xQO08WK6QnAPulojxxbMZZURUvUkmddp4Me9WrzyoLJ9DmUTjnHDdNCN9e3efpv9+YZFVHCZ0wt/94T5F3k26JZsEAZ9HQCxiPn+JZYCCgCUCcD0E4TpQtok2lH1N5zjxxrVqS4uW5RHQG9pQWFA4De80haZE30oxIV2pvO48bTq3xIKE4biJ0QvV/sY25LMgAASg0MI9cfbcofT2m2stQEFq9KVL9nIWvW7UubNltkwosbCY4NXUgj6BIHhqgawx44FSXN93op5sscGruQS14PBKSAhVqcab4zy4FrjWcIHDa+So3g5Pg2yUrhS11hoEmYvi17COSSprpLbd3t8YJmlwnbYlICGwEOHVlKLmKLcZQvXZR+Gi2pQCMhfIiwUoYaCVMXDUPojXTQtHOtqNc/wTfcflF7I5CYhRQHZhQRURBPwVgaZ9UvgrijJuQcDLEbjK9b5qr3EK65p82lG6gpNubKVLdebuONpQYPkKDmhLsW270qSYhTQsYhKF8GcIyNz/Z+/NfxvLsjSxI4kSte/7vitCsa8ZkZmRe2ZlVfW4ZwbtbhtjGB6MGzDG6AEGGMCA/4AB7DHs+WGAhscwYGBsdzd63NNLdXdV5b5FLrGHpAgptO/7vpAiKYW/7yqegqJIhSiR4nZuFVPk4+N79373vRfnu+ec79xf+lImnYPW7uZvvr1QTmUf4h/mPb/SD4mGAOsTvfX2aRNORxly7/bJbx7LBx+eR7gZc4X0nyhvbPS9IhBrCNCTx+LSDyCe4qv+yPv7n//RR7E2JO2vIhBSBPRfuZDCqQdTBKIHAcvzte5B/SBHj3w7/7cytNZ9YN4XPV/2lAzJSslF+GGbvIXww5r05n2DWnEvSt9al6y6l3a/S0pKlvdL/0C9YbuI6JuDEKCC3e/95zdlFDLoDEOzGsN1/92//Tso9ZUj9LB0NyTM+l7/KgKKQOwgMDW5ZMqWMPzTu9ED91/8k9dNrqP3dn2vCCQaAkrEEm3GdbxxjwAFNlY9C7Lknpcnqz/JnYXPZMk1f+C4bcmpkmsrlNzUfLlQ8KaRnk9PfllTyPfH485+qChO79mcn1YgV/LeViK2BxX9EAgBhri9drPZ1K/69LeP94hMDKIW1v/7f38t//Jf/QMo34VeBCFQn3R76BCgoW3lEvke1VvJ0Pc7/Rw/CFBa/1d/fVfu3xs0CyoMObUaBT/+2R++b33Uv4pAwiKgRCxhp14HHm8IsOjyvGvKyMz/tPSJ9Kw8EM/2/oRxa9zG+5WUJXnJyAnIrZfrRR9Jc9ZZEKmDE/iprti9ek9mNveGlLXlXJaUJCSia1MEDokAC8z+k//6ForuZu0rsutwuCHi4lYidkgso223QhRS9ifOxVC1BagUVlUXRVuXtT8hRoACRBTZoaKib/sd1I0rK3tZ4sT3e/2sCCQKAkrEEmWmdZxxiQBzv+ZRdHkeghvDjmdyd/EzmXNOHTjWVHi/CtLKpMReKQWuWmmxXZdTFS1QADsciRre6JGh9e49JC/Llis3C36BnLK0A8+tXyoCvghQ/ZAvbfGFwEFE7BEk0lksWlt8I0Ahjn/+Rx/H9yB1dIrAMRFQInZMAPXnikAkEKD3a9I5DMXDceleuy89qw/E4QlcUJTer0xbtlSk10tFBshX9kV4v87Lyhy8DsjJSXr+Un75oPFsoaDzmKPfnNd7v/a8q1JsL9ewRG9Q9L0ikMAIsF4cZdSfQhbeuy7bFuT2v/n6KeqN3fRbRDqBIdOhKwKKQAIioEQsASddhxybCGyjaPIivF+jjj4ZdwxIz9oDmXQMwzMVuO4XlQ8L7WVSl9kmlRmN0pp9QcrttQgh3Ln1V+Sl2MZhUJndnDDeMOfWS3EF5pedzb0h9uSMwxxC91EEFIEEQIDS8Bcv18mdH/tQ02zt5YghZb64sC7zqEVGsqZNEVAEFIFERkCJWCLPvo49JhBgza8xiGMMr/fAG9UnA+tPZBlCHMy1CNTSku1Sl9UmDZmn4QGrl0bkfuXaCgLtfqjtLPTcv94pgzi/d6vLapWq9MZdcuf9nb5XBBSBxEXg5s02+du/eSBLS+um2O/5C7UgZ40ovFyB3D974gKjI1cEFAFF4AUCSsT0UlAEohABSs+veZbg9boPAtYrVCmccKAOy5bzwN7mpRXKmdzXQIwapCqzSaoNQTpc7teBB8aX7A+JIOXwrcZ8s2sF7x+b5FnH07+KgCIQPwiwBME//MfX5MLFOqmrK5Gz52vlzNmamCycHT+zoiNRBBSBaEJAiVg0zYb2RREAAqPOPulYvi3TjlEQsAFZdM0KwxIDNYYf1mWdknMID2SeVk1mq+TZQh/yMw2VxIH1rj3dKLCXGm9YKjxw2hQBRUAR8EaAJQp++TtXxO3ZkqKinIBy9t6/0feKgCKgCCQSAkrEEmm2daxRiwDDDx+v3JanK/eMBP20c0S887D8dTwnNc94v1qQ91VirzK5X+FSLVz1LBpBkLnNvYqMZ3NuSH5qib/u6TZFQBFQBCS/IEtRUAQUAUVAEQiAgBKxAMDoZkXgJBCYdY/Jg+m/lknXoMy5JpH7NXeg9ysZ3q9K5HxdLnhbajNapSit3IQFcns4G+uTURyEcvlWK0mvkNaci5KVkmNt0r+KgCKgCCgCioAioAgoAodEQInYIYHS3RSBUCHgfu4yuV8/rH0qk5sjsr65KPSIMS8sUEtPyZRTuZfkcv678HzVSE5qgVEppCx9uBvJ16JrRmYcY3tO1ZR1Tkrt1ZKUdHAB6D0/0g+KgCKgCCgCioAioAgoAgYBJWJ6ISgCJ4TAkntW7ix9Lh1L35u8L8fWurAuV6BGklVgL5HXCj+U87mvS7YtXzJSsk5cnTAZRMuWlCam1NgLrpiWYpeGrPaw5KIFwkO3KwKKgCKgCCgCioAiEE8IKBGLp9nUsUQdAlvwJo05e+XL2b+U/rVO5H1tmLpfB3m/SHwask/JeyW/L/WZp4R5X7ak1AgWS06SkvRKE4b4dPkuiGAKyOFH0pZ9SdhXbYqAIqAIKAKKgCKgCCgCwSOgRCx4zPQXisArEWCo4f3lr0DA/kJmnVOo+bV9YOghD0gv043in8mHxX8gmSnZJuTvJEIPXzkY7MAi0P9Vzb+SmdIxYQHn0rQqSUtOP8xPdR9FQBFQBBQBRUARUAQUAT8IKBHzA4puUgSCRYDy8gwzpLrgb2f/RO4vfC3ubdeBh0mSZEkRm5RnVssHZX8g56BAGG7RjQM7dOCXSYYc0kOnTRFQBBQBRUARUAQUAUXg+AgoETs+hnqEBEWA4YX0fPHVv94pn878mYxvDB2IBkP5WHOLHq/y7Ta5kv6xnK05I/a00BRdPvDk+qUioAgoAoqAIqAIKAKKQNQgoEQsaqZCOxIrCHieu2Xds2K8Xww/vLPwmay5V9H9wKqHzPPKSsmVInuZXCy4JRdzb8n6/HNxbLgimPsVK4hrPxUBRUARUAQUAUVAEYg/BJSIxd+c6ojCgAC9X46tNdT5mpcJ56DcXfpCBla74A3bDHg2yrrT81WQViJVGY1ypeAdachsN8Ib/NG6LAX8rX6hCCgCioAioAgoAoqAIhDfCJwYEXO5POJ0uGR7O7DXIJxQ89xOp1scjk3Z2t4O56kCHtvpfNEHeEG2tiLcB+CRyH1w7F4PB+OwLR4QpkVZ9EzL4MYTebj8LcQ3Jg4uuvw8RbKkUEpSK6F+eFou5L0lxSi8zOZ2Phe37OSOOR1uc03y2ozYXLzoA/HwROya3MGB3kFPWqTvi03xeE7ssbjnWcHnQ6Sej3s6oh8UAUVAEVAEFAFF4EQQODGLY2V5wwwoLe3ETrkHwIX5VZAwl6QkJ0lqpPuQgj6kRgaHeeBAwz8l0fswBxxg+KakIGcrNWXPtcIQQ+e2Q2bdo7KSPC0TSd0y5OqUDc+az357P2basqQ4uVayt4qlUk5La/olSd2yy9aCyLQf79f8gX3Ye+xwfZqfWzFk0D8O4Trr3uNafbBhLmz75mLvvuH6NAccNrFQY7OhDzbf6yFcZ917XPYhNzdz78YQfHr+/DkUOMNf+DsEXdVDKAKKgCKgCCgCCYXAibGB9Iw0ycnJkEgRsc1NtyQnJ0t2tPQhQkSMOKRYOESqDzB42QdeD5EipDS6ST5yctL39GHePSUjG89kZnNMep33ZTl5EoWMA3tpKL5RbK+U2owWKU2vkubUK5K7teP9etWThB5af3141e9C+f1OH1JezEVkCMgOIU4x9+Z+UhzK0QY+FvtgS3nRhwgRMYMD7otQNyVhoUZUj6cIKAKKgCKgCIQGgRMjYtnZ6VJYlC12e2TU4RiOaLdvSlFRjqTZT2zYe2aJ4We7fYiQVy5q+rCxiesBcxFJHF70ITn1uQxtdMvYRp+MewakZ/O+rLqXBdryAVtGSqbUZrYh96tBarPapDXromSkZAXc398Xnq0tiHWkRhQHqw9FuDcj5Sn2eIBDukuKitGHCC0O7PYB12SkyKDpA7zV2hQBRUARUAQUAUUgMRCIDCNJDGx1lFGOwPLWnIwv3ZN5z4QMIP+LRGzr+VbAXtP7VZhWJs3Z54z4BmtqlafX7YpvBPyhfqEIKAKKgCKgCCgCioAioAj4IKBEzAcQ/RjfCLDo8qijVx46fpSxzUGZmx2SFRRhfi6Bww/TUPerJqtFWrMvSlV6g1RnNEtuagFk50MfRhbf6OvoFIHoQCBQ3txhtvvbh9vYGAZqvfceqb/wUH/7Wb8JdJyDzmF9Zx3DOr73ua1t3vv628bvfbd7f7bOoX8VAUXgeAh435/HO5L+OlYRUCIWqzOn/Q4KgTXPknSv3Ze+tQ6Zcg7LtHNMNrccIGD+VTyTQLOyU/OkPfcaCNgFKbFXSam9WuzJGUGdV3dWBBSB/QjQqLde+789eIs3SbHIgfex+N4ybqzveUR/2w4+0+G/9T6nv19594Pfv6ovr/re3zmsbfyt7/ms7/SvIqAIRBcCvF9TkJ/Ml3XfR1cPtTfhRkCJWLgRjuPju7adMuuakOyUPMlLLYq6kW4jzHDGNSYPlr6RofVumXNNyrJrHuGHnoB9JQGrzKxDza/3pQaeryLIzufZioRhidoUAUXg+AhsITdybW0NKrYOcbvd+0iDRSICGSXeRIP78ngejwfS/9v7jsXech/rWL7v+b338fj5OM37+N7H4Xbv5t0fbvfug/Udt3v/ztpubbM+cz82a/vOp9j4byz2OTaQ1V7GAgK8h0nAsrOzpbCwUDIzQ6+aGws4JHoflYgl+hVwxPHPu6bkV5P/F7xLIyZH6q3S/0yu5b9/xKOF9mfu5y7pgffr7uIXMuMYkyX3nDi3NgJ6v3h2W3KqnMu/Ia/lf2hIZX5aqaSr9yu0E6NHS3gESJpmZmakuxviOGNjhpBx21EbDXn+noSOf9WwPyqS+jtFQBE4aQRIxOx2pD7U1Mi1a9ekrq7upLug54sCBJSIRcEkxGIXfjvzJ/Jk5Y64tjdN9z+Z/tOIE7GNrVX5Zv5vpGP5B6geLsm6Z+VA7xc7XmQvkzeKfymnsi9Lti1PsuDdU+9XLF6R2udYQIBesIGBAfnss8+ko6NDVldXDXmywnKOQqQsMkaPWCCvWCxgo31UBBSBxEGAJIwvesEuXbokDQ0NSsQSZ/r3jFSJ2B449MNhEBh3DsrIet8uCeNvFjfhddpehxcpOAn3w5zvVfsMQvHw05k/g+rhADxfCHcCOQyU+8VjpSTbUHC5Ta5kfCxnq85Krj1XUiHIoU0RUATChwAJk8vlkvn5eRkeHpbR0VFjiGRlZZlVYRolwTYSLyssUT1iwaKn+ysCikCkEODzkLVt2Y6yABWpfut5Q4+AErHQYxr3R3yy+iOUBhf2jJN5VenJJxffvLntkB8XfyPfzP2tyfvybHtAvgIrH7Kzuan5cr3oQ3mt4CNxLaTKpmNLclIKQML0NtgzmfpBEQgTAjQ4LOLEvIjy8nJpamqSsrIykysRzGl5LBIxkrvNzU0TmngUMhfMOXVfRUARUARChQCfVwxNrK+vR43b6MuzD9U49TgHI6AW6MH46Lc+CCy7F+Tp8n3Z8Kzu+ea1oo/wOfgV7T0HOeADPVw0vCY3h+TLub+QzqUfjffrgJ+gN0iEpfcLRZffK/3H0p5zXVKT0sxPZpKWxfUK4nbQsfU7RUARCA4B3r8WeeJKcE5OjjQ2NsqtW7ekra1NbDZb0CvDPB49YSR32hQBRUARiCUESMT4LGRUQEFBQSx1XfsaQgSUiIUQzEQ41L3lz2R2c2zPUAvtxfJ6wS/2bAvFB5Ivz7ZLHAh5fLb2UL6e+2sZ3xgUqiEGaiRfqclpkmnLkVO5l+St4n8oFXZNgA2El25XBE4KAW9vFY2PtLQ0Y3xwNbilpcWEKZ5UX/Q8ioAioAhEEwLWIlU09Un7cjIIKBE7GZzj4ixukKIp56g4ttb3jOe90t/f8/m4Hygvv7G1JovuWXm4/LXcW/hSVtyLBx7WlmQD+cqVvLQiuV74vhEO0ZpfB0KmXyoCEUfAWhFWIyTiU6EdUAQUAUVAEYgAAkrEIgB6rJ6ye+0eRDp6oUT40iOVnpIprVkXQzIkEjxKzc/A4/b94q+lb7VDtpD7FajR+0XPV66tUCoya+RW8e9KfcapQLvrdkVAEVAEFAFFQBFQBBQBRSBqEFAiFjVTEd0doUx99+p9mduc3NPRK4VvSyFqbh21McxwwT0jS6456d/okJ8WPpGFzdkDD8fQw/zUEpy3RFoRfng9/wMjPX/gj/RLRUARiDoEvMMVo65z2iFFQBFQBBQBRSDMCCgRCzPA8XL4CUjWTzqH99TlSk/JMLlhyUkpQQ/Tsb0mQxvTsirz8nj5O9Qku4t8MHfA49D7lYXQw1J7lZRl1MjZ3BvSnHVe0lR2PiBm+oUiEO0IMCSRL22KgCKgCCgCikAiIqBELBFnPcgxe567ZWC9S+Cchq4AAEAASURBVGacY3t+2ZB9WgrglSJJOkyj92vePSXPXN0yvPlMRicfy6x74kDxDVtSqim6XJHeILVZzUb5sCStEkWXgyd/h+mj7qMIKAKhR4Cer6MSruP8NvQj0SMqAoqAIqAIKAKhQ0CJWOiwjNsjzWyOSt/aY1n3rOyOMTU5Va4WvA+PVPrutkBvnNsbMu4YkAnHILxgT6UXx1pzL1OQ3u9PSOyYe1ad2Sw1GU0gYK3SlHVOslPy/O6vGxUBRSD6EThqGOJRCVz0I6I9VAQUAUVAEUh0BJSIJfoVcIjxjzr6ZMzRv2fPenjDmjLPSgrUCv01Fldecs9L/3qnjG30yzAI2IRjSJhrFqiRgBXaS6Ul+4Kp/VWfeUoq4QkLdI5Ax9HtioAiEF0IKJmKrvnQ3igCioAioAhEBwL+rejo6Jv2IgoQWPEsyOhG374CzudybkpGSta+HlJ6ftTRKz1rD2TKMSIjjmeyCCGO58+39+1rbWDR5Yas03Iq+4qUpFdIXeZpyYMSojZFQBGIHwRIxo7qFYsfFHQkioAioAgoAorASwSUiL3EQt/5QWBkY4dUeUvWF4Ms1Wa2mMLJ1k82EX74eOW29K91yrRzHPXGhsS55bC+9vs3N63AiG7Q81WWXmO8X8wJ06YIKALxh4A/EsZt/rbH3+h1RIqAIqAIKAKKwH4ElIjtx0S3vECARZWHN3ogJz+9B5Mr+e9Iib0agYTJMrk5JHcXP5NJeL+mkUtGGfrtg7xfENkoSqqVtrTX5FQZQg+z6iUvtQjHOpzgx56O6AdFQBGIeQToKdPQxZifRh2AIqAIKAKKwBEQUCJ2BNAS5SdzrgkZ3OjaQ6xyU/MhoNGM0MN78mjptqkrNu+afKX3KwuFl9tzr8mZ3NckeTVX7K48qc+skLRU9YAlyvWk41QEfBGwCBi9YtZ73330syKgCCgCioAiEK8IKBGL15k95rjc2y6TGzay3rvnSJvbTvmrif/TiG6seZZQV2xrz/feH5KTkpHzVSnXCj6Q1uyL8HwVSlZKrsw712XDTdEO9YJ546XvFQFFQBFQBBQBRUARUAQSBwElYnE+17Mzy/LNV0/km6+fSl/ftKyvbUpZaZ60n62SN26dkrfeOSM22/6aXLOucXmw/LWQkHk319amzG5NeG/a9z41OU1acs7JG0W/I1XpjUbUIxWFlzX8cB9UukERUAQUAUVAEVAEFAFFIEERUCIWpxPvdLrki0875f/43z+VwcFZ8bg9srW1jfAfkempJenqGpW//Iu7Ul1bJH/87/9QKqv2qhSueZaR9zW4D51Atb+4Y6YtW14v/oW8XvixZKbkSGqSHYWXk/cdQzcoAoqAIhArCGxvb8uWZxsh2s/xPENmbEqyJCe/FBlhSOX29vMXz9ed2ogMteQ+KdhXxUhiZaa1n4qAIqAInDwCSsROHvOwn3FjfVP+4j/+IP/b//Ir2djY69HiyWk0bG9vidu9Jc+6J+Qf/YN/I//hT/+FtLZWmL5Rsv7R8neQrF8/VF+rMuvllxX/FPLzl83+6vk6FGy6kyKgCEQ5AnxGLi+ty9zcqjgdLklLs0lefpYUFGZLenoqnqPb4sD2leUNWVlxyOamW57j+WpLtUlOTroUYr/snAxDyqJ8qNo9RUARUAQUgQggoEQsAqCH85Q0BD757SP5X//Nr4yBcJhz0Yj4w//mj+U//MkfSW1diawi9+sZ6oAd1Bh+eLnwbflZ6X8pBakl2FXzvQ7CS79TBBSB2ELA49mS2dkV6Xg0LD3d44Zo2WzJUl1TLBcu1ktNTZE48bwdHZ6TwYFpmZlZwcLXpriwTeAYKyrJlXMXauXM2RrJz8+GZyy2xq+9VQQUAUVAEQg/AkrEwo/xiZ2BITLPeiblf/7Xf3VoEmZ1bh4rvv/Tv/5P8m//3T8T1vLKtuXJnFC2fifUxtrP+mtDEeb05EyZdU6YEMTMlGyE7ezPNbP217+KgCKgCPgiwLC9aAzd47N0bdUpXR3Dcvu7bnG5PEbVcXhoTh4+GJL5+VW5CDJGb1h/7xRI2obJtWXoIsnZ0MCMrPzUJ6OjcyY88eq1JkmFl0ybIqAIKAKKgCLgjYD+y+CNRoy/52rsN192ycLCWtAjYf7Yg3tDcu9Ov1y+USuvF/1S1twrsuJeEPdz1z5paYdnQ76a+Svzas45K+8W/x6KMleZ3LAMkDJtioAioAhYCJBsBZKnD7Td+m0k/noQkjg+Pi8P7g+KA8/Vt96FqFFKivz1X96RH3/oRc7tlszNrprww8zMNLl4uQGesiLJyEgzYYyf/Pqh/PrvH8mdH/ulurrQhH0XFedGYih6TkVAEVAEFIEoRkCJWBRPTrBdcyAf7O7d/mB/trs/V3e/+KxDbrzeKhdz35R8W5E8hHLihGNIZjcnhAWe/RlNfaud0r/aJeWZNXIu93U5n3sTUvXFRi0xJUkvsV2A9Y0ikMAI+PN++XueRANEDie8WoMzMj62IKdOVwk9Wgw9zADpcjrcZntGhl2u32iW1262SltbJXLB0uHdS5aiohzp7ZkwOWT0lI2NzmNxbF2UiEXDzGofFAFFQBGILgROzEqmt2Z5acMkO0cCAuZBsQ+ZmfbI9sERvj7Mza3IQP/MkeFl+E1X55gsLe6IdJRIs3yY2Syztgl5uP219G12ypJnRlypqyLJ23vOQzXFyY0RmXKMyr2lL0DG3pDajFYpS60TuztPkp+/DFtcxlw4wojDno4F+LDbhyxcDxEKGeI1SfKbhT5EKmxpBfekAwqbEe0DcWAfFiOHA68HKo1mLaZjLl5eqwEun7BsZh+oshevjaTLl3hFY1gixYzW1pwyObFkRDZaSbKyMxBuOAvvmMuEUlKog4qzl682yun2anyfvjtt3oST4+Vz1eVC3pg2RUARUAQUAUXAB4ETI2JTk4uyML8WMSNnCcpXm1jlXFl2xG0fpqeXIU2/7DPFh/9IA4THYGK6b6uVW5LrPi1jnm5ZyRmW9awJWd1eENcWVRlf5pHR8Jh3TssXzr8wcvbVyaelYK1J7M5CKUgqh5cs2xA9ioqsQmXMXw0z33OH4zPJpvZBdC5eXFyLi2sQWfBE9JpkHyiWk0jNl5hFw9iphOjEQhH7VldfYl5ulP+YnV02/4bZ7TapqimUK1cajbcsK+slCeMz1Ml/Z+AJ4+ICSVl6ehpCFu3RMDTtgyKgCCgCikCUIXBiRCw3N1Ny8zIj5o3iKje9D6UoZpwKCeJItHD3AXaDyVHgOI/SWPemsChbysrz/f68TPKlDV6yrZRNWczsR2HnURlc75bhDSSzo9Czb9vwrMkzuSNJyQ8kPalIam1npTn7nOQkl0m2K11KyzAXEfJGkQDSA1Jalh8xYq592LliLBzKMBe2CHmjqIZHAzrSfYjUwoTvvZvIn0meSK7az1ZLKp4TvCboIZtC/UWKdGTCg11TWyzNLeVQQ8wC2XqJFnNtKXfPMMZNEPsMeyqk7rPMfi/30neKgCKgCCgCisAOAifGSIoh5VtRWSB2/MMUicZ/PFlfq7KyUNKwohmJxrBIhkeyeDLr0YS6MX+hobFEnnTt92gd5lwkiqfbq6S+ofQQu9eYfUYdfUbqfmxjQMYcvTK3ObXvt89tHnHkTEt/8rw40kekKfWGtNiuSV1NaVhw2NcBPxvCPRd+TrlvE+eLoU7huh72ndDPBqsPVbgmI7VAQYEDLh5UQdQgUsT8ZR+KIkbMrT74maa43UTSE22NC1JFxTmSk5thPFo2hItOTS/J1OSyLCOiogiLVbxn+W+abygpPWfcd2J8QZ5vPZe8vAz8u1dojhVt49T+KAKKgCKgCEQegdCzgciPKWF7QHJx843WIxOxNJBk1scJptVkNAtfc64pQ8T61zqlZ+2+LLnmxb291zPn2fbIyHqvLG4tS1l2I05TG8ypdF9FQBGIMwSiMTSR5JCeSb4YZUDP+SI8YdNTiyZ8lflg5YgaoDfMu3EsXOwbQV2x0dEFSU5JMkqKjY2lESP33v3T94qAIqAIKALRh4ASseibkyP3iETsrbfPyN/+zQOs3i4FdRwaH2UIFXzjzVNB/c7auTitXIrSyqQp65yczr0KlcVx6Vz5QYbXe0DI9iaqu2RDtsVj/VT/KgKKQIIiwOdONHrFXk7HjtgGc2dnZpZBzpJBwDJNiDu9yd6NYYksHTIyPCvM90tLS0V+WWnC5f15Y6LvFQFFQBFQBA5GQInYwfjE1LcMk2mD1PLv/f4N+fd//KlR6zrsAPKQv/ff/9HHJm/rsL/x3Q8mleTY8qU955q4ss6DlJ2VUUe/9K0/hrx9hyyjJlkKij43pl6S7OQC35/rZ0VAEYhTBCzPlzfpst7zO+v7aBz+JjxizA+bnVk1kvRFCEksKMzeF5ZIdUSKUo2MzKPO2LaUl2VLfUOJkbMnSWMO4tbWlhHuiJQyZzTiq31SBBQBRSCREVAiFmezn5OTIb/7j67LIurW/PmffX8oMsaCpP/D//i78u4HZ0OGRlqyXaoRslieXiut2RdlJn9UZuAly0jJkuy1akmHpL02RUARSAwELNLFv8nJyXte3MZXNJIxS8p+GkSMKq87YkZ5UlDgE5YItcT1NYQljiAsEUQMw4EnjIIeFUaAhiqtT5+MmRxhhn8HEkRKjKtBR6kIKAKKgCJgIaBEzEIiTv4y0byyqkD+6X/7nik++qf/z3dG8SvQ8NpOVcq/+Je/kNffaAuLkIotKc2ELBagwHNj1hlJhkdswQVpZ8/e/LFA/dPtioAiEB8IWCTMZrMhZyp190ViFq3N7d6S+bk1U1PMDY8X88MqKgok34eIeeDxYjgiizdTNZES93UQPaoBGaOnbGhoRr7+ssuQspbWimgdrvZLEVAEFAFF4IQRUCJ2woCfxOlo2JCM/eF/94HJ+foKBsCjB0PS1zslq6tOKHllytlzNfLBz86b72lYhFs2nATMnpRhhp8kjpOAQc+hCCgCUYSARcRSUiiEYTMvvuf2aG1UQZyGCiLrM1JVlFL0LLvBfFzvxpDDReSH0XO25dmWktIcSNwXSS6UF0nM+p5NyiKKp19BAeii4lzvn+p7RUARUAQUgQRGQIlYnE4+jRvWbrv2WrOcv1gnXNn1eLaQ57BiVMBqaoqNpHI4ZPTjFFIdliKgCBwDASsXjAWTPR7P7isaQxI5TPaLRb5JrljMmeUFuGjFumK+svUMYWSB+A2Uo2BUQjHk70uQS0YVRS6APQMRozeNObz8q00RUAQUAUVAESACSsTi/DqgweC9esvVWtYyY40cJWFxPvk6PEUgihAgsSEJo/eIL4uMcVs0NnTX1LdbmF8z9f7oCWOoYUnpfo9WCqIQskCwiopyzN8USN+voOZY5+MRefx42BCy1260SFNTmSFq0The7ZMioAgoAorAySOgROzkMdczKgKKgCKQUAiQhPkLQeR26xVtgLBfjCJIQgpbcUmONDWXSQvEN3zrh7HfDO1mbbHzF2qRK7Yumy63dHSMGJVFRiOcu1AnV641mSiFaBun9kcRUAQUAUUgcggoEYsc9npmRUARUAQSEgGSHDaLnPGvtS1aAGHqWlaWXdrP1JhQRNYEa22r9BtJYMIREYp47bUWsaenyfDQrHjg9WOOWENDmZw9X2tqj0XL2LQfioAioAgoAtGBgBKx6JgH7YUioAgoAnGLgEW4OEB/hMvftkiDkQRXWH5BtlwHuToNMpYNUuarlmj1keNjqDcl6wvwmyUIdNCbxqLP/Kx5YRZS+lcRUAQUAUXAGwElYt5o6HtFQBFQBBSBsCDgTcZ8TxCtHjEWXi6Gp4uvVzWOITXVZmqNsd6YNkVAEVAEFAFF4FUIRG8Bl1f1XL9XBBQBRUARiBkE6PXy9Xz5fo6ZwWhHFQFFQBFQBBSBECCgRCwEIOohFAFFQBFQBI6OgBKyo2Onv1QEFAFFQBGIXQSUiMXu3GnPFQFFQBGICwQOCluMiwHqIBQBRUARUAQUAT8IKBHzA4puUgQUAUVAEQgdAurxCh2WeiRFQBFQBBSB+EFAiVj8zKWORBFQBBSBqETgVR4vJWpROW3aKUVAEVAEFIEwI6BELMwA6+EVAUVAEVAEDkbgVUTt4F/rt4qAIqAIKAKKQGwioPL1sTlv2mtFQBFQBOIGgWA8YsHsGzcA+R1IEgpi+/1CNyoCioAioAjECAJKxGJkorSbioAioAjEMgKW18sfkeJ3/rZ7jxfq9yiS7JGNDZdsbrpfub/3b/e8x3F4Lh4P/4/JRgKWakuRzEy7pGekSXKyMrKYnEjttCKgCCQ8AkrEEv4SUAAUAUVAEThZBHaIUHA0aHt7W+bnVuXhgyHp65sSfj6oGWriy09ekDC3ZxukbkuebwfXh4PO5/1deI768gwpyclShKLR587XSfvZGsnOTn/5pb5TBBQBRUARiBkElIjFzFRpRxUBRUARiF0ELI+XRcKszxyR9/tAI9za2pbZ2RX5+qsn8vknneLZ2gq0q9lOL5ENXqOUFO9UaHjCwN9IwvjaDgMR24arzRzXi43R+7bTcH6+wX/MO/71ev9ip1f+SbElS0VFviwurktRSa5kZdkRpujLOl95GN1BEVAEFAFFIMIIKBGL8ATo6RUBRUARSHQEDhOayH1IrNLT00TAOTbWXQEJHPdNT0+VwsJsKQZR2UvGwoc2CaUH3ja3y7PbN5Kyl69tIaEkCXS7d14et8e85+/4e+5ryBn/E6Bt4xhLSxvS3zctY6PzUl1dKHZ7aoC9dbMioAiEE4Gd+3t79z7nuZLxDEpOwQsLQnwe8aVNEfCHgBIxf6joNkVAEVAEFIGQImAZItbfYA9Og4bEqr29Wp71TEhX55g4nS7jXfI9Fm2e9IxUaW2rlDdvnZLCopwTyaPaJWIgWcbnBS5F4kViRvLlwl8n8tscG5uyuuqU9TWnrPK17JA1/HU4XPjOJRv4u+l0m9/uELO9pIwcjd9PTiyCjE1JG8ZZVp6nxp7vhaCfFYEwIsD7nQsq6+ubsry0bu5p3uP0itvTUuCpTpec3AzJxl97ug0LQilh7I0eOlYRUCIWqzOn/VYEFAFFIIYQoNHCl78WaLv3vsnIi8ovyJbzF+tkamrJGD7DQ3PiBsHxVd3g8azwQ3rErr3WYvKoTnpRmsNlLhv7YjxhMNo2YaiRRG04NsUJ0rUOUrYCIrawsCYL82sIv1yWmellmZ1ZkSWEHi6vOMQJYuYBofPOaePx5hCq2f10TM6eqwHZzJa0NP0n3fua0feKQLgQ4AIJ78upKS6GTMvgwAzu2yWzmOLCfZ6WmmK88bV1xVJfXyLVNcXmHrXZbFgwCVev9LixiIA+tWNx1rTPioAioAjEEQL0kr2KjNF4ScMqc2VVIYhVkyEra2ubMgPCwlA970YCtI7vnnSOylelucYjdrq96sTD99hnhkUeFBq5Qxq3jQG3tuqQ5eUNkws3Mb4goyNzMjg4I+OjC2ac9KBZhIyGIMdPMjrQPy1NTeVmnGrkeV8J+l4RCD0CvGfpvR4cmJYff+iVvt5J48kmv+ICyQq83Su4j93uEcnLy5Cm5nK5cq1JLl5ukIryfEnVBZPQT0oMH1GJWAxPnnZdEVAEFIFEQoCELTMzzZCOG6+3yvz8KgyiAeNR8iVyJCoL8CjdvzcoZWX5xiCqrSs5kBRFAkuOKRWr56mpGZKLMKaKygJpbik34U5UiRwfn5dn3ZMIxRwB4ZqRaXjLGMZoPGyQ85+dWYYhOCXnL9RLXn6myaOLxDj0nIpAoiDAcMTxsXn55uun0vFoWErgdb/4Rr1UVReZ+4+ebN6T9+8NmL9jYzsLKQxbfP2NNoQR50fdcyhR5i4ax6lELBpnRfukCCgCioAi4BcBhijm5WeZcDwSsXmE83U/HTe1xXxDFD0wmCbGF+X728+kpDRPcnIyjNcomutu7RAzm+Tn20AeM6WmpkhaWirk9JlqedI1Kg/vD5kcudnZVZN7toLQRXrEuDpfXVMIMpfpFzfdqAgoAsdHgAs+a2sO6Xg8LD9932ueRW+90y4XLtab0Gk+W5i7ysWUfCyMkLQ9fTImjx4OGfEO3tO5eDF/TL3Xx5+PeDiCErF4mEUdgyKgCCgCCYSADfLtpaX5culyo0wjX2wJifJcofa494coMo+DROX2tz34Ta5cvtqIfLGMmDCCSMrSoIZYXlEgBRAq2ck3KTXhUPfvDhjFRCfyzcZG5qWne0LOmJpiGSciTJJAl5sOVRHYRWAL6qbM3+zsGJGhoVnkrL5Y+MC9mgKVRN6zGRl2qaktxkLJlkxOLmExaMF4sp92jUl9fam0tFaaYuzcV5sicGJEjC5ZqkExnCISjf8Y88UE6VfVnwlX/xhTbPqA5Gwmb0eiRVMfqBwWaRwi2QfrmuScRAoHqw9UaUuN+DWJPqRG/r5gmFgkGq8DhtNpezUCNGCoQlaHRHiGKNIwWkdexjwEL7wFLXgkKpjRa8TQvuKSHCkoyJJTUF6MJWELjpey/ZWVhcarV1ScY8byw3c90tMzBUGPDRmAR2wc3r9y1BczEv+vhjGke/DapbeAfY1mj2NIB60HiwkEdp6rO9fmcckPxYFmEA48MjxnBHaedo1LDhZ2SL6uXm8yzxXyq7RUm5ThXmxprZB7WDThM2p5yWFUTsfG5oz3Ojk5Mv/WxMSkJVAnT4yIMXGRLVL/+C2YXAKXicuNVKLkbh+wmpuKmzQSjaE8NL5ZEDSh+4DcC4YPpKAuUaQMb+Z/RL4PK+iDO8I47PSBNaJsESJBc3MrRsmO52c/ItHYBw0rOzzyNKiysu1Gov7mm21GQfDRwxHZ2HCaOly7RwK33YLxxGLQzNkoLcs1IUSsvZW8p9jz7i+i9g1FP/IQekjhEeaT5SLU0mbrlG54w8ZRT6ynexz5c6UYY+qJkSEauVxoZd4aa6Ix5IrzwhBSbYpApBGgB4vX5obDaRYosrPTj2X7UAWVQkAsO+Ha9MjU5KLxjp0+UyXnLtTu2rhJCFHMwOJJCRZ/iouzjUAHy1iQxNGLT6dEpP6tifSc6Pn3InBibCAjI838wxEpIsZ/KPiPLms6RKwPqB9j+oB/PCPZB/5jzlyJSPVhEzjs9CETfYiM0Wv6ADJqrocIGf9WH2hQRYoM7vQhxdybEevDCyLIuYhkH/iPIu+LSPXBEOIYIwZ7/zk5+U809gsgaX8BQhWUcl9EkjylpPm8925w1CCHzGNC+H5EXkcp8sWyQRYY7nfcFXLv85zEexp49HhReMSGukRbIEKsTcaaYpSyZ64K66adxPOdJGwDkQ30DvT0jBv1yvYzNdLYVAaFSiViJ3E96DkCI2CpG/ZC1ZB5pFQwPHuu1ohqHPX+SE5KlgwIBuXh3ysWjactw2Ol4t8P32cJCzqnw/bNAvnjvy+bWPxlFA7vGT6TtCkCRODEiBgvRP6jZ0e8eyQaJX95sxQW4h8o+4kNe89QPViZSbNvntg/kntO/uJDtPTBbnCIXN0b4mD6gGvyqA9kf/gGs40hDrwfeF9Eug8slBspTzGTme2OVNwX6EOEPMUv+5ATMSLGPjA8UVtwCDBfrKIyX15DrTDW3yIZ49+dcKSXx2LIIguv9j6bNPliRukMctIMKWIoUSw1Gny8VyqqCuT6a82mptoXn3UhT24B+XBT8IqVhf2ZQnwdCPUfRP7d1189MV4BCos0NpbFEpTa1zhHgJ6nxYV1iNwMmhBlPhvefveM1KG211H+veFCXQ1qgvG+4zObhIq5mc3I+/INCeZ3fO6wvIZRdcV9y6LOXECJtWdOnF8mER1eZBhJRIesJ1cEFAFFQBGIFwRISrigUddQCmnoUwgVWjJiFswL81VR3EJYEYlaBxLty8rzpADkn/W3IrUQcpw5oCHHfrNQ7PUbOyS0q3PMEM2LlxqMt5+r9eFoFgmjCMqXX3TJTz/2mXDEttPVUg2RgljEMxw46TEjiwCfDZlZaVAwLJPR0Wr58vMu+fzTTpOT/cFHFwwZCzY8kGkdVQhr/uCji9KI+mAU5KAwB4kdF4W8mwljXHea2oBuhO3yfqRXLh95qppH6Y1UYr9XIpbY86+jVwQUAUXgxBCwQncYUmi9rG3H6QSPwVDDM2erZWG+3eSDdaGYM42kPQ0r1JS0J1kjeShG/R/mXFGVMBYNI46bYf/0Ql260ihTyD2ZQIji8PAsCFqR+W7P+EPwwYR5Ipx4GIWmadh+i1pKqQgxvwnRFHol6V0PxZyGoKt6CEXAeL1Y3+utt9tNbtcnv3kkn/zmsXn+fPzzS1KFkg/B5DPy2k5Lw8JPfbER3OD9QILlu+hBDxjz8Vlegx45KrpmgRTyvqxGf4I5p05jfCOgRCy+51dHpwgoAopAVCFAA8SE59hsWEG2GYPEhO0cs5c8LsN8SUioHkhxjkn83ReiCMPJ6XDL0MCM/HC7R8pRXJUJ/MxRjEUCQQLJukRnkJu1vLRhCjwzXspXPfKY8O7+nIIckxAo+Pabbvni806D5VvvnJYbN1pNqKSvQbr7Q32jCEQIActz/Mabp4yU/G2ojZKQ8b7/8GcXgq4tCC6GZ8XOYlKgITFskcIcfchP47OI+WJUPT13vt54jfU+CYRc4m1XIpZ4c64jVgQUAUUgIgiQ6JAw8UUSxlcoyQ/DjCqrCuXNtxCiOLUozJtaQigiV629G4nfGpTPup9MyO3SHuMZo8gEk+9jsZm8FUj5fwjDchVS9lTfDEd4IEOtlpYR2vloGJ6wbuTircjFS/XIl2mBcVm0zysQi1hqn+MTATu0AZpQZJn5YfQas+7e5592SFFxrimBQdGsUDUu/qyuOqS3Z1K6OsaMaiPVEy9dbcBCEcKGc9JDdSo9ThwgoEQsDiZRh6AIKAKKQCwgQAJkvWjU8xUKb5j32ElAWDD1/Q/Pm9o9d37qNyUa9uWLIYF+DiUkKGlfVpYn+flZpmBysDkj3ueO1HuSWYYoMndFhK/QN5JZKnuODM2ZHLyhwVmpQJ2kaxAtoFgBZeu1KQLRigDvkRwsVJw7XyfDKMTMIsskY1981gF5+RxIz9eFRKiJzzOKLvH+uA+BkDGUlSDJYyH5t95pFxZ0jsVnTLTOazz0a29mYTyMSMegCCgCioAiELUIkHxtbW1BccwNmXkWsd4OaV9pcGVmMl+sRt5576w0QMSDxVX9NRZSH4dB9v33zwwhY51Fqqxp248A54y1Dx8+GJSOx8PwaibJ6TPVcgnKk8y106YIRDsCLB9UhJpeF+DFZS0+BxYWOh6PIF+0F+GD+5VWgx0PSRhLZ0xOLMi9O33S+XjU1Ma8hkLPzEe7cLEB4iH2YA+r+8c5AkrE4nyCdXiKgCKgCEQbAt5esVB7xDhWkgSWKrl+vVneercdYhz5fsPmjJcH+WKsPfYdcp6edI0Ziftw9Cna5iCY/hAPrvL39U0ZkROGJFI6/+z5GijGaUhiMFjqvpFFgEIbFLe5imdDSWmu8Zo/wOLCE4j7HLd8CBd2mA/26MEQFnYGxYPFi8sIR/zo5xdNSCIVE7FOpE0R2IOAErE9cOgHRUARUAQUgXAiQI8VXxYZ47n4OdSNeVNVUCh7Ewn6V641QjI6U1gM2bcxn4MiF5S0//72M6M4yOLPJGnadhCgl5DeMOaG9T6bMkVqW5Bvcwpy9cxH06YIxAoCXKTJy4e4DTzmp05Vgixty0DfjCFOLIruK+5z2HGRhFEdkYs59+4OmKLNl5EP9vNfXJbLV5ogW59lDuX93DvssXW/+EZAiVh8z6+OThFQBBSBqEcgXB4o1hdrbC6TW2+dlnaE0WVmpoH17YeD9cXmZlYQTtQvP/3QK9OmILSGKBIpzg1zwwahMvkYRGxlecPk1LXDkGVhW1V/23896ZboRoCFnCnqc6q9GrmhmRD0WZPup+PSh2LvvNaDbTskbE1YMuMOymKwhiFDdn/+S5IwLAIh/5RrTZubbvOdA174cD3zgu277h95BJSIRX4OtAeKgCKgCCQ0AuHwiBFQI+0Oj83Zc7Xy5q1TUo+iqyZfzJeMwfvF3I4RJPHf/rYbnp8ho3qmxpIYD8ECcuceIy+st3fKqDHW1hWhSG65KU6b0BeuDj4mEdh5LmQIvbq1UBt1QWqeSoq9kJpfXFgNakz0Fi9jcYKesO9RDmMeoYlnz9caWXx63bKhkEgSxufLxNiCdDwcQlmNhSN73oLqnO4cEwgoEYuJadJOKgKKgCKgCBwFAXpsmAtyCeFB12+0SFl5nqRAPt+3MRRxY8Mlz7onTZFiKqodZXXc97ix/pmr+MYbBgOSpQBoWNaB0NKjwDIE2hSBWESA3nIWem5AvhiVVlcQnjyEIuUMTzysYA/DGNfXnPKsZ0J+gODPLLzq9LK9DXXEltaK3YLqXNBZX9+Urq5RU39vZGRWiVgsXjRh6rM+RcMErB5WEVAEFAFFIPII0NvGBH2ufN98o83UvWKOSKB8saWldXkA2elvvnwioyNzhzbKIj/S0PeABuTa6o6h2QdvGB2JBQVZUo2QRIqhaFMEYhUBLiLwWq7Dc4F/KdRBr9go5OYdWJB5VeO94XS6ZBDkjeGI01NL0oacs9ffbMOzpsQUrWfIIl9czJifW8GCxrQ5h8u1hcNrEuqrME6U7/1r+ibK6HWcioAioAgoAgERsEQ1Au4QI18wFCkbNYRasUp9841WUz+M+U5cpfa1h5i8PzW1bFa4qbZII41FX3mMRGseD0U6VmQABuQChAgyUausFDXXKisLhB4FbYpArCLAcMF0U3uvyNTDoydsYW7N1BibR3giPb+BGr3nJFfDw7Py/Xc98vTJuDlGE/JR6V2bgxQ+nyvb2JH5p07khA1AcXRkeM7UKmNdsXCFYwfqs26PXgSUiEXv3GjPFAFFQBE4UQRYK8rjoWLgcxjadrOqG46iyyc6qBcnMyvghaghdKEe5GJN6Pnq650WN3I39jQYUNw2DKPp66+emLBGetISUR3Q7UZeyyS8BPAMboOgpqenIrQzH5jkmbyXPbgd8wOvORq4NJAPY6QGu/8xu6c/fwUC1nxwN84f5zGaG/toh6e8HNdzJQqhP3o4bPJCR0fmEWK4bIRoAi2+uFwobM7nA7zmX33RJWtrm+beeIxjkJRZjaGLbnjEnPC2TU0uyfjYvAldVCJmIaR/iYASMb0OFAFFQBFQBAz5Wl9fhzdoyhRcrq6uRvhZoTGqSM7C2WjEhbvRMKSkfTm8OVeuNckMjK3lJQcMpP2S1ezOBrxlT7rGpaCwU4qKcuT8xXqz2h3ufkbT8V2Q8aenYHJiyRjW9oxUKQUJKyzKDkk3aah6QPacOM8mwrzojSRhttttBmt6F1JSUnaNemPYQliBIWGbULdjLg/nlJ4NkkTmAx6GxIWk83oQQ5y5eEPvEEP73JibZBIceEvtmI+d+TtcBsxzXguYT/5NTkk6kblMsSVLLsKUScay4DHf2Ng0JIy5XhxTBq4r38ZrjrXCKMzx218/lIH+WaPESo/xfYQ072l4jvCa5WIWxTp4XfM6zc5Rj9genBL8gxKxBL8AdPiKgCKgCJAIuVzMkZiQu3fvGq8YDeCcnByx2UL7z8TOynn4iZe/WaWRnp6eJvUNpXLz9VaQsRUYX05DyHzJIA2oZXjNHqI4K71ABSAf9fWlxkD0d+x428bxr687Te4LRTpIkLKz0qW4JMeEeR5nvMSaRjvrt42Pz0Otcs4QYxIsG4hVXl4mQr0KgHcJiHOhMexpAFM6n+FgA/3TxmCm4Z6VZTfCIU1N5VIBkk3jOZAn4zh91t/uRWDnmeGRGZR66IXsO+eFixc2kJuCgmypQe5VfUOZFBfnGLK899d7P3Fu11Yd5n7kNZcDosIQWIYTh5NY89gZeB4Ul+SaEORVyM6vrGzgml82uZH+iBiv2wmoHj6CeM342OJONQw8zhwgcQc1nMqcqwBeeYY96jV6EFqJ9V1o/4VNLOx0tIqAIqAIxAUCNKqWl2FQ9fbKw4cPzZjoESsvp0R5XtjHSIPIlwiF66Q0gHJh6LEYMVe2mc/R1TEGrwzqB/nwQxqINDR/RKHnMniCaCCWwGgLp3EYrnEHe1yOnbLcs7OrsglxgbTUZMlBbguFTmy2lGAPt7s/CR69WSRgFEV5+GDQhHmRlNHI5XWQCk9YBfLzrlxtlDdunRYSZxrq9+8NyHff9iDfZtrUY2IODg1/zsnFS/VGKOHUqeoD83t2O6JvjowAYDcenjEIWzBH6juUfBiDNDs9qJzfDHhOWd7gLagH3ny9zYSyBiIeZsED11knCqr/9H2vzM2vSG1tCebylCm4TG9nuBrJUWpaiiFhuSD/7AvFaaanlwwho9rq/gaPHZ4hJJgXLtTu/zrAFooDkaC2NJf79bQF+JluTgAElIglwCTrEBUBRUAR8IeARSjcbrfxhnV2dkpPTw88EHaogQ1KY2MjPA5ZxisWaqLE4/H8Vh/89S9c2xiSVERDCsY7Q++YM0a1tC2IU3g3GpybMC6HUF+MxiY9LjdutkpGph399t4z/t4z5IyesIX5NUOO6CGlh4KvozbOOUnY0NCMya25DSOe8t/0ODY2QegAhXaZu9cPotUJcjyJvBqSwdeA+fzcKkLBHiF0dkmqkdPTfrYaYY1bQjIwhHwdGs8M/2IuH71jnGNt4UFgC3lPVAnk/H35eacRvWlrq4Dny2ZyK+mx5D1FYlNUlGvmJIPF1P00k4cID9NXXzyRT37z2ISdUlSHHjEqGoaTiLE7DG3lNUMvFfvLEha81kjIeP/73uccY11dqfzyd67K2rrDz4j8b8KTzhCwcnh6VejGP0aJulWJWKLOvI5bEVAEFIEXCKyurkp/f788ffoUnopxGNvZMKiGYdxOw+itNsSMhnkoyBiPYR3H+/1JTwYNsGrUEaIQB3NC1kAI5kk6YIx5N35eRzJ+N+qKffvNU+N9aTtdFff5YlRMXCQRW1gzcNjgEaPIAL2JR230eNET9g1EUIglk2tYc+nK9WYzF2nIoZmFB/IriCD8+u8fGJL1218/NvWdKPnNkLFrrzXL+x+ekzIY6hQR+eKzLkOUpyaXIZQwJheQy8f6UFk2+1G7qb87AAGSFZLj+3cHME9dRhnwZx9fkKvXmk1hZBIzepFJ1J4hZPHJk1Ej6+6PiPH+p5AFRSx6n03AO72C+yoFuWJbJuQv3Is0PD69u9nZGVhw2llgYG7Y8rIDwh1OI1DjS+iZh8jw3KLibEPUDoBq31ckY0lYHwj3uPadWDdENQJKxKJ6erRzioAioAiEBwEaA8z7cToZijNtiBi9YPPz8wgR2/GQzczMmNwxErNQqCdaBCw8IwruqBx/JjxbLa2V8uZbp4HBsjxEqBwl7bkS7t0oQT2PEL17d/qNWEVuPmppwStDoyxem8nbWYNBirwZhmzaXnjEMl8YrMGOm8ejp+HOT33wpDwzBvA7752Vd98/a0iYhWU+sF0FKe5+Om5EQoys+PyqEVW4fLlBPv75RTl9ptoY7x2PRxBKO2SOy2uL4Y1UvKNxz9wxbaFHgHl8vb0oeg4ivQiS/sGH5+XDn10UlnoYATGmQAe9SMzfW8TCBuePeV/Pn+8P6bU8UBPji2beOIe8DnLgdWVOJgU/wt34DExPt0kWPHYMc2WfeP2sw9vlgpBMhm2/J4/PDiVT4Z6ZxDm+ErHEmWsdqSKgCCgCexAwxuuL3LBnz54hWX4GBsi6MTImJyeNgiK9Zfn5+Ya0kYzFU6Mxxbyv9jM1MBgXEIa3Kn0Ii2OI2558MRARk6QP9cAff+g1oXTZMPSZeB8o9yXWcSJxWl1xGklv+DCNkh29Gv48G68aK68zCjn0dI8jp+iZUdijV4skrAbFob0xpGFMEkXvG41yGsZueOfykcNDb9ip9ipTXoDelh+QU9SH+kzPt54bTwrPw7yxwzYe25poNa5fjRqvCXqt7vwI3FHg+xQ8wzcgekMSZog78vjmUHeOHmQ2TgXLHhBnvidB827cvgayP47QxDmEMnIOSL4K4W0qwr1FlcFALVRzx3MyJ5HXNf9aBZjpIXcFUE4M1CfdrggcBYH4Xc47Chr6G0VAEVAEEggBKiWScD158gRFewdgFK0ZxcSNjQ0YRnMmb2x2dtZ4zWiwhLpZx6QBHanGVXCGuV1/rUWu32gxoYcpIAO+zSITvc+m5Ltvuk3IFeWuI9h13y6G7DPHytwdejKcyOnizJMsGVnyIxRyppHOHK678CiOIQytHR6tNyDGUFVVuIeEmQHg3Mz9ojfCChO1w0Cubygxv6Ny4yaI8hLkwqlwl4RLh32jGibV70pK8oQhjgc1a3xUYWTO2Ry8nRxnJK/Dg/obLd8xbK8fxPfRg2FgniwX4aFsbqk0hJm5lMSR3q01XDeUsc/ITBWKYDDPy5tsczzEmmUxGP7KUMZ13EvchwscpWX5EIXJMufwHTvvNy6UMJeQtblIDDl3R23WtU1PHsOVec3R67cCTzDLKmhTBMKNwMFPq3CfXY+vCCgCioAiEBEE6N1aWVkxuWB9fX0mPNGqF8a//I5y9qOjozCYq0yeGIlTKI3VUB7rOCDScK+jpD3yxSgQQQEJ5on49o+r8MyP6ewYhVcsz9QXa26piLt8MY6bCng0vGn4spGckojRYA220XCmvDnDDUmqzp6rBbEqNeGJvsciaVuBZ4UGuskVgqWcDhU+5vNVQsqebhUazHl5VLDMMeFvJAVVCBWl+Epjc9krVelI9FhH7glyyoYHZ41c/rkLdTuCIUcYn+8YfD/7Xke+34fzs7XYcdxzcAz0ag4OTMs0sGuFOMdpKI/mQOTCeMPo2QLJZoivmyqbwJGCONU1RSYE2N/5SaBI0DkX9Gomp6FEwgtlUtb18tfosZqA95phqQx7pKf00pVGM3dWeKu/3wXchuuLv2ONPF7fvPfp/XY63MY7FvB3+oUiECIEgn+ihujEehhFQBFQBBSByCBA42xzc9N4wyjSwRwxkq+MjB0hBuaI8XtuHxkZkba2Nsg1F4ets6EmeMF2lOfPxKp9W1slPDVtZpW9q3PUGGO+x6JiHA3H+3cHEZJVACM+y4RmHckI9D14lHwm4SQJo6S/RSKIEaW+qRoXbKMaJQ1cGwxeCp00QSHRXw6XIYAutwkRXUA+mce9U+CZYYpUrKSXBN0w9czaTlXJrbfPGA8YPSktUNqjR7MGhv9B8vpGfAXel6cghb/6q7sIl5yQmtpiY4QzxO4oRDMQHhwPRU9IRCMR1ktvD2XTWQuQ5NXXKxWo3/62cyy8Juj5KijIkjMI562pLTK78p5YhIdyGOqVVNnkHLFwMUlYAwg37y3fxmuMRaBJpmamV8zXvD4416Xwavq/PgRe2k2Ty/n//fmPRhCkuqZQMuFFY19SUvafx/e8/j4TlzSIdljCHFsghfQIk2BqUwTCjUDwT9Rw90iPrwgoAoqAIhA2BOg9YLOUEgcHB42RWFpaasgYQxEXFxeNSAfDE8fGxsxnkrO0tLRdwzxsHYzQgZNhBHIF/8rVJqOiSCGCYRQa9jXG6CGiBPswJO1/RI4SPWOUvqYENg3QeGgcI71R9D5YjUSMBIehnME2FmmuRi7YrbdPG/JaBQPdX6Nxvob8olkY5vRIUiSFXopS1HDjbyySxDwietToPaGAB2Mni4pyTL0qEoCDGvPdLKU+yqyTQPD4bozVIp0H/f6w3xFDehUZ+sgaW5sId+O2k2y8HJn3VIx6WDVUksxm2YWjXqQ7oan0ADPU8OKlBhN2uEPQPMazNQIixnBRPmNYb44F0CsRfuovVNTMNZQJGV5I7yf7xbkuxDxSlZDv9zeSt02oaM5KD4g08eS+JOzHwZbnTkKfScg4RRyTIc7HOej+zusWRcAvAkrE/MKiGxUBRUARiD8EjMEBo4OkiiSL3jAKdFCMg+GHDofDfMfizswfIyGjnL2VJ5aa6s84OhpO3kav9/ujHS00vyLRqKwqQIhiqzEsKWHNvBff/tGIXEX4XB/U4550jkkLjFOKfhzdyA1N/6P1KBRdoMeqGkY5jfhAYWckvcz9YeibyfuBVUw5c3qqKuB9tBpx5nHoceEruMbQRoTNFeZIQ2OZIXBnECrZ0AjPDVQ0Q9V4zTBXquPxsHz91VNhPlokGmvencP4Mj44C89RyZEXC4g5PZJXrjXJufO1ZuGB9wvnbHV1Q0ZBwibg3WJYIskwyS0xZY6Y731BfuOBx4mLHQxlpKeN60P0bLF+WD4KHwfyMKfinCy0zOuJ+zActakFNejCEFIaifnScyYeAkrEEm/OdcSKgCKQwAhwpXdpackUbGbYIUMSm5qaDBEjOSMxoxeMoYn0mjE8kYIeJGUMXWRh3+M2X2Jz3OOF8vdciW9EQeC33z1jZNGpzMfcmD2L43Aq0Li0RD1IzHZ2OKq3IZQjiL5j0UNCosrXQY0eOIa20UtC45w1lxjWRq8KDftQNEyb8WCeBZmgZ41zW4vCwY3N5TDmQ7fQwL7yXttEqOUGCBkLBeMiCcUQDn0M62oklsazay5ia+uhD2N2JG4MbyyEmqF345zNIYy0H95F1uPjfiRilQglZZiov7BE4kDBFXoLWW+M4aLJODY9y/Qw54G8+Wu85+gFpdc6A9cFG8tPNDaVBiRu/o6j2xSBaEJAiVg0zYb2RRFQBBSBMCJAAkRPF0U4KFdP4pWXl4d8jzPI5WhAYdwhs91utxsiRjJGAkZiNjU1Be9BkSn2fNx8F98Vcn6OFnLGvpAwUFBiHlLcNDK7n06YcERrapjLUlCYJafOVMl5iDxQrY+5OPHSaEwTB/7vZdshm5wn3/l7uc/R3/G4DPmcm12GB3YF1+mWMa7zkY9EL2V2APGGYM/IvpNw0ZPGeSNBIXHgNo47VI3HYqHgCxfqpSA/2xDLE+ZhJmST4yK5IZFl+F0oG+fMCG6g0DaLa69CsINeqvyCTKkBuS3GOW1+cgrxM3GAmFJ0Y/pFfhh/x/ywMigmHjTX9K42QZCFOYNcAMlGuOVR8ha9cTD0eOfy9tocwovB66j6VhHwRUCJmC8i+lkRUAQUgThFgIYTJepJuChXzxDF5uZmI8ZRX19vRl1eXg6DKBcr+BtmRZ9eMRIxkjfuy+94HL5C1UJ5rFD0ibkiBQiPuoyV9xms8jOsbGhwzoyZBiPzX1h77Nbb7ULPSvyFJSIfDJ5Pb9EL5laxSC+Ji/f2UODNY1jhnlNQ0WNhZp4nA4V2S2DMl1egeDZC0kLVSJI4huzs0B3Tt28kfCR4zGWrqiraqW8WwnvG93x+P2OcyXArMkeP3qxQN84ZPYoMSbSUD22Ys+LiXKmrK4Gi4Y64iu95WVuMuWTjkLpfepEfxjwy3nPM07TjGIEacSXxyssLvE+g3wbcjkcZ6889f75tlh7IV5NTsAzBC0WbIhBmBEJ4JR/cUyatcgXEuMcP3jUs3/LcVOhh3RcmIUei8fymD3hweSdBn2RfdvtAHBBSEInGZNvduUjkPry4Jh2RnAuv+yI1YnNh3RcuJJZH6pp8+XwIh8FymPuM94QJcTvMzkfYh0aFlRtGIsa8r5ycHBOWWFlZiZCjQijQlSCkqNL8pSdsHWSMhIzeMBIxFnvmPgw12wryOWoZNaEmcUeA4lA/oSgF85Kugow9g7IeBRe2oYDHVftTkO1+570z5juKRBxHje5QnTnhnWiIpiFEk2GanDdSbkTZmULKlPYOBxEzynswyidRNJvKeLCKjdAEa7yVl+cf6K3auaboxdvx5PmDixyI1yyl63mf0dDmOEisrWvT3++Os43H5TnCgddx+hWq3xJH1pqb2C3ILLhmSJ5zjccqUPFvCqPMo3j6NDxpnA/ORRZy2TjXVGTk88W7cX5pO/La4zk5Z3xO828oGj387AdFP9h4XOacher4oeijHiN+ETgxIsbVDy41RCqhcgE3PQ0dhpRQRSgSbbcP+Af+uK70o/afDz8qRtHISOg+INyIRRv5D2SkDO/5qOjDTjHMyOKw0wcmYXPlNhJtDiFoDIvitRApo4l9oPJeuBqNGRIpim8w54vGR21trfGGMeSQiojZ2dkgHxUwiMqMbD33dzidJm+MRIzkjEQtlKId4RpvKI5rkUYWpzV1tFCglmFRb7/TbmqOUUQiHo01EgjW+6JHxyKZzOOhIczXiyoHQUFsGdOUc2eOEO8zYmeRIDe2G/EG5Azx2UxSlYHz06gvLMre3c/7pCRXzHFch9Iic47YX4a1+c4JjXcek4WDpyYXTTgdSQKJNkP2mCtm9cP7+Po+MAI72G8Z7yXzvNYgbEMCRSGWMhBnzlmgZyml4TkXM/B+sqXAa8ff8X5iKKp3IwHjAjrPwRdDIXOwGFIDFU4qJobCjuH14UIuH8kYrwMekwXCA/Xfu3/6XhE4LgInxkiYWMmVxFAnwx4WANbx4MM5B4ZOpMjgnj7gRo9EYx9IRg0OkeoDEod36oVkhuQhehQcXewDyCivyVA8yI/SByZQR0cfUqIAhxTzj2sk54JEkP/Ap6LmTiQaiaCvARnKftAQptFKrxhzwGpqalCQ9bTU19cbEQ4SM4pxUD2Rr6dPn8rCwgK8IC4j7kHyRs9YXV2dUVkMZd9o/LB/0dLYFRp8gwMzcvu7HumGR4zy9qxVxKLPr+PF4sK8f+OxcT64KJIJssJ/Ly1vLZ9ZfHaCIgU1bM4tQ9gozsAQNh5/x9NVICRENIQZKcHvZqFSaeWH8X4kEfMv+LDj4ZpDPlkXCmwvQIGvqaVcWF/MO8eIx15D7tKznkl5cG/AFB2mcAbH19JaLjdutpliwP7l0oMaZoLtvFNra3FxzShdMtyQC1k7eV555lmKad7XeC2wFhmJGBVJ2Vi/y/wOBI5/rUYSxgLqPd3j8ujBkJm7NdSjox3JkGDei41QZvT1oFm/P8xf9ofnYZ9cL4gYr3nWMYuUrXiYfus+8YPAiVkcXO0ogNpOpB52DEfkTUXFH381LU5iShkKuNsH9CUSLWr6YN8010OkHnQGhwj3wQ2j2IHQH94XkcLB6gPvi0h5irk6Shy4ghopIrbbB0haR8pDavoAb3W4Go3fzMxMQ6QowsGQQxZqLigoMIYMw7b4PT1i1dXVhmyRfFHcg/tSTZEqi1RYzMrKAmk8uvfSl3T5fg4XBoc9LlfHR4Zn5fNPO/DqNASB4XE3Xm81eWEUIohXEmZhxEUBKtTRMKYxzJpeJDAkZcE0klqSsK6uUfn6yyfItZsBdim7OXatbeWMQjSelQnkDDE/jIsCDI3kM4EeK6vQrvd5+RuS5QGQ5c8/75SVJQfkz9OFda6strOPS/qeTcoXn3UYNUbOI9uTJ+My2D+DcycZifUqKDNqOzwCxJbeURIjE0qKn9J7SmJN+Xl6lPw1EuNVREiRlK+uOAwpZzhjUXE2wp5zd21EPhMY9kgSdvvbHhDtVWO/8ZyPH40gz3XWeKn5m0Aqi/7Ov28bxkF7gNc1F6o5Bv57nJWZHrF/E/f1UTfENQKRYQNxDakOThFQBBSB6ESARKseHjAKbrBmGPPCGGZIw5eN4YncxvDD4uJiQ8wsLxq9YyRizC2jx8z7d0cZLQ2taCNgHAeNMq7Wf/dtt3z628dYhV9AbaNcef3NNvngo/Mw9ClzHv//dJKI0cClMMnY2Lwwh2vdGN3OoKabePL3xPLXf/cQIg0OSYPnhN4QhpZV1/AaTDFhiePINaJhz6Q0kq+dIs25fj0evGaXUXOsv28Kin3zuF5RCBgvS9acneTiwiSEJH76sQ95TIty9XqTXL7SaOq/UW59AESsG4WBuU2JWFDTanZmuCq9lyRHbFzsSUOkDT2pqan+vcXcl7XDeF8xVywFxIf1wxgmSqEOHoON+1EE5PGjYYQ9OuBib2/bAAAzMklEQVS5bMXCUaXcuzcoXajdNzY6b0ja9RvNxyJiVugjawayPwyHZYgri18nwn1uwNb/RBSB+P/XJKLw6skVAUVAEYguBNLT0+FlKDVGqu1FGKZFiBjiQ7LG7+kZY6Fn5onRoGXtMaon0jPG8EZ6xYIhU9Y5vNGwjC7+9fe9974n8Z75S5Srv/NTn3z2SYcMo0htHjxCLGL78S8uGS8OjbREaPT4kYgVoIgvZeyJDT1jK8uOoIbPcMZnPRNy907/bnFshrEZTwpIlxteCJI1ekgo+rDxwuPG8HVz/oL9YigmlBHeuRHMz9OuMYRLegxBrgKp8zae6cHjuXvwakCtqbffOWM8NU86R42XjkY4DX5e39qCR4D3LQn7bkg1OBTf0+PpL1yQ9zjJ/CBIMOeOhNvklcGTWQ45+kJEJLBxP14f3I815VjXj/cg8xZZCJrXCOeMnmuLBAbf+53zkHztePWckoTzsoA4i1DzFanoiKOMRX8Tuwj4X7KI3fFozxUBRUARUAQOQIBGDgkY88RoBPkSIG6nN4xeL3rHuC+9YpSxp2AH88RIzvg7f8bWAaf2+5VFxvx+eYIbaZRTUOkuSNjf/+0DUzuMuUnMRaEn7Azk6hOFhBF2GtP0SBUjR4tOChq8yyBhFN7C1B+6MeR2FrlfpnAvrxkcjDgypIyiDqwzxULAvQgfpIoeSRqFvXhdMFzaN5VgJ5/MJcNDM4YwDw3OQlUxT86dr5MSyKZbjfO5BI8ZQyEptHL5cqNR8mMuGj1vzEVjP/Lh8csCEdAWHAK8Jphnl5Objpw8u7lGoP5ucq0YUkiC7d3owSThedYzLj/hHqO3i43ELTcvw4SgsqAzG0n/PHL/zNxBUbEZuXx5kMKnN5XeVZaToOeNIfX5WCg4TqNAB0MkSRBZCzAjw25CYplOo00ROAkElIidBMp6DkVAEVAEoggBkihfAmZ1j8SLeWPME6NnjOGK3JehjPPz84aM0SvGPLOjkCjf8x7UF6tP4f5LI5FG+4P7A/J3v7ovHchB4Wp4+9lq+dnPL8qVK02SDlKWSI0Gch4U7BiWydxu1hCjR4yiGPRgHbbtEKqdgsmwc4Fjqin2e/lqI4QWykx+0dMnYy88W26Tk0av1hbC3mhwkxzTqCexYg4PwxF7n03Il190IeSwV9KhZPkawtZaT1XumSMSunWIdJC4MZy0sanMqOJRnXQExYdpeNPjVltbbELiDjse3c9CAMqauC5KSljnrcAoT1r30SjCBulZ3vF2UgjDjXlck86OEfntrx/J/buDxovJa8PI3SMkkbmAljeTx1mHUiLnrrq6yLz4nBgZmZU+hKJyUYDqijWoVUYydtSGQ0Jtk0XEVxEau24IezbCJLlIkKNE7Kiw6u+CREBDE4METHdXBBQBRSCeEaCXKy8vz0jbMzyRIYgrKysmFIheMcrfM1eMHjOGOcZ6o9HH/JBuiDdQmOPRw2FETD2X9vZq+fkvL8sbb54yeVKxPs5g+08jmflWNJApKDQxsYBaoJuGiJHE+MqMBzo+CS0VEquqCoyxy5yzFhAjkiMnDPQeeEh+/L4XpRHWd8gURB6Y90VDnkIcP/3Qh0OjzhQMZMqYD0Ok4T7UD7sQXkiv3Vtvtcsbt04Z49m7D0m4jlkgmCFt9GxyDDTuqYQ5gJA3ijKUwZPGgsvH9ap4nzdR3tMjxrktxdyebq9CvtaECTckUe9AXhfnnAIY9GiurTgxl1MmPPXOj/1Y0FkzMPEYGagfRiLH/DCrcRGgrCzfEGzOO8kWvWl9vVPwks2aea+rL4HqZYUhgNbvgv1LckfBF5b14SID65ntKHXmQagm9p9tweKh+0cGASVikcFdz6oIKAKKQFQiQAOceWKsJUYixvBECnVQPZFeMYYmkoi1t7ebEEbu7+vlisqB+ekUSRgNvF7kEH0FD8uD+1iph9elCflE7394Xt5CvbBirI4naqOHohJqghTUmAQRYy4WvQc0tg9LxCg13gCJ8UtXGowBbnlN7t/tN0qMFNFYglIipedvQpWS5O/728/kDgQ2GKr4m18/NJ6QHCg4cq4o8kCSRuP89TdaMUdnjNAGjXfvxhw3Gvh8sdGLNzG+ZgjDJM5Jg5v9okdMc4G8kTv8e5JZFmCm2MkSiPR33/SYOm0kZZtOj3Q8HjFeM4ptzCLUkF4xelZTQHi24VTlog9LDVTgGvMmYiTYFcgZ44uN9yRLG/T3TuM8G5ILksTSAyTRx2n0slp9o7InSSMJewkWH7xFX45zDv2tIvAqBJSIvQoh/V4RUAQUgQRBgISKhjKl6SnUQSJGQkbyZZGxubk54xVjcWeKdlA9MRaJGMOeKLtN78uXX3bJ7ds9xsirhPH3xq3TplYYQ5QSuZGgVKFeWj28Dw/uDxnvAXO9mPNFI5iG+KsajeoqhJdRKIOGL8U16BEh+SKJp8fj/IU6eD9ajBgKRTpI8ihd3/l42BC/hw+GDFni/pnI4Tl3rkYY2njxcoOp5+ZLwvz1ieFsVFDkfNNTUwMC1txcIaXwimk7GgKcDxKWJuBo5RQ+gjeMZJly83yx/h5DGFk2oKEBheJH5wxp43zYoKxIbyQ9k96137x7w/BBzhfLSQwhL5CNhZ95zjzUhT1q4zOLoZNcWOA1TaJOcl8Jz20p8iI5Hm2KwEkgoETsJFDWcygCioAiEGMIsLgzSRil7Pv7+xE6tmi8YvzL+mIkZPSQWcqLsTQ8GmEsoD2KXKFvv+mWb7/uljkIRtDAexNhbm+/ewZeoKIj5cDFEg6v6isJOT0VzK8qKsqS+bk1SPuvyCQMV4pwHKYuKGx1Y6y3n61BiGcWSBfCDuEdYd4Q6wYytK0BuWJV1YUvRDOey4WL9TDcC0C4ao2oA70W4M2GtDHkjXNDckcv2WHIIOebAhKDEO6g7HkmwuFq6oqkHh4xEgkSRO5DD81hjvcq3BLley5mcOGGntOm5nLjPeY8T5CIwUPmdLqMOAtzDSlPT+KzuLxmBFmoxMlaY2UVyDFDGGIgMm08qCgazdwwCnykg9QxJLENOYEpIEvW3FGQhWIbwTT2j+SccvokXiT/DHn09s4FczzdVxE4CgJKxI6Cmv5GEQgJAsH9oxGSU+pBFIFXIECDlI0iHSRiNTU1xjvG3DB6wJgnRg8ZP1PSnoQt2OLO1jle0ZWwfM1zM9RpamrR5KywWCzD40pQ0+r1W63ywc/OG0PPEg4ISydi5KAkURQpoXHaAA/YHIjYMovxwnhlTg3zxw7TjCcL5Id5YbUohs28HBrl9JaQFJHQ8Vw7bUcEoqa2CKFp+cYb4nS4QcSeGyOcanbBhhJShY+14bpRHJhhjSXweNCYZ1jijhrkhhHyoHeG9aPYX22BESAB4z20CoJMksxGVUPm5LGW25mztWbeuI+5hjC/LnjAbn/3VIYGZs17hieyWDivK0rXB2o8BpUSn/VMQmBl03irWlFPrAKeWsrXL4KkuVHLrBAKn/SuHraRwFGFkcIt87gmmKtGgt8EqfzcY3jaDnt+3U8RsBBQImYhoX8VAUVAEVAEdhEgESspKTFEjHL2lLUnEWOuGL1io6OjxjNWVFQEAyjLrIzv/jjAm0AEjIZvoO8CHOpIm8kxWYCWoUj3oNz2HbxhFH+g/PYlhLm98+5ZaW2rMl6SI50gDn/E4ssM4zt1ulqePp2QdQib0JNITwLl7QN5MvxBwXkm6TqcJw3y9fCY8YX648dq9HxQoKMHxZtJIkggGSZH2XSj5tc5Yjyk9MSRiGkLjADx24B3kXXASGxZ+43XAImtKSEAbFkWwLvUA8P+ZnGfdT+ZAKlaYAEvLPSkwtteIC1tFVKEkEB/jc8EejJ5LhbtZjNkCYSeaovMG3v0ECGzIOrXX2s+NBHbeQ54jADN4MA0FgY8UGYswDVeZRYdgiX6/vqu2xSBwyKwN7v1sL/S/RQBRUARUATiFgEazMz9Yp4YQxPLy1nHJ8+EIbKQKlUUWdyZIYokZvSIHcaL4L3PSRAv3wmiQciwuHt3B6CQ2CFPoZRIg445SrfeOo1wpyrjofH9XSJ/pteKhOv0mWp4kIqMp4PklcSGKobR3kgc6Llhf8fHFjG/Ox6+Okifb289h2d3Xro6Rg255PXhfY1G+9gi0T9iRC/SJ799JH/+Z9/LX/2nu/Krv7kvn3/WZVQu6WH0bjtkimqVIMIQ8WDNLoZ/UuSjHddUa2ulqRfn/RvrPT2ZFIYhEaMYCOeOIZC1tSUmtHUE1+ED3MtjyDujh+uwjX2iUqqlwshnAMNUzyAUNpHFeQ6Ln+4XWgSUiIUWTz2aIqAIKAIxj4BFkqziziRj9HzRS8YQsY0NhKchPJFEjO/ZjlPc2TpfOIGjoba8vG5qGX35eReEIEZM2BSNr3ffPysXLtWbUCmGUml7iQCJCcO2mprLTF01KstNQc2QRvXU5NKJeDJf9ib4d2beIQwyObloiGMuaodRLZG5aZTMpxw6i1RTmIXS+toORoC5fSy+/eUXT6CKOGpy7iZGFxByOA1PMwV89hZyZmghFTfpuWIRbt7rFOZoPVUh1+DFspQR/Z11C6SPdeSYG8bjFCGHqxGKpvkFmUZYh0SKuWgMbWRY5GEb+ziOcEeqOjIs0YRTomB7M0iehiQfFkXdL1QIKBELFZJ6HEVAEVAE4ggBGkxWTTESMeaLkZg9R3L+BkQ6WNSZZIx5YgxZDNaTEOz+x4GWCf/MZaFM/XffPIUBNgzp9C2T8P/ue2dhELYYyepgwuyO059w/JaEg7lXa1jpd0Jljp6gUDVKwZdCUOHCxQZDYij13dc7aQQU+D6aG69jGt405JNBKkkCmAvm9njgwZkGEZtBSFu6NCO0TnODXj2TzMdiWCpFT0iUuHCRguvDjnBEuz3NFEW2jkLvGHPz7sNrde/eINQy17FPqjSC1N96u13OYhHkoDBVXsFb8Ip5cBzem5w3FuFeXnJgIWDceOBIoNvbaxBSeri6X7wvmN/YhXDUJ51jJk+RYjHsSzHyRLUpAieNgBKxk0Zcz6cIKAKKQAwgQAOWZIn5XyzeTDLG+mLc5kY4IgkYiRhfa2tQQgPZOUzj763XYfY/7j40vJjkz1X8r758AoGOARQmdhmRABYCvna9CSQzL6hcp+P2KdS/J/bLS/D2YYX/26+foEgy6jjBcxGqxvkigWGeGGtG8T0N8Y5HQ0ZIgeGq0dpowLNmWAUUMfPh8SJ5oDeE5ICFh4kdQ+QoSMJ8NG0HI8DnAkntJl64LAyRotooMWSZA3pMrX2Yw8Uw4K+/eiKDCA0loWeNPuZi3rjZZgQ2Djob544iIJy7HFxzPOfQ4Jz8gFITP/3Qa356FQW7KQBzWLVL9n0UoY4PQAxZ24xqjqxxRyKu83/QbOh34UJAnzrhQlaPqwgoAopADCNAY4otPR0FV1FPjGSMeWL0hHngTbCKOw8NDYHUNBiSdpjwROu41l+eg4a+92duC0XjEOgdGuifki8+75RvIFPPnJNqSKXffKMNxmCrKfgby54w4rSJQsuDAzMofvzAeCtYiLqufkeaPRQ48hgUMKDBfQWGL3PEHoPEdHaMmXpOzKthDSbOY7Q1GujFxbly5WqTCalkjatnIKrLCFekF4UCE6xHRm9LFHY/2uCEBwmLM8CNxIj5XpR6P3+xDgsazVJSlmuuRZKd2ZklhCMOy1cIA6bIC+XhKTn/FjxhLMJN0Y1Xkaedotz5chXHpsLhOIRBWFMuNzfdiKq8htDGi5cajEfzMEBxUWYJKouP4RFnfigFRc6erzGLMQxP1KYIRAIBJWKRQF3PqQgoAopAjCDAvLDCwkJDxqieSNl6SthTpIO1xEjEZmdnjcfMhC6+IHDBDC8cJIznZ0gac4Nuf9cjXyGnZRZhUpUgYfSE0RikFyTWc0IYkshcp6dPxozoRCYkvBm+lZYW2oK0JFmUmm+Fyt3rb7YZQjszTfXJfhDbImOMsy5UtJEZ9puy5gyrtKN/JGGUPSdxrK8vM57R/MKsmPaIBnOvHXdfE1qIHLv29irpgMiJDQSdNbzMNYhi3YyIpXeWhbMfg4hR7ZCqpPSYvYlC6ZdBiFnc+TDKhFzYYXFvkmh6NenV5sKKkb1HbbvT8NAy5+9VhI5j5jOGCozdUM6kN20F4YmUwb9xo8XUydMCzse9MvT3R0VAidhRkdPfKQKKgCIQ5wjQiKUiYnZ2tlFOZHgiiRcFOugVo4w9iRmJGPPE6D1jCxexCgZuSyHxzk99JiSReS1lMABvvt4q73/AWmHl6G9aMIeMun2NcbnmhNE7aTxU9Bq0wutAb5gd8uChbvQcUkHxytVGo2L3xWedkISfkB/Ln0kByAxFMKIxvOulQd9ocoGY58ixpCFfiYQgGj15oZ67UB2PROx0e7V8+PFF2QK5YZgfvVRULqSnjOswzBskMeMiQUNTiSnQfR15mC0gPiRRwXigSZDodbua12S8l9s45s7c2bDY4F1/LvAI2SfmT9JrTK94X9+01DWUyHsfnDXEMDPzcPllgc+g3ygCR0dAidjRsdNfKgKKgCIQ1wjQ0KeRSk8Xa4pVV1cb7xjDE51Op/GMUTnRyhMjYeP+kSZilL2em12VH75/Jr/+uwfS3zttVs5JIN6DQiJrF8U+CUNIIoxLSnv/cPuZPIE3gqFWlPemIiAFFELdMLXGg1hVXSxvQu7fAe/Ed9/0mMLYhVC0y85JB2EvOJSHItR9e9Xx6DUhiThIHOJVx9DvIcwBAstQVIa/MufuwX3Kxy+YUE+SL0rB8zqoQ95WFcodtLRUoJB3hSmifVji5IvzceeOHlDWvmP+5GPkNZaioPdHP7sAtdRzZnGG17U2RSBSCCgRixTyel5FQBFQBGIEAdYUY3hiTU0N8m2K4UVINTlizBNjeCK9YiRn3CcjI+PQwh3hGL4lXHH3Tp/86q/vGYntjIw0rKbXyjvvnUE9rJqYL9hMosu8sDGITnwPsnn7u2dQpFuTq9cajQQ3QwjD1Ui0MzJS4f0qk7ffPWOEGx7cH5Q7P/ZJCXKxMm7ajYGuXqZwzUDkj0svFQVuGN57FvfVxPiikZmnaAu9jLk5GYasFeF6YO2vnTqDkek3PeNUbuRixQ+3eyUNgizvf3hOPgARY0FpvU4jMy961pcIKBF7iYW+UwQUAUVAEfCDgAntQnHn2tpaE6JI9UQqJdLw4t+JiQlT4JkeM34XqcZkfBZq7ewYlt/8/UNTJygdK/QkYR99fAHqaDuKf5HqXyjOy3AveqKoWvj9d93yxWcdJjwsLy/D5LxVIQcu3HlvNF5pYDPHhpLwGcy9ejYhnZ2jUlFViJysShM2Forx6jGiEwFeA/TAVlYWmlc09pILFrxXGJLYhWuTBPIWPHnvf3je9BlD0KYIRBwBJWIRnwLtgCKgCCgC0Y0AjS56ulhLjHli9HwtLy/DK7Np8sUYnjg6OipnzpwxHjPuf9LhifSErSFfqufpmHz6SYfch5eGhhbzWX7+i4sQmDiFfh++6Gu0zQjxZMgllepY/+o2SNg3Xz1Fftg0ars9N+qPDEvMg/rfYcQLjjs+zjFFMNpOV5mCz1UQ7HA4XSYvaGsLSTnaFIEoQAC3jckDbGopNwWkqe5YA8VGPhu0KQLRgIASsWiYBe2DIqAIKAJRioBFqGw2m5Gvp5R9eXm5CUWkciLJGMU6xsbGjHgHwxcZimT97iSGZWqFQSCgp3tCPvnNY+SG9cqmw20Kx76NcMRYJmHE0fKCzc2tmqLU3zPMCiGJY5Bi30KxWyrLsZZSI8IFwxmW6DuXllekEQp2VMJzonYZvSTh9sj59kM/KwL+EOD1Sc9t+1nUOIOQDO+NHIRNnsRChb/+6DZFwB8CSsT8oaLbFAFFQBFQBP7/9u79q63rTOP4NiAwF4k7mLsxjuPEl7RJ2rSd+aEz6Zp/eNb8Okm72rUm7TRJJ42d2MY22OJiEBICgW7Y8z5bFjUuOJZ1jo4kvmctmZs4Z5/PkYwe7b3ffUJAwxO1uLNCmG7Ly8s+eCmM7ezs+OGJCmSqqKiiHY3aFFTy1hPzyHqJvvRrhd116Z2cm5sfszWLPnD/Yj1hKi7QSpvOSeFSAUznlra1z1ZWtvzwqm+/fuzXQFIoU0+Y1loatiB2eXHCCg8M+nf/G3muerGryoODVrhhsJEH5lgIvIWAhiNqUWjd2BBoRgGCWDNeFdqEAAIINJGAgoFecKt6ooYnqtdLiztrbpjK2GuemIp16GuVtFcZe/WKhb2pXQXrhUn6+VL33J/++KMVDbAFm+dG3G8/v+F+9x8f+Z6isNvxrvu35qvWv6299ML3IFbDl84pZ8Msd22to431jF/76u/frdo8rA33bCPjC3XomBpepd4nLbSsIDZg7/azIYAAAgi0jgBBrHWuFS1FAAEEIhNQ6NHizhMTE75ox+joqA9mCmLVXrHV1VW3ubl5XFlR87beZlPI0/5r2aohbC25476yBVr/+Ie7LmlD9TQP7Ne/ec/WCrvlw4n2rZ6lVzcFmLC2V0+j8rlClo728qN9bp/5Hi/N+SpZaW0N6VMp+oODgi82oh4wBbAntjbTyuNtX5hj0yq/6T6vbjo3zdPS/KxZm/ei6pBsCCCAAAKtI0AQa51rRUsRQACByAQUfNTLpZ6w6jyxRCLh54ipemI2m/XzxLSm2LVr147nidUasN72BEs2N2rDeof+bGXTv7AhieotUgW/OVu7SNX8NFfp2bPM8e4uuAt+bkiHrYOk+4Wx6VyrvVoKWwpgWoBWgUuhVIGwXHruiiULrxa+VNFNVR6z1vO1mz3wvXkacqggpuGVqdSe/7n2cdqmtcK0ftfC5XG/6G0tC+Wetj++hwACCCDQWAGCWGO9ORoCCCDQ0gIanqi1xFQ9UR8zmYxf3FnDE6uLO2uemCoral6ZQlrQm9YGSllg+ds3j21e2PdWNv2pr5iYSFz0gefh8qaFsOyJymgKYpovoltYk/XV8aW2lSxoKZS9sPykz7Xml0JYsajP1fNV9LfDg7w7yBV9IFMoy1nBEfWKFYtmphT3hk1Z0pcPt3LxS1YsY3AwumUD3tBMfoQAAggg8AYBgtgbcPgRAggggMBJAS3mPGRriimIjY+P+7L1Cl66VeeJqXiHhjDqvm+z1dJrpkCTyeTcne+f+PLtWrtKJd0VXBRm7lvPWPJp+tSwpWCoHrGQOsT8qap91R4snZfvBdP3LJQdWUirBDWFtcrnKrjxLpvOZTDR5xZtbpgKkyiUsSGAAAIItJYAQay1rhetRQABBCIV0LykeDzutHizqieqMIe2Uqnke8dUsEM9YzMzM1bNb/i4rfq9ejeFGhWwuHvnqfvDl3fct9Yjlk7nfPVA7buQtx6n/J59plt7b6qWODoWdwsWxDQ8MQjf9hbj7BBAAIHmE2hYENN4eA25OLKx8lFshzYURO+Wqg16RzKK7fCwUGmDDT8p27uhUWzN0AZdg+NrEZFDM7ThsAkcqs+LnLWlO6JroceCfzzY8yIWi+p58Wobwq/2d9pzX9dC1fOaeVMPj17wa3Fn9YgpjGnO2Pb2th+CeHh46It1rKys2JpWV3xgU89NEJuOreftg/vr7vdffO/XClMBi+cR/U0J4pzedR8XOirrI01ND1vhlDEr2FEJw++6P34PAQQQQCAagYYFsayGjtgf8KgWetyxSc96sddlw1JiVu43iu24DfZOZiwWTRs0+Tsvh/PeBptfovV5NF9Ea+BEsWmOS/RtyFobShE7VNoQ0/ydiK7F9nbWV6TTY0GPiSi27VTWJWyoWStsmiemqonV4Ykq0LG3t+erJ6ZSKT9cUR8V1IIqY68iGPo7oqGHP9xZ8/OptFjredy6rGiKQtj716fd9OxIZH9PzqM954wAAggEKdCwNNBrfzD1IqO7p2GHPOGkSdKqKBW3Cc1RhcFqG+QQVRhUGxRGaYM5WBhNJHqjuxbWSxx1G1Q4QMEjMWgOEb05UG1DPOI2KAjqeRFVGJRDq1S9U7jSos1aU0xhTD1gmiOm4YmaH/b06VPfS6avFdqC2nSNxsbj7uefLLr3rk35ghhB7buV9qPHycRkwn38yZIVTImHOuetlVxoKwIIINBqAg1LRRo6MTzSb3+Uo5lQrOGICmAjwwORhUENR1Qbhm2dm6jCIG2oPEWbwUGT9bt7CpE+HlTR7dCek3peRPXmQMneHPBtsOdFVGGw2gY9N6PqIfVtsN7qZt+qhTUUsFSsQ0FMxTtUqEPriamMveaIaT0x9ZL19Vm47eqqOzSp0qHWCPvVr993t28v+GIX1bY0u1ng7bPpdj32pmbcFnBm7bDAddkhAggg0DCBhgWxhp0RB0IAAQQQCF1AFRFVvn5+ft6GKY5Z2Hroy9jn83lb/yrle8UUzlTGXgU96i1jr7lp6q1UL7Zu5zaEvbyyqn1CgY7QH+YcAAEEEAhVgCAWKi87RwABBNpPQCFIwxNVFXFubs6qJ076ni8NTyyXy74nLJlM+jC2sLDge8y0oHEQmwKINkJIxYF/EUAAAQRaVyCYclate/60HAEEEEDgHQVUPVEl7DU8UT1fGq6okKZApuGJmium4Yk/FcIIVe94Afg1BBBAAIGWFiCItfTlo/EIIIBAdAKa+6X5YVNTU75wh4KZNpWx17BE9YplMhlfxOO8DyWM7ipxZAQQQACBZhUgiDXrlaFdCCCAQJMLaHhif3+/7xVTz5gKc2hTtcR0Ou17xba2ttz+/v5P9oo1+anSPAQQQAABBAIXIIgFTsoOEUAAgfYXUA+XbirEoR4xrRmWSCT83C3NE1P4UuVEDU9U8Q6Fs7M2esvOkuH7CCCAAALtLEAQa+ery7khgAACIQooQHV3d7uJiQlftKM6T0yHLBQKPoCtrq76QKbS9lFs1kSr2Pjcl7vXMiZaGLoVNrVTy0to7cdWaXMruNJGBBBAoJkEqJrYTFeDtiCAAAItJqDhiYODg75XTMMT9bl6v9Qrtru76xTEVLjjypUrDS85rxBWLJZcJp1zmd2ci9mctlFbAFnrb2ldsmbcFG7L5ecul8u77a09M3vupqZHbAHti83YXNqEAAIIIFCHAEGsDjx+FQEEEDjvAqp4qOGJ1cWd1SumAh3qEVPFxLW1NbexseGHKqq4RyM39YBtrGfcX/932d27t+4GE33uF59ddTduzjXFQsgKXQqLqiqpXq/n1nOXz5fcTmrfPXq06e7eTVolypj7/Hc3LYhdaiQdx0IAAQQQaIBAY/8qNuCEOAQCCCCAQGMFFLC0ptjMzIwPZJoXpsqJKmOv6okKY5onpt6yRs0HU8DJ54vuBwsz//WfX7vlBxvWszTsBof63OKViciDmBxKpSOX28+7bPbAesAKbn/PesG299yjh5vu+78/sd7EbXf16iX36adXGntBORoCCCCAQEMECGINYeYgCCCAQPsKaHiiCnWoYIeGJ6qHTMMSNURRHzU0UWFMvWc/taZYkEolm1/1bDPjnj5J+VDWacMRu7o6mmJYooLYvoWw+9ZTd++HpNt6lnXpTM6lLIitr6Xdkyc7RvHChnROBEnCvhBAAAEEmkiAINZEF4OmIIAAAq0moEChgKXS9eoR002hbGdnx4pkHPmeMQ1N1FwxlbpvZBCLxbrcpakhd+v2nLWj5K5/OOM++GC2KeZbqceuYD12CoqPH23ZMM5D79jb2+1isU5fqCNmoZENAQQQQKB9BQhi7XttOTMEEECgYQI9PT1ubGzMF+1QFUUNSVQJe1VL3N7e9kFscnLSF/FoRKMsG/rhhzdvLbgBK85RLJR90YvZuRELOtH/6auE1x43f3ncxbq7XGdHhy8iouGUX/z39zZHbMu9sLljbAgggAAC7SsQ/V+j9rXlzBBAAIFzI6B5YgMDA8eLO6+srNi8p5wPYpoflkwmfeVE9ZLp9uqmUBLG3LEu61mamBx0wyMDFmpe+MCjoYnNsOmcFRCvXZt2i4uTrrPThk12dliAzbpvv3lswyc73BFBrBkuFW1AAAEEQhMgiIVGy44RQACB8yWguWHqDdPwRBXm2Nra8vPEstmsr5yoBZ617tjrQSxMpU4LN7o126YeO7VLQxF7eyut07BNX1a/OSvrNxsh7UEAAQRaXqD5/jq1PCkngAACCJwvAfVm6aaQpTL28/PzbnR01IJGp58TplL26XTaF+3QMMV8Ph8akNqhIh1ah0vzrlSNUAsjh9HjFtpJsGMEEEAAgXMhQI/YubjMnCQCCCAQvoCGJ2odsbm5Oaf5YCrgodClxZ21ppiqJ2r4or6n3rPqFlRIOrJ1uPYtfCWf7thQyB1fKVE9TrNzo3Ybs2IhPb4gRvW4fEQAAQQQQCBKAYJYlPocGwEEEGgjAc1rUmVEhbDp6WnfK1Yt2KE1xTQ0UV+/HsSCINCwvkw65777bsX95asHbi2Z9kFMIe/K0qT7t89vultWuOOiBTM2BBBAAAEEmkGAINYMV4E2IIAAAm0ioOGJ6hWbmprywxQVvjQ0UeFLRTu00LOGLGoOWXWrt1iHZS1bPLro7tx56r60ioNaGPnK0oQflviXr5bd48dbNmwyZgFx2M0vjFUPa8MVnZ+vVrShjOXykf/6+IcBfqL5YCpJrzY043y1AE+VXSGAAAII1CBAEKsBi7sigAACCJwuoJ4nFeFQqFKvmIKYFndeXl52mUzGV0/U4s4KZfp5kAU7FKI2NjLu/7597HIWwn777zfcJ58uubsWzO7eSdpQxZR79PCZ9chlTgQx9aKlUnvu0fKme7aVdUflcMrFd1t5eq1ntrR0yQ0N958OyHcRQAABBM6dAEHs3F1yThgBBBAIR0BhTDfN/9LQxNlZLZ484MOZgpd6wzRfTJvWFwticWcd7+Cg4B5amNrc2HXvX59xH39yxfX2ddui0vtuJ7Xve7p0rNePpzllqe09Xy7+/r11a1OlbUHqKJj29fW4GzfnrIdwkCAWJC77QgABBFpcgCDW4heQ5iOAAALNJqDFnVXGXkFM1ROfPHnie8IUxhSc1CtWKpX852q7vveum8JU2gLXqg0/vNBxwb3/wbQNjRywRaT33OrKlq3LtWvBMObXExsZiZ84jErFD1sP1Yc3Zt34RMJ66YLvEVMQ8z1il4YslP6jQMmJhvAFAggggMC5FCCIncvLzkkjgAAC4QgoeKh6YiKROB6eqPlgmh+m8KVeqXqC1+utfm4LNefzJb/+1uLihA09HHfPLditr6Xd8oNNd2i9ZRMWsubnx3wYe/X3u7o63dS0zWezGxsCCCCAAAKNFiCINVqc4yGAAAJtLKCQVRmO1+d7xTREUcU7tKizgljQm4pfjI3F3S8+u+qLYahnK39YtLlpG+7xo2eVIh3WG7VgAY0eqaD12R8CCCCAQD0CBLF69PhdBBBAAIF/EqgMx6tUT5yZmfHDE5PJ5D/dL4hv+CA2nnBjdtOmwh1rto7Y/R/X3LPNXTcQv+iWrl5yl69MULEwCHD2gQACCCAQmABBLDBKdoQAAgggIAH1iqlE/fCwlYufn/dDFO/du+d7xcIWKhTKbnV12923YYml0nMrkJGwAh7TbtJ6xU7bNLTxuc0N08d3n6l22p7/8T0bremHTio0KqS+7ab2yDKsdr1tO7gfAggggEA4AgSxcFzZKwIIIHCuBRQ4VDFRQxN105yxdDp9XDWxilNLMKn+zlkfFab2sgc2N2zDPbEw1nOxy5erV4+YCnaot0z3USDSTZ/n9vNW2CPr1x57variWcep6fuWuzptLtpgos/32vXWsqC0JTAVEDmydrMhgAACCLSfAEGs/a4pZ4QAAgg0hYAWdx4bG/NBTB+3trbc/v7+ibYFWbijVCr79cTu3193e7uHbtTmjqk3bHZu1Bf02La1wg5t/pjKyA+PVNYy29radV//9aFVWNy2HrTgA486wBS+rl6dch9/amX1awhisikVj0Jp14mLwBcIIIAAApEIdERyVA6KAAIIINC2An443cvhiaqYODk56W9ayDnIHrBXAe1wPmSpQIeqJWo438zMsA9iiXiv9cbtu799+8j9+X/u+x6w6u/q914EX7W+unv7qKGIuqlFtW1q25H12h0d1f67tR2JeyOAAAIIRCHQsB6xQqHkDnIFGxoS6l+8Mw1VwljvhOYO8q5Ujp15vzB/oEVHfRty1oZS1G3QOj7Bv/v7Nn5VBz0eznMbqo/JKB0OD4ovnxcFF4vo8eDbkLfnpj0eYrHoHpMqgZ6z52Ys1rD/Fk88XfS80AvvdtkUxjo6OqwHqNeHMBXt0Dyx7e3tUE5RwwqzNixRQWxjPePX7pq/POYWLk/Y//lWwCOZdnfvJE8U7NA8tktTQ+43/3rdHdpj8IWFnjA2DYPsH+hxQ0P9YeyefSKAAAIItKhAw15x7GUP/TuhWtgyim0ntedfcHbZH8RY1G3osjZE9GIvZQ4q7dx13ttgi73m7YWX1hGKxTqjeEi6VFO0IeuHbEXqkKq0IWbXoiuqa2HPi4IFMT0WZBHFpudmwuYRtcumIKZwpDXFtLjzwsKCL2O/srISyilqLtVu5sBXSlTBjlEbeqi1w0ZGB9yOLfj84N66y6QP3K2P5n25ezVCCzr391/0t1Aa9RM7rRi9LBZiGVBeekNAwxF9r6L9vgqJFIslWwRbpf8v2N/Rdyv88RNN4ccIIIAAAhEINCwV9fZ1u8HBPv8uZQTnaT0vZT9hOhFlG4ov22AvtqIKpEVrg15o6gXfuW+DvehODPa67ohCsb8W1gY9L6IKg5U2FKNtg73A7LJroOdmVA56kas3R/S8iLIN6jlpp03BQr1OWkdsbm7O94z19fVZsCgGfpoKLmXr1dWoCznGE732uO536mlUKfsH9zf84/zDG3P+sRZ4A2rcodqr518mnbOgqDeGSr79a8kd9/TJtj8P+e3uHljb193gUJ//v1v/f8dtqKXK9ff399R4VO6OAAIIINBMAg0LYnrXcWi43/X0RDMkT0NT9EJreHjAdfc07LRPXGsNw1Nv3PCItSGiXjm1QcemDS8d9HiI6FoUX14LPS+ia0O58niwNkTVU6wXo93WS6viCVH1FKsNGjas50VUQazahhP/abTBF5oTpuGJ6hW7dOmSL2mv6olBbwpfGvo3bfPChoZ6/bDnhw83/fSsR/ZRReB//smiW2yS9cQsh/mKjT/+kHTffP3IadSGevXSFsxWV1P2vLTeehu5oNEkX9m8NpXkV69xb1+Pu/reJffLz94jiAX9IGJ/CCCAQIMFokkkDT5JDocAAgggEJ2AqieqV2xqaspXUTw4OAi8MQpi4xMJ9+kvr/owox6wu3eTFnD2ffXEz371nvvZx4tWUr838GO/yw7VI6ZCHBoSu7+Xd3t267TgFbde2Q9u9Lrr1zVf7YUf0q8hlEUbrqj5lGULa5X51tHMp3yXc+V3EEAAAQROFyCIne7CdxFAAAEEAhJQ0Y54PO7L2CuMqYy9esqqtyAOo3312ciLj3522Y98WLYglt078MNNryxNWtGOcR/CNMeqGTaFKw0xvHFr3k1awZCizWvzczWth17n8uqm0Kbh9bpVh5arBD8bAggggEBrCxDEWvv60XoEEECgqQUUIrRdvHjRysnP+KIdyWTSD1dUOXvNIQtqOw43N+ec5oJVSsZXClwEdYyg9qOwpUWmp2dG/C2o/bIfBBBAAIHWESCItc61oqUIIIBAywpontjs7Ky7ceOGLROQs/nCPW5xcdH3lCmUVANbUCdY6VQ62bMU1L7ZDwIIIIAAAkEIEMSCUGQfCCCAAAJvFIjFYm58fNzdvn3bhggO+B6ypaUlP3fsjb/IDxFAAAEEEGhTAYJYm15YTgsBBBBoNgENT5yfn7eqhkNWnTJm87cS/mPQvWHNdt60BwEEEEAAgdMECGKnqfA9BBBAAIFABRS2NARRQxQVyLRVhyQSxAKlZmcIIIAAAi0iQBBrkQtFMxFAAIFWF3g9cL3+daufH+1HAAEEEECgFoGOWu7MfRFAAAEEEEAAAQQQQAABBOoXIIjVb8geEEAAAQQQQAABBBBAAIGaBAhiNXFxZwQQQAABBBBAAAEEEECgfgGCWP2G7AEBBBBAAAEEEEAAAQQQqEmAIFYTF3dGAAEEEEAAAQQQQAABBOoXIIjVb8geEEAAAQQQQAABBBBAAIGaBAhiNXFxZwQQQAABBBBAAAEEEECgfgGCWP2G7AEBBBBAAAEEEEAAAQQQqEmAIFYTF3dGAAEEEEAAAQQQQAABBOoXIIjVb8geEEAAAQQQQAABBBBAAIGaBAhiNXFxZwQQQAABBBBAAAEEEECgfgGCWP2G7AEBBBBAAAEEEEAAAQQQqEmAIFYTF3dGAAEEEEAAAQQQQAABBOoXIIjVb8geEEAAAQQQQAABBBBAAIGaBAhiNXFxZwQQQAABBBBAAAEEEECgfgGCWP2G7AEBBBBAAAEEEEAAAQQQqEmAIFYTF3dGAAEEEEAAAQQQQAABBOoXIIjVb8geEEAAAQQQQAABBBBAAIGaBAhiNXFxZwQQQAABBBBAAAEEEECgfgGCWP2G7AEBBBBAAAEEEEAAAQQQqEmAIFYTF3dGAAEEEEAAAQQQQAABBOoX6Kp/F2+3h0Kh5A5yBVcuH73dLwR8r0M79uFBweVyeVcqN+y0T5zFgR3/uA0l2pCza1IqlU8YNeqL6rXQYzKqNuixoFuUbdCx84dFe14UXCzCa+HbsG9t6I7u8VBxyLtYrLNRD8MTx9Fj8sWLE9/iCwQQQAABBBBoY4GGpIHe3m638/yF29nZd52d0XTC+QBWPGqONqSawCHKNuxbGC7ZtUjtRfd4eNmG1DlvQyUEHrkoHZqhDQqiZXtMprYjfExaG0ZH466j40Ib/8nh1BBAAAEEEECgKnBhd3e3Ie/B7u0d+hc61QPzEQEEEEDgpEA80eu6uqLpkTvZEr5CAAEEEEAAgbAFGtIjppOIx3vDPhf2jwACCCCAAAIIIIAAAgi0hEA04wRbgoZGIoAAAggggAACCCCAAALhCBDEwnFlrwgggAACCCCAAAIIIIDAmQIEsTNp+AECCCCAAAIIIIAAAgggEI4AQSwcV/aKAAIIIIAAAggggAACCJwpQBA7k4YfIIAAAggggAACCCCAAALhCBDEwnFlrwgggAACCCCAAAIIIIDAmQIEsTNp+AECCCCAAAIIIIAAAgggEI4AQSwcV/aKAAIIIIAAAggggAACCJwpQBA7k4YfIIAAAggggAACCCCAAALhCBDEwnFlrwgggAACCCCAAAIIIIDAmQIEsTNp+AECCCCAAAIIIIAAAgggEI4AQSwcV/aKAAIIIIAAAggggAACCJwpQBA7k4YfIIAAAggggAACCCCAAALhCBDEwnFlrwgggAACCCCAAAIIIIDAmQIEsTNp+AECCCCAAAIIIIAAAgggEI4AQSwcV/aKAAIIIIAAAggggAACCJwpQBA7k4YfIIAAAggggAACCCCAAALhCPw/azmSGTRe6C0AAAAASUVORK5CYII=)"
   ]
  },
  {
   "cell_type": "code",
   "execution_count": 23,
   "metadata": {
    "height": 98
   },
   "outputs": [
    {
     "name": "stdout",
     "output_type": "stream",
     "text": [
      "0.3273719092739564\n"
     ]
    }
   ],
   "source": [
    "# Euclidean Distance\n",
    "L2 = [(zero_A[i] - zero_B[i])**2 for i in range(len(zero_A))]\n",
    "L2 = np.sqrt(np.array(L2).sum())\n",
    "print(L2)"
   ]
  },
  {
   "cell_type": "code",
   "execution_count": 24,
   "metadata": {
    "height": 47
   },
   "outputs": [
    {
     "data": {
      "text/plain": [
       "0.32737193"
      ]
     },
     "execution_count": 24,
     "metadata": {},
     "output_type": "execute_result"
    }
   ],
   "source": [
    "#An alternative way of doing this\n",
    "np.linalg.norm((zero_A - zero_B), ord=2)"
   ]
  },
  {
   "cell_type": "code",
   "execution_count": 25,
   "metadata": {
    "height": 98
   },
   "outputs": [
    {
     "name": "stdout",
     "output_type": "stream",
     "text": [
      "Distance zeroA-zeroB: 0.32737193\n",
      "Distance zeroA-one:   3.554595\n",
      "Distance zeroB-one:   3.2444403\n"
     ]
    }
   ],
   "source": [
    "#Calculate L2 distances\n",
    "print(\"Distance zeroA-zeroB:\", np.linalg.norm((zero_A - zero_B), ord=2))\n",
    "print(\"Distance zeroA-one:  \", np.linalg.norm((zero_A - one), ord=2))\n",
    "print(\"Distance zeroB-one:  \", np.linalg.norm((zero_B - one), ord=2))"
   ]
  },
  {
   "cell_type": "markdown",
   "metadata": {},
   "source": [
    "### Manhattan Distance(L1)\n",
    "Distance between two points if one was constrained to move only along one axis at a time.\n",
    "\n",
    "![image.png](data:image/png;base64,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)"
   ]
  },
  {
   "cell_type": "code",
   "execution_count": 26,
   "metadata": {
    "height": 115
   },
   "outputs": [
    {
     "name": "stdout",
     "output_type": "stream",
     "text": [
      "0.46256298\n"
     ]
    }
   ],
   "source": [
    "# Manhattan Distance\n",
    "L1 = [zero_A[i] - zero_B[i] for i in range(len(zero_A))]\n",
    "L1 = np.abs(L1).sum()\n",
    "\n",
    "print(L1)"
   ]
  },
  {
   "cell_type": "code",
   "execution_count": 27,
   "metadata": {
    "height": 47
   },
   "outputs": [
    {
     "data": {
      "text/plain": [
       "0.46256298"
      ]
     },
     "execution_count": 27,
     "metadata": {},
     "output_type": "execute_result"
    }
   ],
   "source": [
    "#an alternative way of doing this is\n",
    "np.linalg.norm((zero_A - zero_B), ord=1)"
   ]
  },
  {
   "cell_type": "code",
   "execution_count": 28,
   "metadata": {
    "height": 98
   },
   "outputs": [
    {
     "name": "stdout",
     "output_type": "stream",
     "text": [
      "Distance zeroA-zeroB: 0.46256298\n",
      "Distance zeroA-one:   4.8467655\n",
      "Distance zeroB-one:   4.384202\n"
     ]
    }
   ],
   "source": [
    "#Calculate L1 distances\n",
    "print(\"Distance zeroA-zeroB:\", np.linalg.norm((zero_A - zero_B), ord=1))\n",
    "print(\"Distance zeroA-one:  \", np.linalg.norm((zero_A - one), ord=1))\n",
    "print(\"Distance zeroB-one:  \", np.linalg.norm((zero_B - one), ord=1))"
   ]
  },
  {
   "cell_type": "markdown",
   "metadata": {},
   "source": [
    "### Dot Product\n",
    "Measures the magnitude of the projection of one vector onto the other.\n",
    "\n",
    "![image.png](data:image/png;base64,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)"
   ]
  },
  {
   "cell_type": "code",
   "execution_count": 29,
   "metadata": {
    "height": 47
   },
   "outputs": [
    {
     "data": {
      "text/plain": [
       "2.4801178"
      ]
     },
     "execution_count": 29,
     "metadata": {},
     "output_type": "execute_result"
    }
   ],
   "source": [
    "# Dot Product\n",
    "np.dot(zero_A,zero_B)"
   ]
  },
  {
   "cell_type": "code",
   "execution_count": 30,
   "metadata": {
    "height": 98
   },
   "outputs": [
    {
     "name": "stdout",
     "output_type": "stream",
     "text": [
      "Distance zeroA-zeroB: 2.4801178\n",
      "Distance zeroA-one:   -2.714236\n",
      "Distance zeroB-one:   -2.1766663\n"
     ]
    }
   ],
   "source": [
    "#Calculate Dot products\n",
    "print(\"Distance zeroA-zeroB:\", np.dot(zero_A, zero_B))\n",
    "print(\"Distance zeroA-one:  \", np.dot(zero_A, one))\n",
    "print(\"Distance zeroB-one:  \", np.dot(zero_B, one))"
   ]
  },
  {
   "cell_type": "markdown",
   "metadata": {},
   "source": [
    "### Cosine Distance\n",
    "Measure the difference in directionality between vectors.\n",
    "\n",
    "![image.png](data:image/png;base64,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)"
   ]
  },
  {
   "cell_type": "code",
   "execution_count": 31,
   "metadata": {
    "height": 81
   },
   "outputs": [
    {
     "name": "stdout",
     "output_type": "stream",
     "text": [
      "0.000129\n"
     ]
    }
   ],
   "source": [
    "# Cosine Distance\n",
    "cosine = 1 - np.dot(zero_A,zero_B)/(np.linalg.norm(zero_A)*np.linalg.norm(zero_B))\n",
    "print(f\"{cosine:.6f}\")"
   ]
  },
  {
   "cell_type": "code",
   "execution_count": 32,
   "metadata": {
    "height": 30
   },
   "outputs": [
    {
     "data": {
      "text/plain": [
       "array([1.2144376, 1.2552103], dtype=float32)"
      ]
     },
     "execution_count": 32,
     "metadata": {},
     "output_type": "execute_result"
    }
   ],
   "source": [
    "zero_A/zero_B"
   ]
  },
  {
   "cell_type": "code",
   "execution_count": 33,
   "metadata": {
    "height": 98
   },
   "outputs": [],
   "source": [
    "# Cosine Distance function\n",
    "def cosine_distance(vec1,vec2):\n",
    "  cosine = 1 - (np.dot(vec1, vec2)/(np.linalg.norm(vec1)*np.linalg.norm(vec2)))\n",
    "  return cosine"
   ]
  },
  {
   "cell_type": "code",
   "execution_count": 34,
   "metadata": {
    "height": 98
   },
   "outputs": [
    {
     "name": "stdout",
     "output_type": "stream",
     "text": [
      "Distance zeroA-zeroB:  0.000129\n",
      "Distance zeroA-one:    1.762281\n",
      "Distance zeroB-one:    1.751802\n"
     ]
    }
   ],
   "source": [
    "#Cosine Distance\n",
    "print(f\"Distance zeroA-zeroB: {cosine_distance(zero_A, zero_B): .6f}\")\n",
    "print(f\"Distance zeroA-one:   {cosine_distance(zero_A, one): .6f}\")\n",
    "print(f\"Distance zeroB-one:   {cosine_distance(zero_B, one): .6f}\")"
   ]
  },
  {
   "cell_type": "markdown",
   "metadata": {},
   "source": [
    "## Now with the sentence embeddings!\n",
    "\n",
    "Dot Product and Cosine Distance are commonly used in the field of NLP, to evaluate how similar two sentence embeddings are.\n",
    "So here we will only use those two.\n",
    "\n",
    "- embedding0 - 'The team enjoyed the hike through the meadow'\n",
    "\n",
    "- embedding1 - The national park had great views'\n",
    "\n",
    "- embedding2 - 'Olive oil drizzled over pizza tastes delicious'"
   ]
  },
  {
   "cell_type": "code",
   "execution_count": 35,
   "metadata": {
    "height": 98
   },
   "outputs": [
    {
     "name": "stdout",
     "output_type": "stream",
     "text": [
      "Distance 0-1: 26.49789\n",
      "Distance 0-2: 2.0785794\n",
      "Distance 1-2: 4.0192165\n"
     ]
    }
   ],
   "source": [
    "#Dot Product\n",
    "print(\"Distance 0-1:\", np.dot(embedding[0], embedding[1]))\n",
    "print(\"Distance 0-2:\", np.dot(embedding[0], embedding[2]))\n",
    "print(\"Distance 1-2:\", np.dot(embedding[1], embedding[2]))"
   ]
  },
  {
   "cell_type": "code",
   "execution_count": 36,
   "metadata": {
    "height": 98
   },
   "outputs": [
    {
     "name": "stdout",
     "output_type": "stream",
     "text": [
      "Distance 0-1:  0.5350335240364075\n",
      "Distance 0-2:  0.9639392830431461\n",
      "Distance 1-2:  0.9288790076971054\n"
     ]
    }
   ],
   "source": [
    "#Cosine Distance\n",
    "print(\"Distance 0-1: \", cosine_distance(embedding[0], embedding[1]))\n",
    "print(\"Distance 0-2: \", cosine_distance(embedding[0], embedding[2]))\n",
    "print(\"Distance 1-2: \", cosine_distance(embedding[1], embedding[2]))"
   ]
  },
  {
   "cell_type": "code",
   "execution_count": null,
   "metadata": {
    "height": 30
   },
   "outputs": [],
   "source": []
  }
 ],
 "metadata": {
  "colab": {
   "provenance": []
  },
  "kernelspec": {
   "display_name": "Python 3 (ipykernel)",
   "language": "python",
   "name": "python3"
  },
  "language_info": {
   "codemirror_mode": {
    "name": "ipython",
    "version": 3
   },
   "file_extension": ".py",
   "mimetype": "text/x-python",
   "name": "python",
   "nbconvert_exporter": "python",
   "pygments_lexer": "ipython3",
   "version": "3.11.5"
  },
  "widgets": {
   "application/vnd.jupyter.widget-state+json": {
    "025457fc6048400dbf847c0c5cb78464": {
     "model_module": "@jupyter-widgets/controls",
     "model_module_version": "1.5.0",
     "model_name": "HTMLModel",
     "state": {
      "_dom_classes": [],
      "_model_module": "@jupyter-widgets/controls",
      "_model_module_version": "1.5.0",
      "_model_name": "HTMLModel",
      "_view_count": null,
      "_view_module": "@jupyter-widgets/controls",
      "_view_module_version": "1.5.0",
      "_view_name": "HTMLView",
      "description": "",
      "description_tooltip": null,
      "layout": "IPY_MODEL_7f6c34e3dbf745ebbf17359601d709d6",
      "placeholder": "​",
      "style": "IPY_MODEL_c763f1d1f248475c8af0129d79e791fe",
      "value": "Downloading (…)b8001fa/modules.json: 100%"
     }
    },
    "0335fd912a07400097bfb8098de5f1eb": {
     "model_module": "@jupyter-widgets/controls",
     "model_module_version": "1.5.0",
     "model_name": "FloatProgressModel",
     "state": {
      "_dom_classes": [],
      "_model_module": "@jupyter-widgets/controls",
      "_model_module_version": "1.5.0",
      "_model_name": "FloatProgressModel",
      "_view_count": null,
      "_view_module": "@jupyter-widgets/controls",
      "_view_module_version": "1.5.0",
      "_view_name": "ProgressView",
      "bar_style": "success",
      "description": "",
      "description_tooltip": null,
      "layout": "IPY_MODEL_fc9da1463a964359b5cda6a879aeb786",
      "max": 112,
      "min": 0,
      "orientation": "horizontal",
      "style": "IPY_MODEL_21a27860f12e43e0b5ba3a1e6cb6fe92",
      "value": 112
     }
    },
    "03b3c8c38dfd49ed809367fa41423daa": {
     "model_module": "@jupyter-widgets/base",
     "model_module_version": "1.2.0",
     "model_name": "LayoutModel",
     "state": {
      "_model_module": "@jupyter-widgets/base",
      "_model_module_version": "1.2.0",
      "_model_name": "LayoutModel",
      "_view_count": null,
      "_view_module": "@jupyter-widgets/base",
      "_view_module_version": "1.2.0",
      "_view_name": "LayoutView",
      "align_content": null,
      "align_items": null,
      "align_self": null,
      "border": null,
      "bottom": null,
      "display": null,
      "flex": null,
      "flex_flow": null,
      "grid_area": null,
      "grid_auto_columns": null,
      "grid_auto_flow": null,
      "grid_auto_rows": null,
      "grid_column": null,
      "grid_gap": null,
      "grid_row": null,
      "grid_template_areas": null,
      "grid_template_columns": null,
      "grid_template_rows": null,
      "height": null,
      "justify_content": null,
      "justify_items": null,
      "left": null,
      "margin": null,
      "max_height": null,
      "max_width": null,
      "min_height": null,
      "min_width": null,
      "object_fit": null,
      "object_position": null,
      "order": null,
      "overflow": null,
      "overflow_x": null,
      "overflow_y": null,
      "padding": null,
      "right": null,
      "top": null,
      "visibility": null,
      "width": null
     }
    },
    "0934184aed664b8eb41671e2dce592f5": {
     "model_module": "@jupyter-widgets/base",
     "model_module_version": "1.2.0",
     "model_name": "LayoutModel",
     "state": {
      "_model_module": "@jupyter-widgets/base",
      "_model_module_version": "1.2.0",
      "_model_name": "LayoutModel",
      "_view_count": null,
      "_view_module": "@jupyter-widgets/base",
      "_view_module_version": "1.2.0",
      "_view_name": "LayoutView",
      "align_content": null,
      "align_items": null,
      "align_self": null,
      "border": null,
      "bottom": null,
      "display": null,
      "flex": null,
      "flex_flow": null,
      "grid_area": null,
      "grid_auto_columns": null,
      "grid_auto_flow": null,
      "grid_auto_rows": null,
      "grid_column": null,
      "grid_gap": null,
      "grid_row": null,
      "grid_template_areas": null,
      "grid_template_columns": null,
      "grid_template_rows": null,
      "height": null,
      "justify_content": null,
      "justify_items": null,
      "left": null,
      "margin": null,
      "max_height": null,
      "max_width": null,
      "min_height": null,
      "min_width": null,
      "object_fit": null,
      "object_position": null,
      "order": null,
      "overflow": null,
      "overflow_x": null,
      "overflow_y": null,
      "padding": null,
      "right": null,
      "top": null,
      "visibility": null,
      "width": null
     }
    },
    "0a2f7dfd976f43698b46d2ee4f930594": {
     "model_module": "@jupyter-widgets/controls",
     "model_module_version": "1.5.0",
     "model_name": "HBoxModel",
     "state": {
      "_dom_classes": [],
      "_model_module": "@jupyter-widgets/controls",
      "_model_module_version": "1.5.0",
      "_model_name": "HBoxModel",
      "_view_count": null,
      "_view_module": "@jupyter-widgets/controls",
      "_view_module_version": "1.5.0",
      "_view_name": "HBoxView",
      "box_style": "",
      "children": [
       "IPY_MODEL_e5260e7642524d679a35589530b6692a",
       "IPY_MODEL_a02d426e0b984945b86920373e68f95d",
       "IPY_MODEL_5fc8041cfba2464ab53b8d641115ab49"
      ],
      "layout": "IPY_MODEL_5b0a3262132e412786b2e1769cf9e680"
     }
    },
    "0bec1953959a4ea9a9eba9c458a39470": {
     "model_module": "@jupyter-widgets/controls",
     "model_module_version": "1.5.0",
     "model_name": "HBoxModel",
     "state": {
      "_dom_classes": [],
      "_model_module": "@jupyter-widgets/controls",
      "_model_module_version": "1.5.0",
      "_model_name": "HBoxModel",
      "_view_count": null,
      "_view_module": "@jupyter-widgets/controls",
      "_view_module_version": "1.5.0",
      "_view_name": "HBoxView",
      "box_style": "",
      "children": [
       "IPY_MODEL_98a59b9993d841bcabe3540b9abe5405",
       "IPY_MODEL_944c663134a7461b9c2daf03a0ee0037",
       "IPY_MODEL_4ababab62e5247819a786480a4fe4a83"
      ],
      "layout": "IPY_MODEL_b6f87f17da4a41cc8142278b09d77f3c"
     }
    },
    "0beddc365b094536a7367c8a7f7cc54f": {
     "model_module": "@jupyter-widgets/base",
     "model_module_version": "1.2.0",
     "model_name": "LayoutModel",
     "state": {
      "_model_module": "@jupyter-widgets/base",
      "_model_module_version": "1.2.0",
      "_model_name": "LayoutModel",
      "_view_count": null,
      "_view_module": "@jupyter-widgets/base",
      "_view_module_version": "1.2.0",
      "_view_name": "LayoutView",
      "align_content": null,
      "align_items": null,
      "align_self": null,
      "border": null,
      "bottom": null,
      "display": null,
      "flex": null,
      "flex_flow": null,
      "grid_area": null,
      "grid_auto_columns": null,
      "grid_auto_flow": null,
      "grid_auto_rows": null,
      "grid_column": null,
      "grid_gap": null,
      "grid_row": null,
      "grid_template_areas": null,
      "grid_template_columns": null,
      "grid_template_rows": null,
      "height": null,
      "justify_content": null,
      "justify_items": null,
      "left": null,
      "margin": null,
      "max_height": null,
      "max_width": null,
      "min_height": null,
      "min_width": null,
      "object_fit": null,
      "object_position": null,
      "order": null,
      "overflow": null,
      "overflow_x": null,
      "overflow_y": null,
      "padding": null,
      "right": null,
      "top": null,
      "visibility": null,
      "width": null
     }
    },
    "0d08be47053e45bcaae7602715569d3b": {
     "model_module": "@jupyter-widgets/controls",
     "model_module_version": "1.5.0",
     "model_name": "DescriptionStyleModel",
     "state": {
      "_model_module": "@jupyter-widgets/controls",
      "_model_module_version": "1.5.0",
      "_model_name": "DescriptionStyleModel",
      "_view_count": null,
      "_view_module": "@jupyter-widgets/base",
      "_view_module_version": "1.2.0",
      "_view_name": "StyleView",
      "description_width": ""
     }
    },
    "13529256a79d46fbbbfaf494609327e0": {
     "model_module": "@jupyter-widgets/base",
     "model_module_version": "1.2.0",
     "model_name": "LayoutModel",
     "state": {
      "_model_module": "@jupyter-widgets/base",
      "_model_module_version": "1.2.0",
      "_model_name": "LayoutModel",
      "_view_count": null,
      "_view_module": "@jupyter-widgets/base",
      "_view_module_version": "1.2.0",
      "_view_name": "LayoutView",
      "align_content": null,
      "align_items": null,
      "align_self": null,
      "border": null,
      "bottom": null,
      "display": null,
      "flex": null,
      "flex_flow": null,
      "grid_area": null,
      "grid_auto_columns": null,
      "grid_auto_flow": null,
      "grid_auto_rows": null,
      "grid_column": null,
      "grid_gap": null,
      "grid_row": null,
      "grid_template_areas": null,
      "grid_template_columns": null,
      "grid_template_rows": null,
      "height": null,
      "justify_content": null,
      "justify_items": null,
      "left": null,
      "margin": null,
      "max_height": null,
      "max_width": null,
      "min_height": null,
      "min_width": null,
      "object_fit": null,
      "object_position": null,
      "order": null,
      "overflow": null,
      "overflow_x": null,
      "overflow_y": null,
      "padding": null,
      "right": null,
      "top": null,
      "visibility": null,
      "width": null
     }
    },
    "1666dd8928524b158c061e3822aaf9c8": {
     "model_module": "@jupyter-widgets/controls",
     "model_module_version": "1.5.0",
     "model_name": "FloatProgressModel",
     "state": {
      "_dom_classes": [],
      "_model_module": "@jupyter-widgets/controls",
      "_model_module_version": "1.5.0",
      "_model_name": "FloatProgressModel",
      "_view_count": null,
      "_view_module": "@jupyter-widgets/controls",
      "_view_module_version": "1.5.0",
      "_view_name": "ProgressView",
      "bar_style": "success",
      "description": "",
      "description_tooltip": null,
      "layout": "IPY_MODEL_03b3c8c38dfd49ed809367fa41423daa",
      "max": 231508,
      "min": 0,
      "orientation": "horizontal",
      "style": "IPY_MODEL_46671751cccc431397c37e30c29d294c",
      "value": 231508
     }
    },
    "1760bbe283b84afbb98f35e752d36d90": {
     "model_module": "@jupyter-widgets/base",
     "model_module_version": "1.2.0",
     "model_name": "LayoutModel",
     "state": {
      "_model_module": "@jupyter-widgets/base",
      "_model_module_version": "1.2.0",
      "_model_name": "LayoutModel",
      "_view_count": null,
      "_view_module": "@jupyter-widgets/base",
      "_view_module_version": "1.2.0",
      "_view_name": "LayoutView",
      "align_content": null,
      "align_items": null,
      "align_self": null,
      "border": null,
      "bottom": null,
      "display": null,
      "flex": null,
      "flex_flow": null,
      "grid_area": null,
      "grid_auto_columns": null,
      "grid_auto_flow": null,
      "grid_auto_rows": null,
      "grid_column": null,
      "grid_gap": null,
      "grid_row": null,
      "grid_template_areas": null,
      "grid_template_columns": null,
      "grid_template_rows": null,
      "height": null,
      "justify_content": null,
      "justify_items": null,
      "left": null,
      "margin": null,
      "max_height": null,
      "max_width": null,
      "min_height": null,
      "min_width": null,
      "object_fit": null,
      "object_position": null,
      "order": null,
      "overflow": null,
      "overflow_x": null,
      "overflow_y": null,
      "padding": null,
      "right": null,
      "top": null,
      "visibility": null,
      "width": null
     }
    },
    "176fe1b57660495aae1d7f75dbadbb84": {
     "model_module": "@jupyter-widgets/controls",
     "model_module_version": "1.5.0",
     "model_name": "DescriptionStyleModel",
     "state": {
      "_model_module": "@jupyter-widgets/controls",
      "_model_module_version": "1.5.0",
      "_model_name": "DescriptionStyleModel",
      "_view_count": null,
      "_view_module": "@jupyter-widgets/base",
      "_view_module_version": "1.2.0",
      "_view_name": "StyleView",
      "description_width": ""
     }
    },
    "194fdda5872b49d78a5dca8a816cfbbb": {
     "model_module": "@jupyter-widgets/controls",
     "model_module_version": "1.5.0",
     "model_name": "ProgressStyleModel",
     "state": {
      "_model_module": "@jupyter-widgets/controls",
      "_model_module_version": "1.5.0",
      "_model_name": "ProgressStyleModel",
      "_view_count": null,
      "_view_module": "@jupyter-widgets/base",
      "_view_module_version": "1.2.0",
      "_view_name": "StyleView",
      "bar_color": null,
      "description_width": ""
     }
    },
    "1c7846400b9643de962953546fd01548": {
     "model_module": "@jupyter-widgets/controls",
     "model_module_version": "1.5.0",
     "model_name": "ProgressStyleModel",
     "state": {
      "_model_module": "@jupyter-widgets/controls",
      "_model_module_version": "1.5.0",
      "_model_name": "ProgressStyleModel",
      "_view_count": null,
      "_view_module": "@jupyter-widgets/base",
      "_view_module_version": "1.2.0",
      "_view_name": "StyleView",
      "bar_color": null,
      "description_width": ""
     }
    },
    "1ee25e0c706b47dfab7671f36c9e3ea0": {
     "model_module": "@jupyter-widgets/controls",
     "model_module_version": "1.5.0",
     "model_name": "DescriptionStyleModel",
     "state": {
      "_model_module": "@jupyter-widgets/controls",
      "_model_module_version": "1.5.0",
      "_model_name": "DescriptionStyleModel",
      "_view_count": null,
      "_view_module": "@jupyter-widgets/base",
      "_view_module_version": "1.2.0",
      "_view_name": "StyleView",
      "description_width": ""
     }
    },
    "1f44d5f8dfc94d0cbc15c6d03f63461f": {
     "model_module": "@jupyter-widgets/controls",
     "model_module_version": "1.5.0",
     "model_name": "FloatProgressModel",
     "state": {
      "_dom_classes": [],
      "_model_module": "@jupyter-widgets/controls",
      "_model_module_version": "1.5.0",
      "_model_name": "FloatProgressModel",
      "_view_count": null,
      "_view_module": "@jupyter-widgets/controls",
      "_view_module_version": "1.5.0",
      "_view_name": "ProgressView",
      "bar_style": "success",
      "description": "",
      "description_tooltip": null,
      "layout": "IPY_MODEL_9679a45fdcf04656a8c81f2be9747fa1",
      "max": 122,
      "min": 0,
      "orientation": "horizontal",
      "style": "IPY_MODEL_1c7846400b9643de962953546fd01548",
      "value": 122
     }
    },
    "21553ec74baf4388bd6b14b17372676e": {
     "model_module": "@jupyter-widgets/base",
     "model_module_version": "1.2.0",
     "model_name": "LayoutModel",
     "state": {
      "_model_module": "@jupyter-widgets/base",
      "_model_module_version": "1.2.0",
      "_model_name": "LayoutModel",
      "_view_count": null,
      "_view_module": "@jupyter-widgets/base",
      "_view_module_version": "1.2.0",
      "_view_name": "LayoutView",
      "align_content": null,
      "align_items": null,
      "align_self": null,
      "border": null,
      "bottom": null,
      "display": null,
      "flex": null,
      "flex_flow": null,
      "grid_area": null,
      "grid_auto_columns": null,
      "grid_auto_flow": null,
      "grid_auto_rows": null,
      "grid_column": null,
      "grid_gap": null,
      "grid_row": null,
      "grid_template_areas": null,
      "grid_template_columns": null,
      "grid_template_rows": null,
      "height": null,
      "justify_content": null,
      "justify_items": null,
      "left": null,
      "margin": null,
      "max_height": null,
      "max_width": null,
      "min_height": null,
      "min_width": null,
      "object_fit": null,
      "object_position": null,
      "order": null,
      "overflow": null,
      "overflow_x": null,
      "overflow_y": null,
      "padding": null,
      "right": null,
      "top": null,
      "visibility": null,
      "width": null
     }
    },
    "21a27860f12e43e0b5ba3a1e6cb6fe92": {
     "model_module": "@jupyter-widgets/controls",
     "model_module_version": "1.5.0",
     "model_name": "ProgressStyleModel",
     "state": {
      "_model_module": "@jupyter-widgets/controls",
      "_model_module_version": "1.5.0",
      "_model_name": "ProgressStyleModel",
      "_view_count": null,
      "_view_module": "@jupyter-widgets/base",
      "_view_module_version": "1.2.0",
      "_view_name": "StyleView",
      "bar_color": null,
      "description_width": ""
     }
    },
    "22759a76c2074086b18a845a1cae43be": {
     "model_module": "@jupyter-widgets/controls",
     "model_module_version": "1.5.0",
     "model_name": "DescriptionStyleModel",
     "state": {
      "_model_module": "@jupyter-widgets/controls",
      "_model_module_version": "1.5.0",
      "_model_name": "DescriptionStyleModel",
      "_view_count": null,
      "_view_module": "@jupyter-widgets/base",
      "_view_module_version": "1.2.0",
      "_view_name": "StyleView",
      "description_width": ""
     }
    },
    "24bccd99ce094a9ca9f73aa1ef0d4a1b": {
     "model_module": "@jupyter-widgets/controls",
     "model_module_version": "1.5.0",
     "model_name": "DescriptionStyleModel",
     "state": {
      "_model_module": "@jupyter-widgets/controls",
      "_model_module_version": "1.5.0",
      "_model_name": "DescriptionStyleModel",
      "_view_count": null,
      "_view_module": "@jupyter-widgets/base",
      "_view_module_version": "1.2.0",
      "_view_name": "StyleView",
      "description_width": ""
     }
    },
    "287d369ea3cc488da2c7b9fd41a765b9": {
     "model_module": "@jupyter-widgets/controls",
     "model_module_version": "1.5.0",
     "model_name": "ProgressStyleModel",
     "state": {
      "_model_module": "@jupyter-widgets/controls",
      "_model_module_version": "1.5.0",
      "_model_name": "ProgressStyleModel",
      "_view_count": null,
      "_view_module": "@jupyter-widgets/base",
      "_view_module_version": "1.2.0",
      "_view_name": "StyleView",
      "bar_color": null,
      "description_width": ""
     }
    },
    "2a255c3cdec34b0b9b590ed05f9ac18b": {
     "model_module": "@jupyter-widgets/controls",
     "model_module_version": "1.5.0",
     "model_name": "DescriptionStyleModel",
     "state": {
      "_model_module": "@jupyter-widgets/controls",
      "_model_module_version": "1.5.0",
      "_model_name": "DescriptionStyleModel",
      "_view_count": null,
      "_view_module": "@jupyter-widgets/base",
      "_view_module_version": "1.2.0",
      "_view_name": "StyleView",
      "description_width": ""
     }
    },
    "2ba3cc1d6cb14bb5926548dc8139fecd": {
     "model_module": "@jupyter-widgets/controls",
     "model_module_version": "1.5.0",
     "model_name": "DescriptionStyleModel",
     "state": {
      "_model_module": "@jupyter-widgets/controls",
      "_model_module_version": "1.5.0",
      "_model_name": "DescriptionStyleModel",
      "_view_count": null,
      "_view_module": "@jupyter-widgets/base",
      "_view_module_version": "1.2.0",
      "_view_name": "StyleView",
      "description_width": ""
     }
    },
    "2bcba1e8250a4753a786f7e3bb91359b": {
     "model_module": "@jupyter-widgets/controls",
     "model_module_version": "1.5.0",
     "model_name": "FloatProgressModel",
     "state": {
      "_dom_classes": [],
      "_model_module": "@jupyter-widgets/controls",
      "_model_module_version": "1.5.0",
      "_model_name": "FloatProgressModel",
      "_view_count": null,
      "_view_module": "@jupyter-widgets/controls",
      "_view_module_version": "1.5.0",
      "_view_name": "ProgressView",
      "bar_style": "success",
      "description": "",
      "description_tooltip": null,
      "layout": "IPY_MODEL_5db5931da6164e45ad410bd5245dd5d7",
      "max": 629,
      "min": 0,
      "orientation": "horizontal",
      "style": "IPY_MODEL_738a32021fbe4e13937a59cc60eddfed",
      "value": 629
     }
    },
    "33a82c2feb9b429d925bdb6b0a4b64f3": {
     "model_module": "@jupyter-widgets/controls",
     "model_module_version": "1.5.0",
     "model_name": "FloatProgressModel",
     "state": {
      "_dom_classes": [],
      "_model_module": "@jupyter-widgets/controls",
      "_model_module_version": "1.5.0",
      "_model_name": "FloatProgressModel",
      "_view_count": null,
      "_view_module": "@jupyter-widgets/controls",
      "_view_module_version": "1.5.0",
      "_view_name": "ProgressView",
      "bar_style": "success",
      "description": "",
      "description_tooltip": null,
      "layout": "IPY_MODEL_a75a921780b5435f880324f819827709",
      "max": 229,
      "min": 0,
      "orientation": "horizontal",
      "style": "IPY_MODEL_7fc51864cff749ee965d969065317463",
      "value": 229
     }
    },
    "358407e69316455bac3d3242d61c4c0c": {
     "model_module": "@jupyter-widgets/controls",
     "model_module_version": "1.5.0",
     "model_name": "HTMLModel",
     "state": {
      "_dom_classes": [],
      "_model_module": "@jupyter-widgets/controls",
      "_model_module_version": "1.5.0",
      "_model_name": "HTMLModel",
      "_view_count": null,
      "_view_module": "@jupyter-widgets/controls",
      "_view_module_version": "1.5.0",
      "_view_name": "HTMLView",
      "description": "",
      "description_tooltip": null,
      "layout": "IPY_MODEL_1760bbe283b84afbb98f35e752d36d90",
      "placeholder": "​",
      "style": "IPY_MODEL_56e28c32682f42429e9d4024810d187d",
      "value": "Downloading (…)okenizer_config.json: 100%"
     }
    },
    "38fbfee4bf444fd8a446f318c3335309": {
     "model_module": "@jupyter-widgets/base",
     "model_module_version": "1.2.0",
     "model_name": "LayoutModel",
     "state": {
      "_model_module": "@jupyter-widgets/base",
      "_model_module_version": "1.2.0",
      "_model_name": "LayoutModel",
      "_view_count": null,
      "_view_module": "@jupyter-widgets/base",
      "_view_module_version": "1.2.0",
      "_view_name": "LayoutView",
      "align_content": null,
      "align_items": null,
      "align_self": null,
      "border": null,
      "bottom": null,
      "display": null,
      "flex": null,
      "flex_flow": null,
      "grid_area": null,
      "grid_auto_columns": null,
      "grid_auto_flow": null,
      "grid_auto_rows": null,
      "grid_column": null,
      "grid_gap": null,
      "grid_row": null,
      "grid_template_areas": null,
      "grid_template_columns": null,
      "grid_template_rows": null,
      "height": null,
      "justify_content": null,
      "justify_items": null,
      "left": null,
      "margin": null,
      "max_height": null,
      "max_width": null,
      "min_height": null,
      "min_width": null,
      "object_fit": null,
      "object_position": null,
      "order": null,
      "overflow": null,
      "overflow_x": null,
      "overflow_y": null,
      "padding": null,
      "right": null,
      "top": null,
      "visibility": null,
      "width": null
     }
    },
    "39d231e7425b40b3ac8c411332898387": {
     "model_module": "@jupyter-widgets/controls",
     "model_module_version": "1.5.0",
     "model_name": "FloatProgressModel",
     "state": {
      "_dom_classes": [],
      "_model_module": "@jupyter-widgets/controls",
      "_model_module_version": "1.5.0",
      "_model_name": "FloatProgressModel",
      "_view_count": null,
      "_view_module": "@jupyter-widgets/controls",
      "_view_module_version": "1.5.0",
      "_view_name": "ProgressView",
      "bar_style": "success",
      "description": "",
      "description_tooltip": null,
      "layout": "IPY_MODEL_c49511b787b1495ab8b8e53d50b12137",
      "max": 90895153,
      "min": 0,
      "orientation": "horizontal",
      "style": "IPY_MODEL_194fdda5872b49d78a5dca8a816cfbbb",
      "value": 90895153
     }
    },
    "3a7ae5bb58124a2d99b6d166979cbb4b": {
     "model_module": "@jupyter-widgets/controls",
     "model_module_version": "1.5.0",
     "model_name": "DescriptionStyleModel",
     "state": {
      "_model_module": "@jupyter-widgets/controls",
      "_model_module_version": "1.5.0",
      "_model_name": "DescriptionStyleModel",
      "_view_count": null,
      "_view_module": "@jupyter-widgets/base",
      "_view_module_version": "1.2.0",
      "_view_name": "StyleView",
      "description_width": ""
     }
    },
    "3b58f4d5f7d24032b34dda78d6640bb4": {
     "model_module": "@jupyter-widgets/controls",
     "model_module_version": "1.5.0",
     "model_name": "FloatProgressModel",
     "state": {
      "_dom_classes": [],
      "_model_module": "@jupyter-widgets/controls",
      "_model_module_version": "1.5.0",
      "_model_name": "FloatProgressModel",
      "_view_count": null,
      "_view_module": "@jupyter-widgets/controls",
      "_view_module_version": "1.5.0",
      "_view_name": "ProgressView",
      "bar_style": "success",
      "description": "",
      "description_tooltip": null,
      "layout": "IPY_MODEL_de598a810ed348f3b99703ee2df5d7ab",
      "max": 190,
      "min": 0,
      "orientation": "horizontal",
      "style": "IPY_MODEL_fe186d2eacf045ff91db878847d121e7",
      "value": 190
     }
    },
    "42556bbd87d54405864ae6632fe1a7d0": {
     "model_module": "@jupyter-widgets/controls",
     "model_module_version": "1.5.0",
     "model_name": "HBoxModel",
     "state": {
      "_dom_classes": [],
      "_model_module": "@jupyter-widgets/controls",
      "_model_module_version": "1.5.0",
      "_model_name": "HBoxModel",
      "_view_count": null,
      "_view_module": "@jupyter-widgets/controls",
      "_view_module_version": "1.5.0",
      "_view_name": "HBoxView",
      "box_style": "",
      "children": [
       "IPY_MODEL_9684c496dbf44102b2859fa9f2065937",
       "IPY_MODEL_1666dd8928524b158c061e3822aaf9c8",
       "IPY_MODEL_e33aaab8459b49798d7a7693c8380fcf"
      ],
      "layout": "IPY_MODEL_38fbfee4bf444fd8a446f318c3335309"
     }
    },
    "431147d89adc4e738f7bd96f8edaed64": {
     "model_module": "@jupyter-widgets/controls",
     "model_module_version": "1.5.0",
     "model_name": "DescriptionStyleModel",
     "state": {
      "_model_module": "@jupyter-widgets/controls",
      "_model_module_version": "1.5.0",
      "_model_name": "DescriptionStyleModel",
      "_view_count": null,
      "_view_module": "@jupyter-widgets/base",
      "_view_module_version": "1.2.0",
      "_view_name": "StyleView",
      "description_width": ""
     }
    },
    "438ae0dc98fc49fe9622f2ca6bcd7d60": {
     "model_module": "@jupyter-widgets/base",
     "model_module_version": "1.2.0",
     "model_name": "LayoutModel",
     "state": {
      "_model_module": "@jupyter-widgets/base",
      "_model_module_version": "1.2.0",
      "_model_name": "LayoutModel",
      "_view_count": null,
      "_view_module": "@jupyter-widgets/base",
      "_view_module_version": "1.2.0",
      "_view_name": "LayoutView",
      "align_content": null,
      "align_items": null,
      "align_self": null,
      "border": null,
      "bottom": null,
      "display": null,
      "flex": null,
      "flex_flow": null,
      "grid_area": null,
      "grid_auto_columns": null,
      "grid_auto_flow": null,
      "grid_auto_rows": null,
      "grid_column": null,
      "grid_gap": null,
      "grid_row": null,
      "grid_template_areas": null,
      "grid_template_columns": null,
      "grid_template_rows": null,
      "height": null,
      "justify_content": null,
      "justify_items": null,
      "left": null,
      "margin": null,
      "max_height": null,
      "max_width": null,
      "min_height": null,
      "min_width": null,
      "object_fit": null,
      "object_position": null,
      "order": null,
      "overflow": null,
      "overflow_x": null,
      "overflow_y": null,
      "padding": null,
      "right": null,
      "top": null,
      "visibility": null,
      "width": null
     }
    },
    "46671751cccc431397c37e30c29d294c": {
     "model_module": "@jupyter-widgets/controls",
     "model_module_version": "1.5.0",
     "model_name": "ProgressStyleModel",
     "state": {
      "_model_module": "@jupyter-widgets/controls",
      "_model_module_version": "1.5.0",
      "_model_name": "ProgressStyleModel",
      "_view_count": null,
      "_view_module": "@jupyter-widgets/base",
      "_view_module_version": "1.2.0",
      "_view_name": "StyleView",
      "bar_color": null,
      "description_width": ""
     }
    },
    "47afc71eaf1c4e999205a736573557b5": {
     "model_module": "@jupyter-widgets/controls",
     "model_module_version": "1.5.0",
     "model_name": "DescriptionStyleModel",
     "state": {
      "_model_module": "@jupyter-widgets/controls",
      "_model_module_version": "1.5.0",
      "_model_name": "DescriptionStyleModel",
      "_view_count": null,
      "_view_module": "@jupyter-widgets/base",
      "_view_module_version": "1.2.0",
      "_view_name": "StyleView",
      "description_width": ""
     }
    },
    "4ababab62e5247819a786480a4fe4a83": {
     "model_module": "@jupyter-widgets/controls",
     "model_module_version": "1.5.0",
     "model_name": "HTMLModel",
     "state": {
      "_dom_classes": [],
      "_model_module": "@jupyter-widgets/controls",
      "_model_module_version": "1.5.0",
      "_model_name": "HTMLModel",
      "_view_count": null,
      "_view_module": "@jupyter-widgets/controls",
      "_view_module_version": "1.5.0",
      "_view_name": "HTMLView",
      "description": "",
      "description_tooltip": null,
      "layout": "IPY_MODEL_f5607a8cd6064471bd6ee228e15dfb26",
      "placeholder": "​",
      "style": "IPY_MODEL_3a7ae5bb58124a2d99b6d166979cbb4b",
      "value": " 690/690 [00:00&lt;00:00, 31.7kB/s]"
     }
    },
    "4bfd6a4026ce490a94ca0b033d1669dd": {
     "model_module": "@jupyter-widgets/base",
     "model_module_version": "1.2.0",
     "model_name": "LayoutModel",
     "state": {
      "_model_module": "@jupyter-widgets/base",
      "_model_module_version": "1.2.0",
      "_model_name": "LayoutModel",
      "_view_count": null,
      "_view_module": "@jupyter-widgets/base",
      "_view_module_version": "1.2.0",
      "_view_name": "LayoutView",
      "align_content": null,
      "align_items": null,
      "align_self": null,
      "border": null,
      "bottom": null,
      "display": null,
      "flex": null,
      "flex_flow": null,
      "grid_area": null,
      "grid_auto_columns": null,
      "grid_auto_flow": null,
      "grid_auto_rows": null,
      "grid_column": null,
      "grid_gap": null,
      "grid_row": null,
      "grid_template_areas": null,
      "grid_template_columns": null,
      "grid_template_rows": null,
      "height": null,
      "justify_content": null,
      "justify_items": null,
      "left": null,
      "margin": null,
      "max_height": null,
      "max_width": null,
      "min_height": null,
      "min_width": null,
      "object_fit": null,
      "object_position": null,
      "order": null,
      "overflow": null,
      "overflow_x": null,
      "overflow_y": null,
      "padding": null,
      "right": null,
      "top": null,
      "visibility": null,
      "width": null
     }
    },
    "50f98368a40042aa9c7ca357c30bd978": {
     "model_module": "@jupyter-widgets/controls",
     "model_module_version": "1.5.0",
     "model_name": "HBoxModel",
     "state": {
      "_dom_classes": [],
      "_model_module": "@jupyter-widgets/controls",
      "_model_module_version": "1.5.0",
      "_model_name": "HBoxModel",
      "_view_count": null,
      "_view_module": "@jupyter-widgets/controls",
      "_view_module_version": "1.5.0",
      "_view_name": "HBoxView",
      "box_style": "",
      "children": [
       "IPY_MODEL_8afb3e622b6e4bbfa38f94055e092d34",
       "IPY_MODEL_39d231e7425b40b3ac8c411332898387",
       "IPY_MODEL_61962094327743c0aac444acd819eb87"
      ],
      "layout": "IPY_MODEL_599951b5e51a4e6986b793515f425046"
     }
    },
    "535fe64ce36d4eadbb028cb75cd330be": {
     "model_module": "@jupyter-widgets/controls",
     "model_module_version": "1.5.0",
     "model_name": "HBoxModel",
     "state": {
      "_dom_classes": [],
      "_model_module": "@jupyter-widgets/controls",
      "_model_module_version": "1.5.0",
      "_model_name": "HBoxModel",
      "_view_count": null,
      "_view_module": "@jupyter-widgets/controls",
      "_view_module_version": "1.5.0",
      "_view_name": "HBoxView",
      "box_style": "",
      "children": [
       "IPY_MODEL_eaeed180a0c047d2ac9c42e43b5e6d56",
       "IPY_MODEL_3b58f4d5f7d24032b34dda78d6640bb4",
       "IPY_MODEL_902f8619c4794f11b4d9e089d985505e"
      ],
      "layout": "IPY_MODEL_b6129556a88e446f86e3157ab1ea581f"
     }
    },
    "538d5841b24444ed87376ee45d3ef9c3": {
     "model_module": "@jupyter-widgets/controls",
     "model_module_version": "1.5.0",
     "model_name": "DescriptionStyleModel",
     "state": {
      "_model_module": "@jupyter-widgets/controls",
      "_model_module_version": "1.5.0",
      "_model_name": "DescriptionStyleModel",
      "_view_count": null,
      "_view_module": "@jupyter-widgets/base",
      "_view_module_version": "1.2.0",
      "_view_name": "StyleView",
      "description_width": ""
     }
    },
    "53df9b8da45f4f51a0bf332174f3d553": {
     "model_module": "@jupyter-widgets/controls",
     "model_module_version": "1.5.0",
     "model_name": "ProgressStyleModel",
     "state": {
      "_model_module": "@jupyter-widgets/controls",
      "_model_module_version": "1.5.0",
      "_model_name": "ProgressStyleModel",
      "_view_count": null,
      "_view_module": "@jupyter-widgets/base",
      "_view_module_version": "1.2.0",
      "_view_name": "StyleView",
      "bar_color": null,
      "description_width": ""
     }
    },
    "56e28c32682f42429e9d4024810d187d": {
     "model_module": "@jupyter-widgets/controls",
     "model_module_version": "1.5.0",
     "model_name": "DescriptionStyleModel",
     "state": {
      "_model_module": "@jupyter-widgets/controls",
      "_model_module_version": "1.5.0",
      "_model_name": "DescriptionStyleModel",
      "_view_count": null,
      "_view_module": "@jupyter-widgets/base",
      "_view_module_version": "1.2.0",
      "_view_name": "StyleView",
      "description_width": ""
     }
    },
    "572927a28ede44b1a0b0b323f50e465a": {
     "model_module": "@jupyter-widgets/controls",
     "model_module_version": "1.5.0",
     "model_name": "DescriptionStyleModel",
     "state": {
      "_model_module": "@jupyter-widgets/controls",
      "_model_module_version": "1.5.0",
      "_model_name": "DescriptionStyleModel",
      "_view_count": null,
      "_view_module": "@jupyter-widgets/base",
      "_view_module_version": "1.2.0",
      "_view_name": "StyleView",
      "description_width": ""
     }
    },
    "5767d6030d7446569def16515668e310": {
     "model_module": "@jupyter-widgets/controls",
     "model_module_version": "1.5.0",
     "model_name": "HBoxModel",
     "state": {
      "_dom_classes": [],
      "_model_module": "@jupyter-widgets/controls",
      "_model_module_version": "1.5.0",
      "_model_name": "HBoxModel",
      "_view_count": null,
      "_view_module": "@jupyter-widgets/controls",
      "_view_module_version": "1.5.0",
      "_view_name": "HBoxView",
      "box_style": "",
      "children": [
       "IPY_MODEL_b13c96a741394c1e8f10aa104df75b26",
       "IPY_MODEL_e76ec015895541a59a276b0dedf85fce",
       "IPY_MODEL_8ba73b5e902d49aea22f1dd7e4d0481a"
      ],
      "layout": "IPY_MODEL_785bd2a809cc4581a960526e771088d7"
     }
    },
    "599951b5e51a4e6986b793515f425046": {
     "model_module": "@jupyter-widgets/base",
     "model_module_version": "1.2.0",
     "model_name": "LayoutModel",
     "state": {
      "_model_module": "@jupyter-widgets/base",
      "_model_module_version": "1.2.0",
      "_model_name": "LayoutModel",
      "_view_count": null,
      "_view_module": "@jupyter-widgets/base",
      "_view_module_version": "1.2.0",
      "_view_name": "LayoutView",
      "align_content": null,
      "align_items": null,
      "align_self": null,
      "border": null,
      "bottom": null,
      "display": null,
      "flex": null,
      "flex_flow": null,
      "grid_area": null,
      "grid_auto_columns": null,
      "grid_auto_flow": null,
      "grid_auto_rows": null,
      "grid_column": null,
      "grid_gap": null,
      "grid_row": null,
      "grid_template_areas": null,
      "grid_template_columns": null,
      "grid_template_rows": null,
      "height": null,
      "justify_content": null,
      "justify_items": null,
      "left": null,
      "margin": null,
      "max_height": null,
      "max_width": null,
      "min_height": null,
      "min_width": null,
      "object_fit": null,
      "object_position": null,
      "order": null,
      "overflow": null,
      "overflow_x": null,
      "overflow_y": null,
      "padding": null,
      "right": null,
      "top": null,
      "visibility": null,
      "width": null
     }
    },
    "5ac3d34ef0144ea39afee30f447e7088": {
     "model_module": "@jupyter-widgets/base",
     "model_module_version": "1.2.0",
     "model_name": "LayoutModel",
     "state": {
      "_model_module": "@jupyter-widgets/base",
      "_model_module_version": "1.2.0",
      "_model_name": "LayoutModel",
      "_view_count": null,
      "_view_module": "@jupyter-widgets/base",
      "_view_module_version": "1.2.0",
      "_view_name": "LayoutView",
      "align_content": null,
      "align_items": null,
      "align_self": null,
      "border": null,
      "bottom": null,
      "display": null,
      "flex": null,
      "flex_flow": null,
      "grid_area": null,
      "grid_auto_columns": null,
      "grid_auto_flow": null,
      "grid_auto_rows": null,
      "grid_column": null,
      "grid_gap": null,
      "grid_row": null,
      "grid_template_areas": null,
      "grid_template_columns": null,
      "grid_template_rows": null,
      "height": null,
      "justify_content": null,
      "justify_items": null,
      "left": null,
      "margin": null,
      "max_height": null,
      "max_width": null,
      "min_height": null,
      "min_width": null,
      "object_fit": null,
      "object_position": null,
      "order": null,
      "overflow": null,
      "overflow_x": null,
      "overflow_y": null,
      "padding": null,
      "right": null,
      "top": null,
      "visibility": null,
      "width": null
     }
    },
    "5b0a3262132e412786b2e1769cf9e680": {
     "model_module": "@jupyter-widgets/base",
     "model_module_version": "1.2.0",
     "model_name": "LayoutModel",
     "state": {
      "_model_module": "@jupyter-widgets/base",
      "_model_module_version": "1.2.0",
      "_model_name": "LayoutModel",
      "_view_count": null,
      "_view_module": "@jupyter-widgets/base",
      "_view_module_version": "1.2.0",
      "_view_name": "LayoutView",
      "align_content": null,
      "align_items": null,
      "align_self": null,
      "border": null,
      "bottom": null,
      "display": null,
      "flex": null,
      "flex_flow": null,
      "grid_area": null,
      "grid_auto_columns": null,
      "grid_auto_flow": null,
      "grid_auto_rows": null,
      "grid_column": null,
      "grid_gap": null,
      "grid_row": null,
      "grid_template_areas": null,
      "grid_template_columns": null,
      "grid_template_rows": null,
      "height": null,
      "justify_content": null,
      "justify_items": null,
      "left": null,
      "margin": null,
      "max_height": null,
      "max_width": null,
      "min_height": null,
      "min_width": null,
      "object_fit": null,
      "object_position": null,
      "order": null,
      "overflow": null,
      "overflow_x": null,
      "overflow_y": null,
      "padding": null,
      "right": null,
      "top": null,
      "visibility": null,
      "width": null
     }
    },
    "5cd6d9ba80904e268948f993cdf620f4": {
     "model_module": "@jupyter-widgets/controls",
     "model_module_version": "1.5.0",
     "model_name": "HTMLModel",
     "state": {
      "_dom_classes": [],
      "_model_module": "@jupyter-widgets/controls",
      "_model_module_version": "1.5.0",
      "_model_name": "HTMLModel",
      "_view_count": null,
      "_view_module": "@jupyter-widgets/controls",
      "_view_module_version": "1.5.0",
      "_view_name": "HTMLView",
      "description": "",
      "description_tooltip": null,
      "layout": "IPY_MODEL_c559e3f09f444ca2b12381822dd58e19",
      "placeholder": "​",
      "style": "IPY_MODEL_176fe1b57660495aae1d7f75dbadbb84",
      "value": " 314/314 [00:00&lt;00:00, 13.1kB/s]"
     }
    },
    "5db5931da6164e45ad410bd5245dd5d7": {
     "model_module": "@jupyter-widgets/base",
     "model_module_version": "1.2.0",
     "model_name": "LayoutModel",
     "state": {
      "_model_module": "@jupyter-widgets/base",
      "_model_module_version": "1.2.0",
      "_model_name": "LayoutModel",
      "_view_count": null,
      "_view_module": "@jupyter-widgets/base",
      "_view_module_version": "1.2.0",
      "_view_name": "LayoutView",
      "align_content": null,
      "align_items": null,
      "align_self": null,
      "border": null,
      "bottom": null,
      "display": null,
      "flex": null,
      "flex_flow": null,
      "grid_area": null,
      "grid_auto_columns": null,
      "grid_auto_flow": null,
      "grid_auto_rows": null,
      "grid_column": null,
      "grid_gap": null,
      "grid_row": null,
      "grid_template_areas": null,
      "grid_template_columns": null,
      "grid_template_rows": null,
      "height": null,
      "justify_content": null,
      "justify_items": null,
      "left": null,
      "margin": null,
      "max_height": null,
      "max_width": null,
      "min_height": null,
      "min_width": null,
      "object_fit": null,
      "object_position": null,
      "order": null,
      "overflow": null,
      "overflow_x": null,
      "overflow_y": null,
      "padding": null,
      "right": null,
      "top": null,
      "visibility": null,
      "width": null
     }
    },
    "5fc8041cfba2464ab53b8d641115ab49": {
     "model_module": "@jupyter-widgets/controls",
     "model_module_version": "1.5.0",
     "model_name": "HTMLModel",
     "state": {
      "_dom_classes": [],
      "_model_module": "@jupyter-widgets/controls",
      "_model_module_version": "1.5.0",
      "_model_name": "HTMLModel",
      "_view_count": null,
      "_view_module": "@jupyter-widgets/controls",
      "_view_module_version": "1.5.0",
      "_view_name": "HTMLView",
      "description": "",
      "description_tooltip": null,
      "layout": "IPY_MODEL_69d1b8eade2348f0a605d7002884c800",
      "placeholder": "​",
      "style": "IPY_MODEL_d996b1ce1c694075a3a3cf2b432b051f",
      "value": " 3.69k/3.69k [00:00&lt;00:00, 208kB/s]"
     }
    },
    "61962094327743c0aac444acd819eb87": {
     "model_module": "@jupyter-widgets/controls",
     "model_module_version": "1.5.0",
     "model_name": "HTMLModel",
     "state": {
      "_dom_classes": [],
      "_model_module": "@jupyter-widgets/controls",
      "_model_module_version": "1.5.0",
      "_model_name": "HTMLModel",
      "_view_count": null,
      "_view_module": "@jupyter-widgets/controls",
      "_view_module_version": "1.5.0",
      "_view_name": "HTMLView",
      "description": "",
      "description_tooltip": null,
      "layout": "IPY_MODEL_7024eb64c6d546a493aefc2eadb4a8bc",
      "placeholder": "​",
      "style": "IPY_MODEL_572927a28ede44b1a0b0b323f50e465a",
      "value": " 90.9M/90.9M [00:00&lt;00:00, 221MB/s]"
     }
    },
    "6208e5022f1e4ea9bc13b1ce4ed59932": {
     "model_module": "@jupyter-widgets/base",
     "model_module_version": "1.2.0",
     "model_name": "LayoutModel",
     "state": {
      "_model_module": "@jupyter-widgets/base",
      "_model_module_version": "1.2.0",
      "_model_name": "LayoutModel",
      "_view_count": null,
      "_view_module": "@jupyter-widgets/base",
      "_view_module_version": "1.2.0",
      "_view_name": "LayoutView",
      "align_content": null,
      "align_items": null,
      "align_self": null,
      "border": null,
      "bottom": null,
      "display": null,
      "flex": null,
      "flex_flow": null,
      "grid_area": null,
      "grid_auto_columns": null,
      "grid_auto_flow": null,
      "grid_auto_rows": null,
      "grid_column": null,
      "grid_gap": null,
      "grid_row": null,
      "grid_template_areas": null,
      "grid_template_columns": null,
      "grid_template_rows": null,
      "height": null,
      "justify_content": null,
      "justify_items": null,
      "left": null,
      "margin": null,
      "max_height": null,
      "max_width": null,
      "min_height": null,
      "min_width": null,
      "object_fit": null,
      "object_position": null,
      "order": null,
      "overflow": null,
      "overflow_x": null,
      "overflow_y": null,
      "padding": null,
      "right": null,
      "top": null,
      "visibility": null,
      "width": null
     }
    },
    "639caaff0c5b48b6841ad6f38e0ee259": {
     "model_module": "@jupyter-widgets/controls",
     "model_module_version": "1.5.0",
     "model_name": "FloatProgressModel",
     "state": {
      "_dom_classes": [],
      "_model_module": "@jupyter-widgets/controls",
      "_model_module_version": "1.5.0",
      "_model_name": "FloatProgressModel",
      "_view_count": null,
      "_view_module": "@jupyter-widgets/controls",
      "_view_module_version": "1.5.0",
      "_view_name": "ProgressView",
      "bar_style": "success",
      "description": "",
      "description_tooltip": null,
      "layout": "IPY_MODEL_b7891a77961245d5bdfe6aff7c638373",
      "max": 314,
      "min": 0,
      "orientation": "horizontal",
      "style": "IPY_MODEL_7f84877a32554593a4087fd01d13bb16",
      "value": 314
     }
    },
    "69d1b8eade2348f0a605d7002884c800": {
     "model_module": "@jupyter-widgets/base",
     "model_module_version": "1.2.0",
     "model_name": "LayoutModel",
     "state": {
      "_model_module": "@jupyter-widgets/base",
      "_model_module_version": "1.2.0",
      "_model_name": "LayoutModel",
      "_view_count": null,
      "_view_module": "@jupyter-widgets/base",
      "_view_module_version": "1.2.0",
      "_view_name": "LayoutView",
      "align_content": null,
      "align_items": null,
      "align_self": null,
      "border": null,
      "bottom": null,
      "display": null,
      "flex": null,
      "flex_flow": null,
      "grid_area": null,
      "grid_auto_columns": null,
      "grid_auto_flow": null,
      "grid_auto_rows": null,
      "grid_column": null,
      "grid_gap": null,
      "grid_row": null,
      "grid_template_areas": null,
      "grid_template_columns": null,
      "grid_template_rows": null,
      "height": null,
      "justify_content": null,
      "justify_items": null,
      "left": null,
      "margin": null,
      "max_height": null,
      "max_width": null,
      "min_height": null,
      "min_width": null,
      "object_fit": null,
      "object_position": null,
      "order": null,
      "overflow": null,
      "overflow_x": null,
      "overflow_y": null,
      "padding": null,
      "right": null,
      "top": null,
      "visibility": null,
      "width": null
     }
    },
    "6c287686f88a418bad704a654ddb587b": {
     "model_module": "@jupyter-widgets/controls",
     "model_module_version": "1.5.0",
     "model_name": "HTMLModel",
     "state": {
      "_dom_classes": [],
      "_model_module": "@jupyter-widgets/controls",
      "_model_module_version": "1.5.0",
      "_model_name": "HTMLModel",
      "_view_count": null,
      "_view_module": "@jupyter-widgets/controls",
      "_view_module_version": "1.5.0",
      "_view_name": "HTMLView",
      "description": "",
      "description_tooltip": null,
      "layout": "IPY_MODEL_0934184aed664b8eb41671e2dce592f5",
      "placeholder": "​",
      "style": "IPY_MODEL_1ee25e0c706b47dfab7671f36c9e3ea0",
      "value": " 112/112 [00:00&lt;00:00, 5.21kB/s]"
     }
    },
    "6cf8bbe4b173498e9f64c05a6793273e": {
     "model_module": "@jupyter-widgets/controls",
     "model_module_version": "1.5.0",
     "model_name": "DescriptionStyleModel",
     "state": {
      "_model_module": "@jupyter-widgets/controls",
      "_model_module_version": "1.5.0",
      "_model_name": "DescriptionStyleModel",
      "_view_count": null,
      "_view_module": "@jupyter-widgets/base",
      "_view_module_version": "1.2.0",
      "_view_name": "StyleView",
      "description_width": ""
     }
    },
    "6f9921491e5e411798348116aab58b6c": {
     "model_module": "@jupyter-widgets/base",
     "model_module_version": "1.2.0",
     "model_name": "LayoutModel",
     "state": {
      "_model_module": "@jupyter-widgets/base",
      "_model_module_version": "1.2.0",
      "_model_name": "LayoutModel",
      "_view_count": null,
      "_view_module": "@jupyter-widgets/base",
      "_view_module_version": "1.2.0",
      "_view_name": "LayoutView",
      "align_content": null,
      "align_items": null,
      "align_self": null,
      "border": null,
      "bottom": null,
      "display": null,
      "flex": null,
      "flex_flow": null,
      "grid_area": null,
      "grid_auto_columns": null,
      "grid_auto_flow": null,
      "grid_auto_rows": null,
      "grid_column": null,
      "grid_gap": null,
      "grid_row": null,
      "grid_template_areas": null,
      "grid_template_columns": null,
      "grid_template_rows": null,
      "height": null,
      "justify_content": null,
      "justify_items": null,
      "left": null,
      "margin": null,
      "max_height": null,
      "max_width": null,
      "min_height": null,
      "min_width": null,
      "object_fit": null,
      "object_position": null,
      "order": null,
      "overflow": null,
      "overflow_x": null,
      "overflow_y": null,
      "padding": null,
      "right": null,
      "top": null,
      "visibility": null,
      "width": null
     }
    },
    "7024eb64c6d546a493aefc2eadb4a8bc": {
     "model_module": "@jupyter-widgets/base",
     "model_module_version": "1.2.0",
     "model_name": "LayoutModel",
     "state": {
      "_model_module": "@jupyter-widgets/base",
      "_model_module_version": "1.2.0",
      "_model_name": "LayoutModel",
      "_view_count": null,
      "_view_module": "@jupyter-widgets/base",
      "_view_module_version": "1.2.0",
      "_view_name": "LayoutView",
      "align_content": null,
      "align_items": null,
      "align_self": null,
      "border": null,
      "bottom": null,
      "display": null,
      "flex": null,
      "flex_flow": null,
      "grid_area": null,
      "grid_auto_columns": null,
      "grid_auto_flow": null,
      "grid_auto_rows": null,
      "grid_column": null,
      "grid_gap": null,
      "grid_row": null,
      "grid_template_areas": null,
      "grid_template_columns": null,
      "grid_template_rows": null,
      "height": null,
      "justify_content": null,
      "justify_items": null,
      "left": null,
      "margin": null,
      "max_height": null,
      "max_width": null,
      "min_height": null,
      "min_width": null,
      "object_fit": null,
      "object_position": null,
      "order": null,
      "overflow": null,
      "overflow_x": null,
      "overflow_y": null,
      "padding": null,
      "right": null,
      "top": null,
      "visibility": null,
      "width": null
     }
    },
    "71c796745a79461b8bbfb9f109e5f69e": {
     "model_module": "@jupyter-widgets/base",
     "model_module_version": "1.2.0",
     "model_name": "LayoutModel",
     "state": {
      "_model_module": "@jupyter-widgets/base",
      "_model_module_version": "1.2.0",
      "_model_name": "LayoutModel",
      "_view_count": null,
      "_view_module": "@jupyter-widgets/base",
      "_view_module_version": "1.2.0",
      "_view_name": "LayoutView",
      "align_content": null,
      "align_items": null,
      "align_self": null,
      "border": null,
      "bottom": null,
      "display": null,
      "flex": null,
      "flex_flow": null,
      "grid_area": null,
      "grid_auto_columns": null,
      "grid_auto_flow": null,
      "grid_auto_rows": null,
      "grid_column": null,
      "grid_gap": null,
      "grid_row": null,
      "grid_template_areas": null,
      "grid_template_columns": null,
      "grid_template_rows": null,
      "height": null,
      "justify_content": null,
      "justify_items": null,
      "left": null,
      "margin": null,
      "max_height": null,
      "max_width": null,
      "min_height": null,
      "min_width": null,
      "object_fit": null,
      "object_position": null,
      "order": null,
      "overflow": null,
      "overflow_x": null,
      "overflow_y": null,
      "padding": null,
      "right": null,
      "top": null,
      "visibility": null,
      "width": null
     }
    },
    "738a32021fbe4e13937a59cc60eddfed": {
     "model_module": "@jupyter-widgets/controls",
     "model_module_version": "1.5.0",
     "model_name": "ProgressStyleModel",
     "state": {
      "_model_module": "@jupyter-widgets/controls",
      "_model_module_version": "1.5.0",
      "_model_name": "ProgressStyleModel",
      "_view_count": null,
      "_view_module": "@jupyter-widgets/base",
      "_view_module_version": "1.2.0",
      "_view_name": "StyleView",
      "bar_color": null,
      "description_width": ""
     }
    },
    "753ef6203f6b4f42a5f83b96f00e7516": {
     "model_module": "@jupyter-widgets/base",
     "model_module_version": "1.2.0",
     "model_name": "LayoutModel",
     "state": {
      "_model_module": "@jupyter-widgets/base",
      "_model_module_version": "1.2.0",
      "_model_name": "LayoutModel",
      "_view_count": null,
      "_view_module": "@jupyter-widgets/base",
      "_view_module_version": "1.2.0",
      "_view_name": "LayoutView",
      "align_content": null,
      "align_items": null,
      "align_self": null,
      "border": null,
      "bottom": null,
      "display": null,
      "flex": null,
      "flex_flow": null,
      "grid_area": null,
      "grid_auto_columns": null,
      "grid_auto_flow": null,
      "grid_auto_rows": null,
      "grid_column": null,
      "grid_gap": null,
      "grid_row": null,
      "grid_template_areas": null,
      "grid_template_columns": null,
      "grid_template_rows": null,
      "height": null,
      "justify_content": null,
      "justify_items": null,
      "left": null,
      "margin": null,
      "max_height": null,
      "max_width": null,
      "min_height": null,
      "min_width": null,
      "object_fit": null,
      "object_position": null,
      "order": null,
      "overflow": null,
      "overflow_x": null,
      "overflow_y": null,
      "padding": null,
      "right": null,
      "top": null,
      "visibility": null,
      "width": null
     }
    },
    "772f882200424ff888af02f2ad611295": {
     "model_module": "@jupyter-widgets/controls",
     "model_module_version": "1.5.0",
     "model_name": "ProgressStyleModel",
     "state": {
      "_model_module": "@jupyter-widgets/controls",
      "_model_module_version": "1.5.0",
      "_model_name": "ProgressStyleModel",
      "_view_count": null,
      "_view_module": "@jupyter-widgets/base",
      "_view_module_version": "1.2.0",
      "_view_name": "StyleView",
      "bar_color": null,
      "description_width": ""
     }
    },
    "77926a9d9cbd4370b59ee799d5580696": {
     "model_module": "@jupyter-widgets/controls",
     "model_module_version": "1.5.0",
     "model_name": "FloatProgressModel",
     "state": {
      "_dom_classes": [],
      "_model_module": "@jupyter-widgets/controls",
      "_model_module_version": "1.5.0",
      "_model_name": "FloatProgressModel",
      "_view_count": null,
      "_view_module": "@jupyter-widgets/controls",
      "_view_module_version": "1.5.0",
      "_view_name": "ProgressView",
      "bar_style": "success",
      "description": "",
      "description_tooltip": null,
      "layout": "IPY_MODEL_4bfd6a4026ce490a94ca0b033d1669dd",
      "max": 53,
      "min": 0,
      "orientation": "horizontal",
      "style": "IPY_MODEL_772f882200424ff888af02f2ad611295",
      "value": 53
     }
    },
    "77a24aaf48da4d85b5d7fd39b33131f9": {
     "model_module": "@jupyter-widgets/base",
     "model_module_version": "1.2.0",
     "model_name": "LayoutModel",
     "state": {
      "_model_module": "@jupyter-widgets/base",
      "_model_module_version": "1.2.0",
      "_model_name": "LayoutModel",
      "_view_count": null,
      "_view_module": "@jupyter-widgets/base",
      "_view_module_version": "1.2.0",
      "_view_name": "LayoutView",
      "align_content": null,
      "align_items": null,
      "align_self": null,
      "border": null,
      "bottom": null,
      "display": null,
      "flex": null,
      "flex_flow": null,
      "grid_area": null,
      "grid_auto_columns": null,
      "grid_auto_flow": null,
      "grid_auto_rows": null,
      "grid_column": null,
      "grid_gap": null,
      "grid_row": null,
      "grid_template_areas": null,
      "grid_template_columns": null,
      "grid_template_rows": null,
      "height": null,
      "justify_content": null,
      "justify_items": null,
      "left": null,
      "margin": null,
      "max_height": null,
      "max_width": null,
      "min_height": null,
      "min_width": null,
      "object_fit": null,
      "object_position": null,
      "order": null,
      "overflow": null,
      "overflow_x": null,
      "overflow_y": null,
      "padding": null,
      "right": null,
      "top": null,
      "visibility": null,
      "width": null
     }
    },
    "785bd2a809cc4581a960526e771088d7": {
     "model_module": "@jupyter-widgets/base",
     "model_module_version": "1.2.0",
     "model_name": "LayoutModel",
     "state": {
      "_model_module": "@jupyter-widgets/base",
      "_model_module_version": "1.2.0",
      "_model_name": "LayoutModel",
      "_view_count": null,
      "_view_module": "@jupyter-widgets/base",
      "_view_module_version": "1.2.0",
      "_view_name": "LayoutView",
      "align_content": null,
      "align_items": null,
      "align_self": null,
      "border": null,
      "bottom": null,
      "display": null,
      "flex": null,
      "flex_flow": null,
      "grid_area": null,
      "grid_auto_columns": null,
      "grid_auto_flow": null,
      "grid_auto_rows": null,
      "grid_column": null,
      "grid_gap": null,
      "grid_row": null,
      "grid_template_areas": null,
      "grid_template_columns": null,
      "grid_template_rows": null,
      "height": null,
      "justify_content": null,
      "justify_items": null,
      "left": null,
      "margin": null,
      "max_height": null,
      "max_width": null,
      "min_height": null,
      "min_width": null,
      "object_fit": null,
      "object_position": null,
      "order": null,
      "overflow": null,
      "overflow_x": null,
      "overflow_y": null,
      "padding": null,
      "right": null,
      "top": null,
      "visibility": null,
      "width": null
     }
    },
    "7c4134447acb472980accdd370a9571e": {
     "model_module": "@jupyter-widgets/controls",
     "model_module_version": "1.5.0",
     "model_name": "DescriptionStyleModel",
     "state": {
      "_model_module": "@jupyter-widgets/controls",
      "_model_module_version": "1.5.0",
      "_model_name": "DescriptionStyleModel",
      "_view_count": null,
      "_view_module": "@jupyter-widgets/base",
      "_view_module_version": "1.2.0",
      "_view_name": "StyleView",
      "description_width": ""
     }
    },
    "7d82dc5cc07048029c92a1b725aae0c3": {
     "model_module": "@jupyter-widgets/controls",
     "model_module_version": "1.5.0",
     "model_name": "DescriptionStyleModel",
     "state": {
      "_model_module": "@jupyter-widgets/controls",
      "_model_module_version": "1.5.0",
      "_model_name": "DescriptionStyleModel",
      "_view_count": null,
      "_view_module": "@jupyter-widgets/base",
      "_view_module_version": "1.2.0",
      "_view_name": "StyleView",
      "description_width": ""
     }
    },
    "7f6c34e3dbf745ebbf17359601d709d6": {
     "model_module": "@jupyter-widgets/base",
     "model_module_version": "1.2.0",
     "model_name": "LayoutModel",
     "state": {
      "_model_module": "@jupyter-widgets/base",
      "_model_module_version": "1.2.0",
      "_model_name": "LayoutModel",
      "_view_count": null,
      "_view_module": "@jupyter-widgets/base",
      "_view_module_version": "1.2.0",
      "_view_name": "LayoutView",
      "align_content": null,
      "align_items": null,
      "align_self": null,
      "border": null,
      "bottom": null,
      "display": null,
      "flex": null,
      "flex_flow": null,
      "grid_area": null,
      "grid_auto_columns": null,
      "grid_auto_flow": null,
      "grid_auto_rows": null,
      "grid_column": null,
      "grid_gap": null,
      "grid_row": null,
      "grid_template_areas": null,
      "grid_template_columns": null,
      "grid_template_rows": null,
      "height": null,
      "justify_content": null,
      "justify_items": null,
      "left": null,
      "margin": null,
      "max_height": null,
      "max_width": null,
      "min_height": null,
      "min_width": null,
      "object_fit": null,
      "object_position": null,
      "order": null,
      "overflow": null,
      "overflow_x": null,
      "overflow_y": null,
      "padding": null,
      "right": null,
      "top": null,
      "visibility": null,
      "width": null
     }
    },
    "7f84877a32554593a4087fd01d13bb16": {
     "model_module": "@jupyter-widgets/controls",
     "model_module_version": "1.5.0",
     "model_name": "ProgressStyleModel",
     "state": {
      "_model_module": "@jupyter-widgets/controls",
      "_model_module_version": "1.5.0",
      "_model_name": "ProgressStyleModel",
      "_view_count": null,
      "_view_module": "@jupyter-widgets/base",
      "_view_module_version": "1.2.0",
      "_view_name": "StyleView",
      "bar_color": null,
      "description_width": ""
     }
    },
    "7fc51864cff749ee965d969065317463": {
     "model_module": "@jupyter-widgets/controls",
     "model_module_version": "1.5.0",
     "model_name": "ProgressStyleModel",
     "state": {
      "_model_module": "@jupyter-widgets/controls",
      "_model_module_version": "1.5.0",
      "_model_name": "ProgressStyleModel",
      "_view_count": null,
      "_view_module": "@jupyter-widgets/base",
      "_view_module_version": "1.2.0",
      "_view_name": "StyleView",
      "bar_color": null,
      "description_width": ""
     }
    },
    "820efe8f53664438bc49770846cd634a": {
     "model_module": "@jupyter-widgets/base",
     "model_module_version": "1.2.0",
     "model_name": "LayoutModel",
     "state": {
      "_model_module": "@jupyter-widgets/base",
      "_model_module_version": "1.2.0",
      "_model_name": "LayoutModel",
      "_view_count": null,
      "_view_module": "@jupyter-widgets/base",
      "_view_module_version": "1.2.0",
      "_view_name": "LayoutView",
      "align_content": null,
      "align_items": null,
      "align_self": null,
      "border": null,
      "bottom": null,
      "display": null,
      "flex": null,
      "flex_flow": null,
      "grid_area": null,
      "grid_auto_columns": null,
      "grid_auto_flow": null,
      "grid_auto_rows": null,
      "grid_column": null,
      "grid_gap": null,
      "grid_row": null,
      "grid_template_areas": null,
      "grid_template_columns": null,
      "grid_template_rows": null,
      "height": null,
      "justify_content": null,
      "justify_items": null,
      "left": null,
      "margin": null,
      "max_height": null,
      "max_width": null,
      "min_height": null,
      "min_width": null,
      "object_fit": null,
      "object_position": null,
      "order": null,
      "overflow": null,
      "overflow_x": null,
      "overflow_y": null,
      "padding": null,
      "right": null,
      "top": null,
      "visibility": null,
      "width": null
     }
    },
    "84453afadabb4faa9718074bfea2dc81": {
     "model_module": "@jupyter-widgets/base",
     "model_module_version": "1.2.0",
     "model_name": "LayoutModel",
     "state": {
      "_model_module": "@jupyter-widgets/base",
      "_model_module_version": "1.2.0",
      "_model_name": "LayoutModel",
      "_view_count": null,
      "_view_module": "@jupyter-widgets/base",
      "_view_module_version": "1.2.0",
      "_view_name": "LayoutView",
      "align_content": null,
      "align_items": null,
      "align_self": null,
      "border": null,
      "bottom": null,
      "display": null,
      "flex": null,
      "flex_flow": null,
      "grid_area": null,
      "grid_auto_columns": null,
      "grid_auto_flow": null,
      "grid_auto_rows": null,
      "grid_column": null,
      "grid_gap": null,
      "grid_row": null,
      "grid_template_areas": null,
      "grid_template_columns": null,
      "grid_template_rows": null,
      "height": null,
      "justify_content": null,
      "justify_items": null,
      "left": null,
      "margin": null,
      "max_height": null,
      "max_width": null,
      "min_height": null,
      "min_width": null,
      "object_fit": null,
      "object_position": null,
      "order": null,
      "overflow": null,
      "overflow_x": null,
      "overflow_y": null,
      "padding": null,
      "right": null,
      "top": null,
      "visibility": null,
      "width": null
     }
    },
    "870e254082244b2c97ffd9562a7f1cda": {
     "model_module": "@jupyter-widgets/controls",
     "model_module_version": "1.5.0",
     "model_name": "HTMLModel",
     "state": {
      "_dom_classes": [],
      "_model_module": "@jupyter-widgets/controls",
      "_model_module_version": "1.5.0",
      "_model_name": "HTMLModel",
      "_view_count": null,
      "_view_module": "@jupyter-widgets/controls",
      "_view_module_version": "1.5.0",
      "_view_name": "HTMLView",
      "description": "",
      "description_tooltip": null,
      "layout": "IPY_MODEL_5ac3d34ef0144ea39afee30f447e7088",
      "placeholder": "​",
      "style": "IPY_MODEL_7d82dc5cc07048029c92a1b725aae0c3",
      "value": "Downloading (…)cial_tokens_map.json: 100%"
     }
    },
    "88d752962d034b65b2be67b617bd27d5": {
     "model_module": "@jupyter-widgets/base",
     "model_module_version": "1.2.0",
     "model_name": "LayoutModel",
     "state": {
      "_model_module": "@jupyter-widgets/base",
      "_model_module_version": "1.2.0",
      "_model_name": "LayoutModel",
      "_view_count": null,
      "_view_module": "@jupyter-widgets/base",
      "_view_module_version": "1.2.0",
      "_view_name": "LayoutView",
      "align_content": null,
      "align_items": null,
      "align_self": null,
      "border": null,
      "bottom": null,
      "display": null,
      "flex": null,
      "flex_flow": null,
      "grid_area": null,
      "grid_auto_columns": null,
      "grid_auto_flow": null,
      "grid_auto_rows": null,
      "grid_column": null,
      "grid_gap": null,
      "grid_row": null,
      "grid_template_areas": null,
      "grid_template_columns": null,
      "grid_template_rows": null,
      "height": null,
      "justify_content": null,
      "justify_items": null,
      "left": null,
      "margin": null,
      "max_height": null,
      "max_width": null,
      "min_height": null,
      "min_width": null,
      "object_fit": null,
      "object_position": null,
      "order": null,
      "overflow": null,
      "overflow_x": null,
      "overflow_y": null,
      "padding": null,
      "right": null,
      "top": null,
      "visibility": null,
      "width": null
     }
    },
    "8afb3e622b6e4bbfa38f94055e092d34": {
     "model_module": "@jupyter-widgets/controls",
     "model_module_version": "1.5.0",
     "model_name": "HTMLModel",
     "state": {
      "_dom_classes": [],
      "_model_module": "@jupyter-widgets/controls",
      "_model_module_version": "1.5.0",
      "_model_name": "HTMLModel",
      "_view_count": null,
      "_view_module": "@jupyter-widgets/controls",
      "_view_module_version": "1.5.0",
      "_view_name": "HTMLView",
      "description": "",
      "description_tooltip": null,
      "layout": "IPY_MODEL_aaf5fe38249345b88d0707403ae20d68",
      "placeholder": "​",
      "style": "IPY_MODEL_2a255c3cdec34b0b9b590ed05f9ac18b",
      "value": "Downloading pytorch_model.bin: 100%"
     }
    },
    "8ba73b5e902d49aea22f1dd7e4d0481a": {
     "model_module": "@jupyter-widgets/controls",
     "model_module_version": "1.5.0",
     "model_name": "HTMLModel",
     "state": {
      "_dom_classes": [],
      "_model_module": "@jupyter-widgets/controls",
      "_model_module_version": "1.5.0",
      "_model_name": "HTMLModel",
      "_view_count": null,
      "_view_module": "@jupyter-widgets/controls",
      "_view_module_version": "1.5.0",
      "_view_name": "HTMLView",
      "description": "",
      "description_tooltip": null,
      "layout": "IPY_MODEL_88d752962d034b65b2be67b617bd27d5",
      "placeholder": "​",
      "style": "IPY_MODEL_47afc71eaf1c4e999205a736573557b5",
      "value": " 466k/466k [00:00&lt;00:00, 1.88MB/s]"
     }
    },
    "8d3ee5da94b3483fb8d4f76cca3895fb": {
     "model_module": "@jupyter-widgets/controls",
     "model_module_version": "1.5.0",
     "model_name": "HBoxModel",
     "state": {
      "_dom_classes": [],
      "_model_module": "@jupyter-widgets/controls",
      "_model_module_version": "1.5.0",
      "_model_name": "HBoxModel",
      "_view_count": null,
      "_view_module": "@jupyter-widgets/controls",
      "_view_module_version": "1.5.0",
      "_view_name": "HBoxView",
      "box_style": "",
      "children": [
       "IPY_MODEL_025457fc6048400dbf847c0c5cb78464",
       "IPY_MODEL_33a82c2feb9b429d925bdb6b0a4b64f3",
       "IPY_MODEL_e8d851736bbe4d1395e2e0801daa60ac"
      ],
      "layout": "IPY_MODEL_bdd195b340be424faa30b4b98bf7f874"
     }
    },
    "8fff9494cc1b4e3099e63ce3a95933cc": {
     "model_module": "@jupyter-widgets/base",
     "model_module_version": "1.2.0",
     "model_name": "LayoutModel",
     "state": {
      "_model_module": "@jupyter-widgets/base",
      "_model_module_version": "1.2.0",
      "_model_name": "LayoutModel",
      "_view_count": null,
      "_view_module": "@jupyter-widgets/base",
      "_view_module_version": "1.2.0",
      "_view_name": "LayoutView",
      "align_content": null,
      "align_items": null,
      "align_self": null,
      "border": null,
      "bottom": null,
      "display": null,
      "flex": null,
      "flex_flow": null,
      "grid_area": null,
      "grid_auto_columns": null,
      "grid_auto_flow": null,
      "grid_auto_rows": null,
      "grid_column": null,
      "grid_gap": null,
      "grid_row": null,
      "grid_template_areas": null,
      "grid_template_columns": null,
      "grid_template_rows": null,
      "height": null,
      "justify_content": null,
      "justify_items": null,
      "left": null,
      "margin": null,
      "max_height": null,
      "max_width": null,
      "min_height": null,
      "min_width": null,
      "object_fit": null,
      "object_position": null,
      "order": null,
      "overflow": null,
      "overflow_x": null,
      "overflow_y": null,
      "padding": null,
      "right": null,
      "top": null,
      "visibility": null,
      "width": null
     }
    },
    "902f8619c4794f11b4d9e089d985505e": {
     "model_module": "@jupyter-widgets/controls",
     "model_module_version": "1.5.0",
     "model_name": "HTMLModel",
     "state": {
      "_dom_classes": [],
      "_model_module": "@jupyter-widgets/controls",
      "_model_module_version": "1.5.0",
      "_model_name": "HTMLModel",
      "_view_count": null,
      "_view_module": "@jupyter-widgets/controls",
      "_view_module_version": "1.5.0",
      "_view_name": "HTMLView",
      "description": "",
      "description_tooltip": null,
      "layout": "IPY_MODEL_820efe8f53664438bc49770846cd634a",
      "placeholder": "​",
      "style": "IPY_MODEL_22759a76c2074086b18a845a1cae43be",
      "value": " 190/190 [00:00&lt;00:00, 10.3kB/s]"
     }
    },
    "9427e345f83d47819a4069e550c3b69b": {
     "model_module": "@jupyter-widgets/base",
     "model_module_version": "1.2.0",
     "model_name": "LayoutModel",
     "state": {
      "_model_module": "@jupyter-widgets/base",
      "_model_module_version": "1.2.0",
      "_model_name": "LayoutModel",
      "_view_count": null,
      "_view_module": "@jupyter-widgets/base",
      "_view_module_version": "1.2.0",
      "_view_name": "LayoutView",
      "align_content": null,
      "align_items": null,
      "align_self": null,
      "border": null,
      "bottom": null,
      "display": null,
      "flex": null,
      "flex_flow": null,
      "grid_area": null,
      "grid_auto_columns": null,
      "grid_auto_flow": null,
      "grid_auto_rows": null,
      "grid_column": null,
      "grid_gap": null,
      "grid_row": null,
      "grid_template_areas": null,
      "grid_template_columns": null,
      "grid_template_rows": null,
      "height": null,
      "justify_content": null,
      "justify_items": null,
      "left": null,
      "margin": null,
      "max_height": null,
      "max_width": null,
      "min_height": null,
      "min_width": null,
      "object_fit": null,
      "object_position": null,
      "order": null,
      "overflow": null,
      "overflow_x": null,
      "overflow_y": null,
      "padding": null,
      "right": null,
      "top": null,
      "visibility": null,
      "width": null
     }
    },
    "944c663134a7461b9c2daf03a0ee0037": {
     "model_module": "@jupyter-widgets/controls",
     "model_module_version": "1.5.0",
     "model_name": "FloatProgressModel",
     "state": {
      "_dom_classes": [],
      "_model_module": "@jupyter-widgets/controls",
      "_model_module_version": "1.5.0",
      "_model_name": "FloatProgressModel",
      "_view_count": null,
      "_view_module": "@jupyter-widgets/controls",
      "_view_module_version": "1.5.0",
      "_view_name": "ProgressView",
      "bar_style": "success",
      "description": "",
      "description_tooltip": null,
      "layout": "IPY_MODEL_84453afadabb4faa9718074bfea2dc81",
      "max": 690,
      "min": 0,
      "orientation": "horizontal",
      "style": "IPY_MODEL_ee5a0dec85ab4e298a7cdff6fd3afbef",
      "value": 690
     }
    },
    "964948c561f64decbc15095378b6b8f7": {
     "model_module": "@jupyter-widgets/controls",
     "model_module_version": "1.5.0",
     "model_name": "HBoxModel",
     "state": {
      "_dom_classes": [],
      "_model_module": "@jupyter-widgets/controls",
      "_model_module_version": "1.5.0",
      "_model_name": "HBoxModel",
      "_view_count": null,
      "_view_module": "@jupyter-widgets/controls",
      "_view_module_version": "1.5.0",
      "_view_name": "HBoxView",
      "box_style": "",
      "children": [
       "IPY_MODEL_870e254082244b2c97ffd9562a7f1cda",
       "IPY_MODEL_0335fd912a07400097bfb8098de5f1eb",
       "IPY_MODEL_6c287686f88a418bad704a654ddb587b"
      ],
      "layout": "IPY_MODEL_71c796745a79461b8bbfb9f109e5f69e"
     }
    },
    "9679a45fdcf04656a8c81f2be9747fa1": {
     "model_module": "@jupyter-widgets/base",
     "model_module_version": "1.2.0",
     "model_name": "LayoutModel",
     "state": {
      "_model_module": "@jupyter-widgets/base",
      "_model_module_version": "1.2.0",
      "_model_name": "LayoutModel",
      "_view_count": null,
      "_view_module": "@jupyter-widgets/base",
      "_view_module_version": "1.2.0",
      "_view_name": "LayoutView",
      "align_content": null,
      "align_items": null,
      "align_self": null,
      "border": null,
      "bottom": null,
      "display": null,
      "flex": null,
      "flex_flow": null,
      "grid_area": null,
      "grid_auto_columns": null,
      "grid_auto_flow": null,
      "grid_auto_rows": null,
      "grid_column": null,
      "grid_gap": null,
      "grid_row": null,
      "grid_template_areas": null,
      "grid_template_columns": null,
      "grid_template_rows": null,
      "height": null,
      "justify_content": null,
      "justify_items": null,
      "left": null,
      "margin": null,
      "max_height": null,
      "max_width": null,
      "min_height": null,
      "min_width": null,
      "object_fit": null,
      "object_position": null,
      "order": null,
      "overflow": null,
      "overflow_x": null,
      "overflow_y": null,
      "padding": null,
      "right": null,
      "top": null,
      "visibility": null,
      "width": null
     }
    },
    "9684c496dbf44102b2859fa9f2065937": {
     "model_module": "@jupyter-widgets/controls",
     "model_module_version": "1.5.0",
     "model_name": "HTMLModel",
     "state": {
      "_dom_classes": [],
      "_model_module": "@jupyter-widgets/controls",
      "_model_module_version": "1.5.0",
      "_model_name": "HTMLModel",
      "_view_count": null,
      "_view_module": "@jupyter-widgets/controls",
      "_view_module_version": "1.5.0",
      "_view_name": "HTMLView",
      "description": "",
      "description_tooltip": null,
      "layout": "IPY_MODEL_db0676a1bedc4f95a89514a80ba85fdb",
      "placeholder": "​",
      "style": "IPY_MODEL_99f3dff4f9e646c8b829a32411a3779e",
      "value": "Downloading (…)3bbb8001fa/vocab.txt: 100%"
     }
    },
    "98a59b9993d841bcabe3540b9abe5405": {
     "model_module": "@jupyter-widgets/controls",
     "model_module_version": "1.5.0",
     "model_name": "HTMLModel",
     "state": {
      "_dom_classes": [],
      "_model_module": "@jupyter-widgets/controls",
      "_model_module_version": "1.5.0",
      "_model_name": "HTMLModel",
      "_view_count": null,
      "_view_module": "@jupyter-widgets/controls",
      "_view_module_version": "1.5.0",
      "_view_name": "HTMLView",
      "description": "",
      "description_tooltip": null,
      "layout": "IPY_MODEL_9f6e3f39326946c6946fa64c3ab89d29",
      "placeholder": "​",
      "style": "IPY_MODEL_538d5841b24444ed87376ee45d3ef9c3",
      "value": "Downloading (…)001fa/.gitattributes: 100%"
     }
    },
    "99f3dff4f9e646c8b829a32411a3779e": {
     "model_module": "@jupyter-widgets/controls",
     "model_module_version": "1.5.0",
     "model_name": "DescriptionStyleModel",
     "state": {
      "_model_module": "@jupyter-widgets/controls",
      "_model_module_version": "1.5.0",
      "_model_name": "DescriptionStyleModel",
      "_view_count": null,
      "_view_module": "@jupyter-widgets/base",
      "_view_module_version": "1.2.0",
      "_view_name": "StyleView",
      "description_width": ""
     }
    },
    "9f0c0750d91a4474b124d9b3c699f5af": {
     "model_module": "@jupyter-widgets/base",
     "model_module_version": "1.2.0",
     "model_name": "LayoutModel",
     "state": {
      "_model_module": "@jupyter-widgets/base",
      "_model_module_version": "1.2.0",
      "_model_name": "LayoutModel",
      "_view_count": null,
      "_view_module": "@jupyter-widgets/base",
      "_view_module_version": "1.2.0",
      "_view_name": "LayoutView",
      "align_content": null,
      "align_items": null,
      "align_self": null,
      "border": null,
      "bottom": null,
      "display": null,
      "flex": null,
      "flex_flow": null,
      "grid_area": null,
      "grid_auto_columns": null,
      "grid_auto_flow": null,
      "grid_auto_rows": null,
      "grid_column": null,
      "grid_gap": null,
      "grid_row": null,
      "grid_template_areas": null,
      "grid_template_columns": null,
      "grid_template_rows": null,
      "height": null,
      "justify_content": null,
      "justify_items": null,
      "left": null,
      "margin": null,
      "max_height": null,
      "max_width": null,
      "min_height": null,
      "min_width": null,
      "object_fit": null,
      "object_position": null,
      "order": null,
      "overflow": null,
      "overflow_x": null,
      "overflow_y": null,
      "padding": null,
      "right": null,
      "top": null,
      "visibility": null,
      "width": null
     }
    },
    "9f6e3f39326946c6946fa64c3ab89d29": {
     "model_module": "@jupyter-widgets/base",
     "model_module_version": "1.2.0",
     "model_name": "LayoutModel",
     "state": {
      "_model_module": "@jupyter-widgets/base",
      "_model_module_version": "1.2.0",
      "_model_name": "LayoutModel",
      "_view_count": null,
      "_view_module": "@jupyter-widgets/base",
      "_view_module_version": "1.2.0",
      "_view_name": "LayoutView",
      "align_content": null,
      "align_items": null,
      "align_self": null,
      "border": null,
      "bottom": null,
      "display": null,
      "flex": null,
      "flex_flow": null,
      "grid_area": null,
      "grid_auto_columns": null,
      "grid_auto_flow": null,
      "grid_auto_rows": null,
      "grid_column": null,
      "grid_gap": null,
      "grid_row": null,
      "grid_template_areas": null,
      "grid_template_columns": null,
      "grid_template_rows": null,
      "height": null,
      "justify_content": null,
      "justify_items": null,
      "left": null,
      "margin": null,
      "max_height": null,
      "max_width": null,
      "min_height": null,
      "min_width": null,
      "object_fit": null,
      "object_position": null,
      "order": null,
      "overflow": null,
      "overflow_x": null,
      "overflow_y": null,
      "padding": null,
      "right": null,
      "top": null,
      "visibility": null,
      "width": null
     }
    },
    "a02d426e0b984945b86920373e68f95d": {
     "model_module": "@jupyter-widgets/controls",
     "model_module_version": "1.5.0",
     "model_name": "FloatProgressModel",
     "state": {
      "_dom_classes": [],
      "_model_module": "@jupyter-widgets/controls",
      "_model_module_version": "1.5.0",
      "_model_name": "FloatProgressModel",
      "_view_count": null,
      "_view_module": "@jupyter-widgets/controls",
      "_view_module_version": "1.5.0",
      "_view_name": "ProgressView",
      "bar_style": "success",
      "description": "",
      "description_tooltip": null,
      "layout": "IPY_MODEL_8fff9494cc1b4e3099e63ce3a95933cc",
      "max": 3693,
      "min": 0,
      "orientation": "horizontal",
      "style": "IPY_MODEL_287d369ea3cc488da2c7b9fd41a765b9",
      "value": 3693
     }
    },
    "a1ce73adfdc04b9e906056805b4b158f": {
     "model_module": "@jupyter-widgets/base",
     "model_module_version": "1.2.0",
     "model_name": "LayoutModel",
     "state": {
      "_model_module": "@jupyter-widgets/base",
      "_model_module_version": "1.2.0",
      "_model_name": "LayoutModel",
      "_view_count": null,
      "_view_module": "@jupyter-widgets/base",
      "_view_module_version": "1.2.0",
      "_view_name": "LayoutView",
      "align_content": null,
      "align_items": null,
      "align_self": null,
      "border": null,
      "bottom": null,
      "display": null,
      "flex": null,
      "flex_flow": null,
      "grid_area": null,
      "grid_auto_columns": null,
      "grid_auto_flow": null,
      "grid_auto_rows": null,
      "grid_column": null,
      "grid_gap": null,
      "grid_row": null,
      "grid_template_areas": null,
      "grid_template_columns": null,
      "grid_template_rows": null,
      "height": null,
      "justify_content": null,
      "justify_items": null,
      "left": null,
      "margin": null,
      "max_height": null,
      "max_width": null,
      "min_height": null,
      "min_width": null,
      "object_fit": null,
      "object_position": null,
      "order": null,
      "overflow": null,
      "overflow_x": null,
      "overflow_y": null,
      "padding": null,
      "right": null,
      "top": null,
      "visibility": null,
      "width": null
     }
    },
    "a30d85af657f42e1920b0268fb81922c": {
     "model_module": "@jupyter-widgets/controls",
     "model_module_version": "1.5.0",
     "model_name": "HBoxModel",
     "state": {
      "_dom_classes": [],
      "_model_module": "@jupyter-widgets/controls",
      "_model_module_version": "1.5.0",
      "_model_name": "HBoxModel",
      "_view_count": null,
      "_view_module": "@jupyter-widgets/controls",
      "_view_module_version": "1.5.0",
      "_view_name": "HBoxView",
      "box_style": "",
      "children": [
       "IPY_MODEL_358407e69316455bac3d3242d61c4c0c",
       "IPY_MODEL_639caaff0c5b48b6841ad6f38e0ee259",
       "IPY_MODEL_5cd6d9ba80904e268948f993cdf620f4"
      ],
      "layout": "IPY_MODEL_c8bd25c4a5de44f886b94d90274ec3b1"
     }
    },
    "a46989f17a0745aa8aa9e5d07a729019": {
     "model_module": "@jupyter-widgets/controls",
     "model_module_version": "1.5.0",
     "model_name": "DescriptionStyleModel",
     "state": {
      "_model_module": "@jupyter-widgets/controls",
      "_model_module_version": "1.5.0",
      "_model_name": "DescriptionStyleModel",
      "_view_count": null,
      "_view_module": "@jupyter-widgets/base",
      "_view_module_version": "1.2.0",
      "_view_name": "StyleView",
      "description_width": ""
     }
    },
    "a75a921780b5435f880324f819827709": {
     "model_module": "@jupyter-widgets/base",
     "model_module_version": "1.2.0",
     "model_name": "LayoutModel",
     "state": {
      "_model_module": "@jupyter-widgets/base",
      "_model_module_version": "1.2.0",
      "_model_name": "LayoutModel",
      "_view_count": null,
      "_view_module": "@jupyter-widgets/base",
      "_view_module_version": "1.2.0",
      "_view_name": "LayoutView",
      "align_content": null,
      "align_items": null,
      "align_self": null,
      "border": null,
      "bottom": null,
      "display": null,
      "flex": null,
      "flex_flow": null,
      "grid_area": null,
      "grid_auto_columns": null,
      "grid_auto_flow": null,
      "grid_auto_rows": null,
      "grid_column": null,
      "grid_gap": null,
      "grid_row": null,
      "grid_template_areas": null,
      "grid_template_columns": null,
      "grid_template_rows": null,
      "height": null,
      "justify_content": null,
      "justify_items": null,
      "left": null,
      "margin": null,
      "max_height": null,
      "max_width": null,
      "min_height": null,
      "min_width": null,
      "object_fit": null,
      "object_position": null,
      "order": null,
      "overflow": null,
      "overflow_x": null,
      "overflow_y": null,
      "padding": null,
      "right": null,
      "top": null,
      "visibility": null,
      "width": null
     }
    },
    "aac6718eb17c4cd5913a37417394121a": {
     "model_module": "@jupyter-widgets/base",
     "model_module_version": "1.2.0",
     "model_name": "LayoutModel",
     "state": {
      "_model_module": "@jupyter-widgets/base",
      "_model_module_version": "1.2.0",
      "_model_name": "LayoutModel",
      "_view_count": null,
      "_view_module": "@jupyter-widgets/base",
      "_view_module_version": "1.2.0",
      "_view_name": "LayoutView",
      "align_content": null,
      "align_items": null,
      "align_self": null,
      "border": null,
      "bottom": null,
      "display": null,
      "flex": null,
      "flex_flow": null,
      "grid_area": null,
      "grid_auto_columns": null,
      "grid_auto_flow": null,
      "grid_auto_rows": null,
      "grid_column": null,
      "grid_gap": null,
      "grid_row": null,
      "grid_template_areas": null,
      "grid_template_columns": null,
      "grid_template_rows": null,
      "height": null,
      "justify_content": null,
      "justify_items": null,
      "left": null,
      "margin": null,
      "max_height": null,
      "max_width": null,
      "min_height": null,
      "min_width": null,
      "object_fit": null,
      "object_position": null,
      "order": null,
      "overflow": null,
      "overflow_x": null,
      "overflow_y": null,
      "padding": null,
      "right": null,
      "top": null,
      "visibility": null,
      "width": null
     }
    },
    "aaf5fe38249345b88d0707403ae20d68": {
     "model_module": "@jupyter-widgets/base",
     "model_module_version": "1.2.0",
     "model_name": "LayoutModel",
     "state": {
      "_model_module": "@jupyter-widgets/base",
      "_model_module_version": "1.2.0",
      "_model_name": "LayoutModel",
      "_view_count": null,
      "_view_module": "@jupyter-widgets/base",
      "_view_module_version": "1.2.0",
      "_view_name": "LayoutView",
      "align_content": null,
      "align_items": null,
      "align_self": null,
      "border": null,
      "bottom": null,
      "display": null,
      "flex": null,
      "flex_flow": null,
      "grid_area": null,
      "grid_auto_columns": null,
      "grid_auto_flow": null,
      "grid_auto_rows": null,
      "grid_column": null,
      "grid_gap": null,
      "grid_row": null,
      "grid_template_areas": null,
      "grid_template_columns": null,
      "grid_template_rows": null,
      "height": null,
      "justify_content": null,
      "justify_items": null,
      "left": null,
      "margin": null,
      "max_height": null,
      "max_width": null,
      "min_height": null,
      "min_width": null,
      "object_fit": null,
      "object_position": null,
      "order": null,
      "overflow": null,
      "overflow_x": null,
      "overflow_y": null,
      "padding": null,
      "right": null,
      "top": null,
      "visibility": null,
      "width": null
     }
    },
    "ae914fe1f3d440efacc13d2dc775417d": {
     "model_module": "@jupyter-widgets/controls",
     "model_module_version": "1.5.0",
     "model_name": "DescriptionStyleModel",
     "state": {
      "_model_module": "@jupyter-widgets/controls",
      "_model_module_version": "1.5.0",
      "_model_name": "DescriptionStyleModel",
      "_view_count": null,
      "_view_module": "@jupyter-widgets/base",
      "_view_module_version": "1.2.0",
      "_view_name": "StyleView",
      "description_width": ""
     }
    },
    "b13c96a741394c1e8f10aa104df75b26": {
     "model_module": "@jupyter-widgets/controls",
     "model_module_version": "1.5.0",
     "model_name": "HTMLModel",
     "state": {
      "_dom_classes": [],
      "_model_module": "@jupyter-widgets/controls",
      "_model_module_version": "1.5.0",
      "_model_name": "HTMLModel",
      "_view_count": null,
      "_view_module": "@jupyter-widgets/controls",
      "_view_module_version": "1.5.0",
      "_view_name": "HTMLView",
      "description": "",
      "description_tooltip": null,
      "layout": "IPY_MODEL_21553ec74baf4388bd6b14b17372676e",
      "placeholder": "​",
      "style": "IPY_MODEL_cbd37f9e1b1c433aa9040d8afa7ce9a6",
      "value": "Downloading (…)001fa/tokenizer.json: 100%"
     }
    },
    "b6129556a88e446f86e3157ab1ea581f": {
     "model_module": "@jupyter-widgets/base",
     "model_module_version": "1.2.0",
     "model_name": "LayoutModel",
     "state": {
      "_model_module": "@jupyter-widgets/base",
      "_model_module_version": "1.2.0",
      "_model_name": "LayoutModel",
      "_view_count": null,
      "_view_module": "@jupyter-widgets/base",
      "_view_module_version": "1.2.0",
      "_view_name": "LayoutView",
      "align_content": null,
      "align_items": null,
      "align_self": null,
      "border": null,
      "bottom": null,
      "display": null,
      "flex": null,
      "flex_flow": null,
      "grid_area": null,
      "grid_auto_columns": null,
      "grid_auto_flow": null,
      "grid_auto_rows": null,
      "grid_column": null,
      "grid_gap": null,
      "grid_row": null,
      "grid_template_areas": null,
      "grid_template_columns": null,
      "grid_template_rows": null,
      "height": null,
      "justify_content": null,
      "justify_items": null,
      "left": null,
      "margin": null,
      "max_height": null,
      "max_width": null,
      "min_height": null,
      "min_width": null,
      "object_fit": null,
      "object_position": null,
      "order": null,
      "overflow": null,
      "overflow_x": null,
      "overflow_y": null,
      "padding": null,
      "right": null,
      "top": null,
      "visibility": null,
      "width": null
     }
    },
    "b66ce3a21fa3466594df8b673935558d": {
     "model_module": "@jupyter-widgets/controls",
     "model_module_version": "1.5.0",
     "model_name": "HBoxModel",
     "state": {
      "_dom_classes": [],
      "_model_module": "@jupyter-widgets/controls",
      "_model_module_version": "1.5.0",
      "_model_name": "HBoxModel",
      "_view_count": null,
      "_view_module": "@jupyter-widgets/controls",
      "_view_module_version": "1.5.0",
      "_view_name": "HBoxView",
      "box_style": "",
      "children": [
       "IPY_MODEL_c7d95d4096a144a6855ae52d3eba19e6",
       "IPY_MODEL_2bcba1e8250a4753a786f7e3bb91359b",
       "IPY_MODEL_f937853fdef9460ba86d3582d4aa3bc6"
      ],
      "layout": "IPY_MODEL_a1ce73adfdc04b9e906056805b4b158f"
     }
    },
    "b6f87f17da4a41cc8142278b09d77f3c": {
     "model_module": "@jupyter-widgets/base",
     "model_module_version": "1.2.0",
     "model_name": "LayoutModel",
     "state": {
      "_model_module": "@jupyter-widgets/base",
      "_model_module_version": "1.2.0",
      "_model_name": "LayoutModel",
      "_view_count": null,
      "_view_module": "@jupyter-widgets/base",
      "_view_module_version": "1.2.0",
      "_view_name": "LayoutView",
      "align_content": null,
      "align_items": null,
      "align_self": null,
      "border": null,
      "bottom": null,
      "display": null,
      "flex": null,
      "flex_flow": null,
      "grid_area": null,
      "grid_auto_columns": null,
      "grid_auto_flow": null,
      "grid_auto_rows": null,
      "grid_column": null,
      "grid_gap": null,
      "grid_row": null,
      "grid_template_areas": null,
      "grid_template_columns": null,
      "grid_template_rows": null,
      "height": null,
      "justify_content": null,
      "justify_items": null,
      "left": null,
      "margin": null,
      "max_height": null,
      "max_width": null,
      "min_height": null,
      "min_width": null,
      "object_fit": null,
      "object_position": null,
      "order": null,
      "overflow": null,
      "overflow_x": null,
      "overflow_y": null,
      "padding": null,
      "right": null,
      "top": null,
      "visibility": null,
      "width": null
     }
    },
    "b7891a77961245d5bdfe6aff7c638373": {
     "model_module": "@jupyter-widgets/base",
     "model_module_version": "1.2.0",
     "model_name": "LayoutModel",
     "state": {
      "_model_module": "@jupyter-widgets/base",
      "_model_module_version": "1.2.0",
      "_model_name": "LayoutModel",
      "_view_count": null,
      "_view_module": "@jupyter-widgets/base",
      "_view_module_version": "1.2.0",
      "_view_name": "LayoutView",
      "align_content": null,
      "align_items": null,
      "align_self": null,
      "border": null,
      "bottom": null,
      "display": null,
      "flex": null,
      "flex_flow": null,
      "grid_area": null,
      "grid_auto_columns": null,
      "grid_auto_flow": null,
      "grid_auto_rows": null,
      "grid_column": null,
      "grid_gap": null,
      "grid_row": null,
      "grid_template_areas": null,
      "grid_template_columns": null,
      "grid_template_rows": null,
      "height": null,
      "justify_content": null,
      "justify_items": null,
      "left": null,
      "margin": null,
      "max_height": null,
      "max_width": null,
      "min_height": null,
      "min_width": null,
      "object_fit": null,
      "object_position": null,
      "order": null,
      "overflow": null,
      "overflow_x": null,
      "overflow_y": null,
      "padding": null,
      "right": null,
      "top": null,
      "visibility": null,
      "width": null
     }
    },
    "bdd195b340be424faa30b4b98bf7f874": {
     "model_module": "@jupyter-widgets/base",
     "model_module_version": "1.2.0",
     "model_name": "LayoutModel",
     "state": {
      "_model_module": "@jupyter-widgets/base",
      "_model_module_version": "1.2.0",
      "_model_name": "LayoutModel",
      "_view_count": null,
      "_view_module": "@jupyter-widgets/base",
      "_view_module_version": "1.2.0",
      "_view_name": "LayoutView",
      "align_content": null,
      "align_items": null,
      "align_self": null,
      "border": null,
      "bottom": null,
      "display": null,
      "flex": null,
      "flex_flow": null,
      "grid_area": null,
      "grid_auto_columns": null,
      "grid_auto_flow": null,
      "grid_auto_rows": null,
      "grid_column": null,
      "grid_gap": null,
      "grid_row": null,
      "grid_template_areas": null,
      "grid_template_columns": null,
      "grid_template_rows": null,
      "height": null,
      "justify_content": null,
      "justify_items": null,
      "left": null,
      "margin": null,
      "max_height": null,
      "max_width": null,
      "min_height": null,
      "min_width": null,
      "object_fit": null,
      "object_position": null,
      "order": null,
      "overflow": null,
      "overflow_x": null,
      "overflow_y": null,
      "padding": null,
      "right": null,
      "top": null,
      "visibility": null,
      "width": null
     }
    },
    "c49511b787b1495ab8b8e53d50b12137": {
     "model_module": "@jupyter-widgets/base",
     "model_module_version": "1.2.0",
     "model_name": "LayoutModel",
     "state": {
      "_model_module": "@jupyter-widgets/base",
      "_model_module_version": "1.2.0",
      "_model_name": "LayoutModel",
      "_view_count": null,
      "_view_module": "@jupyter-widgets/base",
      "_view_module_version": "1.2.0",
      "_view_name": "LayoutView",
      "align_content": null,
      "align_items": null,
      "align_self": null,
      "border": null,
      "bottom": null,
      "display": null,
      "flex": null,
      "flex_flow": null,
      "grid_area": null,
      "grid_auto_columns": null,
      "grid_auto_flow": null,
      "grid_auto_rows": null,
      "grid_column": null,
      "grid_gap": null,
      "grid_row": null,
      "grid_template_areas": null,
      "grid_template_columns": null,
      "grid_template_rows": null,
      "height": null,
      "justify_content": null,
      "justify_items": null,
      "left": null,
      "margin": null,
      "max_height": null,
      "max_width": null,
      "min_height": null,
      "min_width": null,
      "object_fit": null,
      "object_position": null,
      "order": null,
      "overflow": null,
      "overflow_x": null,
      "overflow_y": null,
      "padding": null,
      "right": null,
      "top": null,
      "visibility": null,
      "width": null
     }
    },
    "c559e3f09f444ca2b12381822dd58e19": {
     "model_module": "@jupyter-widgets/base",
     "model_module_version": "1.2.0",
     "model_name": "LayoutModel",
     "state": {
      "_model_module": "@jupyter-widgets/base",
      "_model_module_version": "1.2.0",
      "_model_name": "LayoutModel",
      "_view_count": null,
      "_view_module": "@jupyter-widgets/base",
      "_view_module_version": "1.2.0",
      "_view_name": "LayoutView",
      "align_content": null,
      "align_items": null,
      "align_self": null,
      "border": null,
      "bottom": null,
      "display": null,
      "flex": null,
      "flex_flow": null,
      "grid_area": null,
      "grid_auto_columns": null,
      "grid_auto_flow": null,
      "grid_auto_rows": null,
      "grid_column": null,
      "grid_gap": null,
      "grid_row": null,
      "grid_template_areas": null,
      "grid_template_columns": null,
      "grid_template_rows": null,
      "height": null,
      "justify_content": null,
      "justify_items": null,
      "left": null,
      "margin": null,
      "max_height": null,
      "max_width": null,
      "min_height": null,
      "min_width": null,
      "object_fit": null,
      "object_position": null,
      "order": null,
      "overflow": null,
      "overflow_x": null,
      "overflow_y": null,
      "padding": null,
      "right": null,
      "top": null,
      "visibility": null,
      "width": null
     }
    },
    "c70e53d150ca453e901191fada274d92": {
     "model_module": "@jupyter-widgets/controls",
     "model_module_version": "1.5.0",
     "model_name": "DescriptionStyleModel",
     "state": {
      "_model_module": "@jupyter-widgets/controls",
      "_model_module_version": "1.5.0",
      "_model_name": "DescriptionStyleModel",
      "_view_count": null,
      "_view_module": "@jupyter-widgets/base",
      "_view_module_version": "1.2.0",
      "_view_name": "StyleView",
      "description_width": ""
     }
    },
    "c763f1d1f248475c8af0129d79e791fe": {
     "model_module": "@jupyter-widgets/controls",
     "model_module_version": "1.5.0",
     "model_name": "DescriptionStyleModel",
     "state": {
      "_model_module": "@jupyter-widgets/controls",
      "_model_module_version": "1.5.0",
      "_model_name": "DescriptionStyleModel",
      "_view_count": null,
      "_view_module": "@jupyter-widgets/base",
      "_view_module_version": "1.2.0",
      "_view_name": "StyleView",
      "description_width": ""
     }
    },
    "c78440f94f77457f9752403933fa1bac": {
     "model_module": "@jupyter-widgets/controls",
     "model_module_version": "1.5.0",
     "model_name": "HBoxModel",
     "state": {
      "_dom_classes": [],
      "_model_module": "@jupyter-widgets/controls",
      "_model_module_version": "1.5.0",
      "_model_name": "HBoxModel",
      "_view_count": null,
      "_view_module": "@jupyter-widgets/controls",
      "_view_module_version": "1.5.0",
      "_view_name": "HBoxView",
      "box_style": "",
      "children": [
       "IPY_MODEL_e180de6f2d0c47b6bfce088fc83803de",
       "IPY_MODEL_77926a9d9cbd4370b59ee799d5580696",
       "IPY_MODEL_e83139ac0dbe46f7b5f0d03b8745ba4d"
      ],
      "layout": "IPY_MODEL_cab2b7d22a194ab4a1d822e3094dac8e"
     }
    },
    "c7d95d4096a144a6855ae52d3eba19e6": {
     "model_module": "@jupyter-widgets/controls",
     "model_module_version": "1.5.0",
     "model_name": "HTMLModel",
     "state": {
      "_dom_classes": [],
      "_model_module": "@jupyter-widgets/controls",
      "_model_module_version": "1.5.0",
      "_model_name": "HTMLModel",
      "_view_count": null,
      "_view_module": "@jupyter-widgets/controls",
      "_view_module_version": "1.5.0",
      "_view_name": "HTMLView",
      "description": "",
      "description_tooltip": null,
      "layout": "IPY_MODEL_77a24aaf48da4d85b5d7fd39b33131f9",
      "placeholder": "​",
      "style": "IPY_MODEL_0d08be47053e45bcaae7602715569d3b",
      "value": "Downloading (…)bb8001fa/config.json: 100%"
     }
    },
    "c8bd25c4a5de44f886b94d90274ec3b1": {
     "model_module": "@jupyter-widgets/base",
     "model_module_version": "1.2.0",
     "model_name": "LayoutModel",
     "state": {
      "_model_module": "@jupyter-widgets/base",
      "_model_module_version": "1.2.0",
      "_model_name": "LayoutModel",
      "_view_count": null,
      "_view_module": "@jupyter-widgets/base",
      "_view_module_version": "1.2.0",
      "_view_name": "LayoutView",
      "align_content": null,
      "align_items": null,
      "align_self": null,
      "border": null,
      "bottom": null,
      "display": null,
      "flex": null,
      "flex_flow": null,
      "grid_area": null,
      "grid_auto_columns": null,
      "grid_auto_flow": null,
      "grid_auto_rows": null,
      "grid_column": null,
      "grid_gap": null,
      "grid_row": null,
      "grid_template_areas": null,
      "grid_template_columns": null,
      "grid_template_rows": null,
      "height": null,
      "justify_content": null,
      "justify_items": null,
      "left": null,
      "margin": null,
      "max_height": null,
      "max_width": null,
      "min_height": null,
      "min_width": null,
      "object_fit": null,
      "object_position": null,
      "order": null,
      "overflow": null,
      "overflow_x": null,
      "overflow_y": null,
      "padding": null,
      "right": null,
      "top": null,
      "visibility": null,
      "width": null
     }
    },
    "cab2b7d22a194ab4a1d822e3094dac8e": {
     "model_module": "@jupyter-widgets/base",
     "model_module_version": "1.2.0",
     "model_name": "LayoutModel",
     "state": {
      "_model_module": "@jupyter-widgets/base",
      "_model_module_version": "1.2.0",
      "_model_name": "LayoutModel",
      "_view_count": null,
      "_view_module": "@jupyter-widgets/base",
      "_view_module_version": "1.2.0",
      "_view_name": "LayoutView",
      "align_content": null,
      "align_items": null,
      "align_self": null,
      "border": null,
      "bottom": null,
      "display": null,
      "flex": null,
      "flex_flow": null,
      "grid_area": null,
      "grid_auto_columns": null,
      "grid_auto_flow": null,
      "grid_auto_rows": null,
      "grid_column": null,
      "grid_gap": null,
      "grid_row": null,
      "grid_template_areas": null,
      "grid_template_columns": null,
      "grid_template_rows": null,
      "height": null,
      "justify_content": null,
      "justify_items": null,
      "left": null,
      "margin": null,
      "max_height": null,
      "max_width": null,
      "min_height": null,
      "min_width": null,
      "object_fit": null,
      "object_position": null,
      "order": null,
      "overflow": null,
      "overflow_x": null,
      "overflow_y": null,
      "padding": null,
      "right": null,
      "top": null,
      "visibility": null,
      "width": null
     }
    },
    "cbd37f9e1b1c433aa9040d8afa7ce9a6": {
     "model_module": "@jupyter-widgets/controls",
     "model_module_version": "1.5.0",
     "model_name": "DescriptionStyleModel",
     "state": {
      "_model_module": "@jupyter-widgets/controls",
      "_model_module_version": "1.5.0",
      "_model_name": "DescriptionStyleModel",
      "_view_count": null,
      "_view_module": "@jupyter-widgets/base",
      "_view_module_version": "1.2.0",
      "_view_name": "StyleView",
      "description_width": ""
     }
    },
    "cc250f2b5c8c4431b9c8ccb6535352f2": {
     "model_module": "@jupyter-widgets/base",
     "model_module_version": "1.2.0",
     "model_name": "LayoutModel",
     "state": {
      "_model_module": "@jupyter-widgets/base",
      "_model_module_version": "1.2.0",
      "_model_name": "LayoutModel",
      "_view_count": null,
      "_view_module": "@jupyter-widgets/base",
      "_view_module_version": "1.2.0",
      "_view_name": "LayoutView",
      "align_content": null,
      "align_items": null,
      "align_self": null,
      "border": null,
      "bottom": null,
      "display": null,
      "flex": null,
      "flex_flow": null,
      "grid_area": null,
      "grid_auto_columns": null,
      "grid_auto_flow": null,
      "grid_auto_rows": null,
      "grid_column": null,
      "grid_gap": null,
      "grid_row": null,
      "grid_template_areas": null,
      "grid_template_columns": null,
      "grid_template_rows": null,
      "height": null,
      "justify_content": null,
      "justify_items": null,
      "left": null,
      "margin": null,
      "max_height": null,
      "max_width": null,
      "min_height": null,
      "min_width": null,
      "object_fit": null,
      "object_position": null,
      "order": null,
      "overflow": null,
      "overflow_x": null,
      "overflow_y": null,
      "padding": null,
      "right": null,
      "top": null,
      "visibility": null,
      "width": null
     }
    },
    "d996b1ce1c694075a3a3cf2b432b051f": {
     "model_module": "@jupyter-widgets/controls",
     "model_module_version": "1.5.0",
     "model_name": "DescriptionStyleModel",
     "state": {
      "_model_module": "@jupyter-widgets/controls",
      "_model_module_version": "1.5.0",
      "_model_name": "DescriptionStyleModel",
      "_view_count": null,
      "_view_module": "@jupyter-widgets/base",
      "_view_module_version": "1.2.0",
      "_view_name": "StyleView",
      "description_width": ""
     }
    },
    "db0676a1bedc4f95a89514a80ba85fdb": {
     "model_module": "@jupyter-widgets/base",
     "model_module_version": "1.2.0",
     "model_name": "LayoutModel",
     "state": {
      "_model_module": "@jupyter-widgets/base",
      "_model_module_version": "1.2.0",
      "_model_name": "LayoutModel",
      "_view_count": null,
      "_view_module": "@jupyter-widgets/base",
      "_view_module_version": "1.2.0",
      "_view_name": "LayoutView",
      "align_content": null,
      "align_items": null,
      "align_self": null,
      "border": null,
      "bottom": null,
      "display": null,
      "flex": null,
      "flex_flow": null,
      "grid_area": null,
      "grid_auto_columns": null,
      "grid_auto_flow": null,
      "grid_auto_rows": null,
      "grid_column": null,
      "grid_gap": null,
      "grid_row": null,
      "grid_template_areas": null,
      "grid_template_columns": null,
      "grid_template_rows": null,
      "height": null,
      "justify_content": null,
      "justify_items": null,
      "left": null,
      "margin": null,
      "max_height": null,
      "max_width": null,
      "min_height": null,
      "min_width": null,
      "object_fit": null,
      "object_position": null,
      "order": null,
      "overflow": null,
      "overflow_x": null,
      "overflow_y": null,
      "padding": null,
      "right": null,
      "top": null,
      "visibility": null,
      "width": null
     }
    },
    "de598a810ed348f3b99703ee2df5d7ab": {
     "model_module": "@jupyter-widgets/base",
     "model_module_version": "1.2.0",
     "model_name": "LayoutModel",
     "state": {
      "_model_module": "@jupyter-widgets/base",
      "_model_module_version": "1.2.0",
      "_model_name": "LayoutModel",
      "_view_count": null,
      "_view_module": "@jupyter-widgets/base",
      "_view_module_version": "1.2.0",
      "_view_name": "LayoutView",
      "align_content": null,
      "align_items": null,
      "align_self": null,
      "border": null,
      "bottom": null,
      "display": null,
      "flex": null,
      "flex_flow": null,
      "grid_area": null,
      "grid_auto_columns": null,
      "grid_auto_flow": null,
      "grid_auto_rows": null,
      "grid_column": null,
      "grid_gap": null,
      "grid_row": null,
      "grid_template_areas": null,
      "grid_template_columns": null,
      "grid_template_rows": null,
      "height": null,
      "justify_content": null,
      "justify_items": null,
      "left": null,
      "margin": null,
      "max_height": null,
      "max_width": null,
      "min_height": null,
      "min_width": null,
      "object_fit": null,
      "object_position": null,
      "order": null,
      "overflow": null,
      "overflow_x": null,
      "overflow_y": null,
      "padding": null,
      "right": null,
      "top": null,
      "visibility": null,
      "width": null
     }
    },
    "e08c40099bcb4386a5d9196c7fe60c92": {
     "model_module": "@jupyter-widgets/controls",
     "model_module_version": "1.5.0",
     "model_name": "HTMLModel",
     "state": {
      "_dom_classes": [],
      "_model_module": "@jupyter-widgets/controls",
      "_model_module_version": "1.5.0",
      "_model_name": "HTMLModel",
      "_view_count": null,
      "_view_module": "@jupyter-widgets/controls",
      "_view_module_version": "1.5.0",
      "_view_name": "HTMLView",
      "description": "",
      "description_tooltip": null,
      "layout": "IPY_MODEL_f45b2cc72b5b46a995f4be2879f1f07a",
      "placeholder": "​",
      "style": "IPY_MODEL_e92ae9cf534b46c2b81abf2b86b6053a",
      "value": "Downloading (…)ce_transformers.json: 100%"
     }
    },
    "e0ac3a5b158f47bb901391da8c977269": {
     "model_module": "@jupyter-widgets/controls",
     "model_module_version": "1.5.0",
     "model_name": "HBoxModel",
     "state": {
      "_dom_classes": [],
      "_model_module": "@jupyter-widgets/controls",
      "_model_module_version": "1.5.0",
      "_model_name": "HBoxModel",
      "_view_count": null,
      "_view_module": "@jupyter-widgets/controls",
      "_view_module_version": "1.5.0",
      "_view_name": "HBoxView",
      "box_style": "",
      "children": [
       "IPY_MODEL_e08c40099bcb4386a5d9196c7fe60c92",
       "IPY_MODEL_1f44d5f8dfc94d0cbc15c6d03f63461f",
       "IPY_MODEL_e5eec581a3c943eb8ba67049f051519a"
      ],
      "layout": "IPY_MODEL_aac6718eb17c4cd5913a37417394121a"
     }
    },
    "e180de6f2d0c47b6bfce088fc83803de": {
     "model_module": "@jupyter-widgets/controls",
     "model_module_version": "1.5.0",
     "model_name": "HTMLModel",
     "state": {
      "_dom_classes": [],
      "_model_module": "@jupyter-widgets/controls",
      "_model_module_version": "1.5.0",
      "_model_name": "HTMLModel",
      "_view_count": null,
      "_view_module": "@jupyter-widgets/controls",
      "_view_module_version": "1.5.0",
      "_view_name": "HTMLView",
      "description": "",
      "description_tooltip": null,
      "layout": "IPY_MODEL_753ef6203f6b4f42a5f83b96f00e7516",
      "placeholder": "​",
      "style": "IPY_MODEL_2ba3cc1d6cb14bb5926548dc8139fecd",
      "value": "Downloading (…)nce_bert_config.json: 100%"
     }
    },
    "e33aaab8459b49798d7a7693c8380fcf": {
     "model_module": "@jupyter-widgets/controls",
     "model_module_version": "1.5.0",
     "model_name": "HTMLModel",
     "state": {
      "_dom_classes": [],
      "_model_module": "@jupyter-widgets/controls",
      "_model_module_version": "1.5.0",
      "_model_name": "HTMLModel",
      "_view_count": null,
      "_view_module": "@jupyter-widgets/controls",
      "_view_module_version": "1.5.0",
      "_view_name": "HTMLView",
      "description": "",
      "description_tooltip": null,
      "layout": "IPY_MODEL_438ae0dc98fc49fe9622f2ca6bcd7d60",
      "placeholder": "​",
      "style": "IPY_MODEL_ae914fe1f3d440efacc13d2dc775417d",
      "value": " 232k/232k [00:00&lt;00:00, 6.87MB/s]"
     }
    },
    "e5260e7642524d679a35589530b6692a": {
     "model_module": "@jupyter-widgets/controls",
     "model_module_version": "1.5.0",
     "model_name": "HTMLModel",
     "state": {
      "_dom_classes": [],
      "_model_module": "@jupyter-widgets/controls",
      "_model_module_version": "1.5.0",
      "_model_name": "HTMLModel",
      "_view_count": null,
      "_view_module": "@jupyter-widgets/controls",
      "_view_module_version": "1.5.0",
      "_view_name": "HTMLView",
      "description": "",
      "description_tooltip": null,
      "layout": "IPY_MODEL_9f0c0750d91a4474b124d9b3c699f5af",
      "placeholder": "​",
      "style": "IPY_MODEL_24bccd99ce094a9ca9f73aa1ef0d4a1b",
      "value": "Downloading (…)3bbb8001fa/README.md: 100%"
     }
    },
    "e5eec581a3c943eb8ba67049f051519a": {
     "model_module": "@jupyter-widgets/controls",
     "model_module_version": "1.5.0",
     "model_name": "HTMLModel",
     "state": {
      "_dom_classes": [],
      "_model_module": "@jupyter-widgets/controls",
      "_model_module_version": "1.5.0",
      "_model_name": "HTMLModel",
      "_view_count": null,
      "_view_module": "@jupyter-widgets/controls",
      "_view_module_version": "1.5.0",
      "_view_name": "HTMLView",
      "description": "",
      "description_tooltip": null,
      "layout": "IPY_MODEL_6208e5022f1e4ea9bc13b1ce4ed59932",
      "placeholder": "​",
      "style": "IPY_MODEL_c70e53d150ca453e901191fada274d92",
      "value": " 122/122 [00:00&lt;00:00, 6.71kB/s]"
     }
    },
    "e76ec015895541a59a276b0dedf85fce": {
     "model_module": "@jupyter-widgets/controls",
     "model_module_version": "1.5.0",
     "model_name": "FloatProgressModel",
     "state": {
      "_dom_classes": [],
      "_model_module": "@jupyter-widgets/controls",
      "_model_module_version": "1.5.0",
      "_model_name": "FloatProgressModel",
      "_view_count": null,
      "_view_module": "@jupyter-widgets/controls",
      "_view_module_version": "1.5.0",
      "_view_name": "ProgressView",
      "bar_style": "success",
      "description": "",
      "description_tooltip": null,
      "layout": "IPY_MODEL_13529256a79d46fbbbfaf494609327e0",
      "max": 466081,
      "min": 0,
      "orientation": "horizontal",
      "style": "IPY_MODEL_53df9b8da45f4f51a0bf332174f3d553",
      "value": 466081
     }
    },
    "e83139ac0dbe46f7b5f0d03b8745ba4d": {
     "model_module": "@jupyter-widgets/controls",
     "model_module_version": "1.5.0",
     "model_name": "HTMLModel",
     "state": {
      "_dom_classes": [],
      "_model_module": "@jupyter-widgets/controls",
      "_model_module_version": "1.5.0",
      "_model_name": "HTMLModel",
      "_view_count": null,
      "_view_module": "@jupyter-widgets/controls",
      "_view_module_version": "1.5.0",
      "_view_name": "HTMLView",
      "description": "",
      "description_tooltip": null,
      "layout": "IPY_MODEL_0beddc365b094536a7367c8a7f7cc54f",
      "placeholder": "​",
      "style": "IPY_MODEL_6cf8bbe4b173498e9f64c05a6793273e",
      "value": " 53.0/53.0 [00:00&lt;00:00, 1.86kB/s]"
     }
    },
    "e8d851736bbe4d1395e2e0801daa60ac": {
     "model_module": "@jupyter-widgets/controls",
     "model_module_version": "1.5.0",
     "model_name": "HTMLModel",
     "state": {
      "_dom_classes": [],
      "_model_module": "@jupyter-widgets/controls",
      "_model_module_version": "1.5.0",
      "_model_name": "HTMLModel",
      "_view_count": null,
      "_view_module": "@jupyter-widgets/controls",
      "_view_module_version": "1.5.0",
      "_view_name": "HTMLView",
      "description": "",
      "description_tooltip": null,
      "layout": "IPY_MODEL_9427e345f83d47819a4069e550c3b69b",
      "placeholder": "​",
      "style": "IPY_MODEL_431147d89adc4e738f7bd96f8edaed64",
      "value": " 229/229 [00:00&lt;00:00, 8.78kB/s]"
     }
    },
    "e92ae9cf534b46c2b81abf2b86b6053a": {
     "model_module": "@jupyter-widgets/controls",
     "model_module_version": "1.5.0",
     "model_name": "DescriptionStyleModel",
     "state": {
      "_model_module": "@jupyter-widgets/controls",
      "_model_module_version": "1.5.0",
      "_model_name": "DescriptionStyleModel",
      "_view_count": null,
      "_view_module": "@jupyter-widgets/base",
      "_view_module_version": "1.2.0",
      "_view_name": "StyleView",
      "description_width": ""
     }
    },
    "eaeed180a0c047d2ac9c42e43b5e6d56": {
     "model_module": "@jupyter-widgets/controls",
     "model_module_version": "1.5.0",
     "model_name": "HTMLModel",
     "state": {
      "_dom_classes": [],
      "_model_module": "@jupyter-widgets/controls",
      "_model_module_version": "1.5.0",
      "_model_name": "HTMLModel",
      "_view_count": null,
      "_view_module": "@jupyter-widgets/controls",
      "_view_module_version": "1.5.0",
      "_view_name": "HTMLView",
      "description": "",
      "description_tooltip": null,
      "layout": "IPY_MODEL_cc250f2b5c8c4431b9c8ccb6535352f2",
      "placeholder": "​",
      "style": "IPY_MODEL_a46989f17a0745aa8aa9e5d07a729019",
      "value": "Downloading (…)_Pooling/config.json: 100%"
     }
    },
    "ee5a0dec85ab4e298a7cdff6fd3afbef": {
     "model_module": "@jupyter-widgets/controls",
     "model_module_version": "1.5.0",
     "model_name": "ProgressStyleModel",
     "state": {
      "_model_module": "@jupyter-widgets/controls",
      "_model_module_version": "1.5.0",
      "_model_name": "ProgressStyleModel",
      "_view_count": null,
      "_view_module": "@jupyter-widgets/base",
      "_view_module_version": "1.2.0",
      "_view_name": "StyleView",
      "bar_color": null,
      "description_width": ""
     }
    },
    "f45b2cc72b5b46a995f4be2879f1f07a": {
     "model_module": "@jupyter-widgets/base",
     "model_module_version": "1.2.0",
     "model_name": "LayoutModel",
     "state": {
      "_model_module": "@jupyter-widgets/base",
      "_model_module_version": "1.2.0",
      "_model_name": "LayoutModel",
      "_view_count": null,
      "_view_module": "@jupyter-widgets/base",
      "_view_module_version": "1.2.0",
      "_view_name": "LayoutView",
      "align_content": null,
      "align_items": null,
      "align_self": null,
      "border": null,
      "bottom": null,
      "display": null,
      "flex": null,
      "flex_flow": null,
      "grid_area": null,
      "grid_auto_columns": null,
      "grid_auto_flow": null,
      "grid_auto_rows": null,
      "grid_column": null,
      "grid_gap": null,
      "grid_row": null,
      "grid_template_areas": null,
      "grid_template_columns": null,
      "grid_template_rows": null,
      "height": null,
      "justify_content": null,
      "justify_items": null,
      "left": null,
      "margin": null,
      "max_height": null,
      "max_width": null,
      "min_height": null,
      "min_width": null,
      "object_fit": null,
      "object_position": null,
      "order": null,
      "overflow": null,
      "overflow_x": null,
      "overflow_y": null,
      "padding": null,
      "right": null,
      "top": null,
      "visibility": null,
      "width": null
     }
    },
    "f5607a8cd6064471bd6ee228e15dfb26": {
     "model_module": "@jupyter-widgets/base",
     "model_module_version": "1.2.0",
     "model_name": "LayoutModel",
     "state": {
      "_model_module": "@jupyter-widgets/base",
      "_model_module_version": "1.2.0",
      "_model_name": "LayoutModel",
      "_view_count": null,
      "_view_module": "@jupyter-widgets/base",
      "_view_module_version": "1.2.0",
      "_view_name": "LayoutView",
      "align_content": null,
      "align_items": null,
      "align_self": null,
      "border": null,
      "bottom": null,
      "display": null,
      "flex": null,
      "flex_flow": null,
      "grid_area": null,
      "grid_auto_columns": null,
      "grid_auto_flow": null,
      "grid_auto_rows": null,
      "grid_column": null,
      "grid_gap": null,
      "grid_row": null,
      "grid_template_areas": null,
      "grid_template_columns": null,
      "grid_template_rows": null,
      "height": null,
      "justify_content": null,
      "justify_items": null,
      "left": null,
      "margin": null,
      "max_height": null,
      "max_width": null,
      "min_height": null,
      "min_width": null,
      "object_fit": null,
      "object_position": null,
      "order": null,
      "overflow": null,
      "overflow_x": null,
      "overflow_y": null,
      "padding": null,
      "right": null,
      "top": null,
      "visibility": null,
      "width": null
     }
    },
    "f937853fdef9460ba86d3582d4aa3bc6": {
     "model_module": "@jupyter-widgets/controls",
     "model_module_version": "1.5.0",
     "model_name": "HTMLModel",
     "state": {
      "_dom_classes": [],
      "_model_module": "@jupyter-widgets/controls",
      "_model_module_version": "1.5.0",
      "_model_name": "HTMLModel",
      "_view_count": null,
      "_view_module": "@jupyter-widgets/controls",
      "_view_module_version": "1.5.0",
      "_view_name": "HTMLView",
      "description": "",
      "description_tooltip": null,
      "layout": "IPY_MODEL_6f9921491e5e411798348116aab58b6c",
      "placeholder": "​",
      "style": "IPY_MODEL_7c4134447acb472980accdd370a9571e",
      "value": " 629/629 [00:00&lt;00:00, 32.2kB/s]"
     }
    },
    "fc9da1463a964359b5cda6a879aeb786": {
     "model_module": "@jupyter-widgets/base",
     "model_module_version": "1.2.0",
     "model_name": "LayoutModel",
     "state": {
      "_model_module": "@jupyter-widgets/base",
      "_model_module_version": "1.2.0",
      "_model_name": "LayoutModel",
      "_view_count": null,
      "_view_module": "@jupyter-widgets/base",
      "_view_module_version": "1.2.0",
      "_view_name": "LayoutView",
      "align_content": null,
      "align_items": null,
      "align_self": null,
      "border": null,
      "bottom": null,
      "display": null,
      "flex": null,
      "flex_flow": null,
      "grid_area": null,
      "grid_auto_columns": null,
      "grid_auto_flow": null,
      "grid_auto_rows": null,
      "grid_column": null,
      "grid_gap": null,
      "grid_row": null,
      "grid_template_areas": null,
      "grid_template_columns": null,
      "grid_template_rows": null,
      "height": null,
      "justify_content": null,
      "justify_items": null,
      "left": null,
      "margin": null,
      "max_height": null,
      "max_width": null,
      "min_height": null,
      "min_width": null,
      "object_fit": null,
      "object_position": null,
      "order": null,
      "overflow": null,
      "overflow_x": null,
      "overflow_y": null,
      "padding": null,
      "right": null,
      "top": null,
      "visibility": null,
      "width": null
     }
    },
    "fe186d2eacf045ff91db878847d121e7": {
     "model_module": "@jupyter-widgets/controls",
     "model_module_version": "1.5.0",
     "model_name": "ProgressStyleModel",
     "state": {
      "_model_module": "@jupyter-widgets/controls",
      "_model_module_version": "1.5.0",
      "_model_name": "ProgressStyleModel",
      "_view_count": null,
      "_view_module": "@jupyter-widgets/base",
      "_view_module_version": "1.2.0",
      "_view_name": "StyleView",
      "bar_color": null,
      "description_width": ""
     }
    }
   }
  }
 },
 "nbformat": 4,
 "nbformat_minor": 4
}
